{
 "cells": [
  {
   "cell_type": "code",
   "execution_count": 64,
   "metadata": {},
   "outputs": [],
   "source": [
    "import random\n",
    "import pickle\n",
    "import numpy as np\n",
    "from tqdm import tqdm\n",
    "from skimage.measure import label\n",
    "from matplotlib import pyplot as plt\n",
    "from mpl_toolkits.mplot3d import Axes3D\n",
    "from skimage.filters import threshold_otsu\n",
    "from scipy.ndimage.filters import convolve\n",
    "from sklearn.linear_model import LogisticRegression\n",
    "from sklearn.discriminant_analysis import LinearDiscriminantAnalysis as LDA\n",
    "from sklearn.discriminant_analysis import QuadraticDiscriminantAnalysis as QDA"
   ]
  },
  {
   "cell_type": "code",
   "execution_count": 3,
   "metadata": {},
   "outputs": [
    {
     "data": {
      "text/html": [
       "<script>requirejs.config({paths: { 'plotly': ['https://cdn.plot.ly/plotly-latest.min']},});if(!window.Plotly) {{require(['plotly'],function(plotly) {window.Plotly=plotly;});}}</script>"
      ],
      "text/vnd.plotly.v1+html": [
       "<script>requirejs.config({paths: { 'plotly': ['https://cdn.plot.ly/plotly-latest.min']},});if(!window.Plotly) {{require(['plotly'],function(plotly) {window.Plotly=plotly;});}}</script>"
      ]
     },
     "metadata": {},
     "output_type": "display_data"
    }
   ],
   "source": [
    "import plotly.graph_objs as go\n",
    "from plotly.offline import download_plotlyjs, init_notebook_mode, plot, iplot\n",
    "\n",
    "init_notebook_mode(connected=True)"
   ]
  },
  {
   "cell_type": "code",
   "execution_count": 21,
   "metadata": {},
   "outputs": [
    {
     "name": "stdout",
     "output_type": "stream",
     "text": [
      "dict_keys(['synapsin', 'VGlut1', 'GABA', 'GAD2', 'PSD95', 'GluN1', 'MBP', 'Gephyrin'])\n",
      "(49, 460, 438)\n",
      "(40, 460, 438, 3)\n"
     ]
    }
   ],
   "source": [
    "data = pickle.load(open('../../../../../get_data/rorb_lm.pkl', 'rb'))\n",
    "print(data.keys())\n",
    "print(data['synapsin'].shape)\n",
    "features = np.stack([data['synapsin'][:40, :, :],\n",
    "                     data['PSD95'][:40, :, :],\n",
    "                     data['VGlut1'][:40, :, :]])\n",
    "features = np.moveaxis(features, 0, -1)\n",
    "print(features.shape)"
   ]
  },
  {
   "cell_type": "code",
   "execution_count": 8,
   "metadata": {},
   "outputs": [
    {
     "name": "stdout",
     "output_type": "stream",
     "text": [
      "dict_keys(['m247514_Site3Annotation_MN_global'])\n"
     ]
    }
   ],
   "source": [
    "labels = pickle.load(open('../../../../../get_data/rorb_annotation_downsample.pkl', 'rb'))\n",
    "print(labels.keys())"
   ]
  },
  {
   "cell_type": "code",
   "execution_count": 15,
   "metadata": {},
   "outputs": [
    {
     "data": {
      "image/png": "[encoded data removed]",
      "text/plain": [
       "<matplotlib.figure.Figure at 0x7fa77022fac8>"
      ]
     },
     "metadata": {},
     "output_type": "display_data"
    }
   ],
   "source": [
    "gt = label(labels['m247514_Site3Annotation_MN_global'])\n",
    "plt.figure()\n",
    "plt.imshow(gt[20] > 0, cmap='gray')\n",
    "plt.show()"
   ]
  },
  {
   "cell_type": "code",
   "execution_count": 24,
   "metadata": {},
   "outputs": [],
   "source": [
    "arealist = np.where(gt > 0)\n",
    "z_bounds = [np.min(arealist[0]), np.max(arealist[0])]\n",
    "y_bounds = [np.min(arealist[1]), np.max(arealist[1])]\n",
    "x_bounds = [np.min(arealist[2]), np.max(arealist[2])]"
   ]
  },
  {
   "cell_type": "code",
   "execution_count": 25,
   "metadata": {},
   "outputs": [
    {
     "name": "stdout",
     "output_type": "stream",
     "text": [
      "[0, 39]\n",
      "[152, 288]\n",
      "[149, 317]\n"
     ]
    }
   ],
   "source": [
    "print(z_bounds)\n",
    "print(y_bounds)\n",
    "print(x_bounds)"
   ]
  },
  {
   "cell_type": "code",
   "execution_count": 54,
   "metadata": {},
   "outputs": [
    {
     "name": "stdout",
     "output_type": "stream",
     "text": [
      "(39, 136, 168)\n",
      "(3, 39, 136, 168)\n"
     ]
    }
   ],
   "source": [
    "label_annot = gt[z_bounds[0]:z_bounds[1],\n",
    "                          y_bounds[0]:y_bounds[1],\n",
    "                          x_bounds[0]:x_bounds[1]]\n",
    "\n",
    "known_features = features[z_bounds[0]:z_bounds[1],\n",
    "                            y_bounds[0]:y_bounds[1],\n",
    "                            x_bounds[0]:x_bounds[1],\n",
    "                            :]\n",
    "print(label_annot.shape)\n",
    "known_features = np.moveaxis(known_features, -1, 0)\n",
    "print(known_features.shape)\n"
   ]
  },
  {
   "cell_type": "code",
   "execution_count": 55,
   "metadata": {},
   "outputs": [],
   "source": [
    "def compute_convolutional_cov(vol1, vol2, kernel_shape):\n",
    "    vol1 = (vol1 - np.mean(vol1))/np.std(vol1)\n",
    "    vol2 = (vol2 - np.mean(vol2))/np.std(vol2)\n",
    "    mu_kernel = np.ones(kernel_shape)/float(np.sum(np.ones(kernel_shape)))\n",
    "    e1 = convolve(vol1, mu_kernel)\n",
    "    e2 = convolve(vol2, mu_kernel)\n",
    "\n",
    "    e12 = convolve(np.log(np.exp(vol1)+np.exp(vol2)), mu_kernel)\n",
    "\n",
    "    cov = e12 - np.log(np.exp(e1) + np.exp(e2))\n",
    "\n",
    "    return cov"
   ]
  },
  {
   "cell_type": "code",
   "execution_count": 56,
   "metadata": {},
   "outputs": [
    {
     "name": "stdout",
     "output_type": "stream",
     "text": [
      "(4, 39, 136, 168)\n"
     ]
    }
   ],
   "source": [
    "ccov_vol = compute_convolutional_cov(known_features[0],\n",
    "                                     known_features[1],\n",
    "                                    (2, 3, 3))\n",
    "feature_data = [elem for elem in known_features]\n",
    "feature_data.append(ccov_vol)\n",
    "feature_data = np.stack(feature_data)\n",
    "print(feature_data.shape)"
   ]
  },
  {
   "cell_type": "code",
   "execution_count": 70,
   "metadata": {},
   "outputs": [],
   "source": [
    "def get_train_idx_list(ratio):\n",
    "    print('1')\n",
    "    synapses = np.unique(label_annot)\n",
    "    print('2')\n",
    "    slice_max = int(ratio * len(synapses))\n",
    "    print('3')\n",
    "    random.shuffle(synapses)\n",
    "    train_set = synapses[:slice_max]\n",
    "    return train_set"
   ]
  },
  {
   "cell_type": "code",
   "execution_count": 80,
   "metadata": {},
   "outputs": [],
   "source": [
    "def make_positive_feature_vector(train_idx, r):\n",
    "    centroid = [int(np.mean(elem))\\\n",
    "                for elem in np.where(label_annot == train_idx)]\n",
    "    minz = max(int(centroid[0]-r/2), 0)\n",
    "    maxz = min(int(centroid[0]+r/2), 39)\n",
    "    \n",
    "    miny = max(centroid[1]-r, 0)\n",
    "    maxy = min(centroid[1]+r, 136)\n",
    "    \n",
    "    minx = max(centroid[2]-r, 0)\n",
    "    maxx = min(centroid[2]+r, 168)\n",
    "    \n",
    "    cutout = feature_data[:, minz:maxz, miny:maxy, minx:maxx]\n",
    "    feature_vector = [np.mean(cutout[i]) for i in range(feature_data.shape[0])]\n",
    "    return feature_vector"
   ]
  },
  {
   "cell_type": "code",
   "execution_count": 81,
   "metadata": {},
   "outputs": [],
   "source": [
    "def propose_negative_coordinates(r):\n",
    "    centroid = [int(np.random.random() * (elem-1))\\\n",
    "                          for elem in feature_data.shape[1:]]\n",
    "    \n",
    "    minz = max(int(centroid[0]-r/2), 0)\n",
    "    maxz = min(int(centroid[0]+r/2), 39)\n",
    "    \n",
    "    miny = max(centroid[1]-r, 0)\n",
    "    maxy = min(centroid[1]+r, 136)\n",
    "    \n",
    "    minx = max(centroid[2]-r, 0)\n",
    "    maxx = min(centroid[2]+r, 168)\n",
    "   \n",
    "    return minz, maxz, miny, maxy, minx, maxx\n",
    "    \n",
    "    \n",
    "def make_negative_feature_vector(r):\n",
    "    minz, maxz, miny, maxy, minx, maxx = propose_negative_coordinates(r)\n",
    "    while np.max(label_annot[minz:maxz, miny:maxy, minx:maxx]) > 0:\n",
    "        minz, maxz, miny, maxy, minx, maxx = propose_negative_coordinates(r)\n",
    "    \n",
    "    cutout = feature_data[:, minz:maxz, miny:maxy, minx:maxx]\n",
    "    feature_vector = [np.mean(cutout[i]) for i in range(feature_data.shape[0])]\n",
    "    return feature_vector"
   ]
  },
  {
   "cell_type": "code",
   "execution_count": 82,
   "metadata": {},
   "outputs": [],
   "source": [
    "def run_lda_sim(train_ratio, radius):\n",
    "    #get random data split\n",
    "    train_idx_list = get_train_idx_list(train_ratio)\n",
    "    train_positives = [make_positive_feature_vector(train_idx, radius)\\\n",
    "                       for train_idx in train_idx_list]\n",
    "    train_negatives = [make_negative_feature_vector(radius)\\\n",
    "                       for _ in train_positives]\n",
    "    \n",
    "    train_feature_vectors = train_positives + train_negatives\n",
    "    train_labels = [1 for _ in train_positives] + [0 for _ in train_negatives]\n",
    "    \n",
    "    #train model\n",
    "    lda_model = LDA()\n",
    "    lda_model.fit(train_feature_vectors, train_labels)\n",
    "    \n",
    "    #test model\n",
    "    test_positive_idx_list = [elem\\\n",
    "                              for elem in np.unique(label_annot)\\\n",
    "                              if not elem in train_idx_list]\n",
    "    \n",
    "    test_positives = [make_positive_feature_vector(elem, radius)\\\n",
    "                      for elem in test_positive_idx_list]\n",
    "    \n",
    "    test_negatives = [make_negative_feature_vector(radius)\\\n",
    "                      for _ in train_positives]\n",
    "    \n",
    "    positive_predictions = lda_model.predict(test_positives)\n",
    "    negative_predictions = lda_model.predict(test_negatives)\n",
    "    \n",
    "    #compute precision and recall\n",
    "    rec = np.sum(positive_predictions)/len(test_positives)\n",
    "    prec = np.sum(positive_predictions)/(np.sum(positive_predictions) + np.sum(negative_predictions))\n",
    "    \n",
    "    return prec, rec, len(train_feature_vectors)"
   ]
  },
  {
   "cell_type": "code",
   "execution_count": 83,
   "metadata": {},
   "outputs": [],
   "source": [
    "def run_qda_sim(train_ratio, radius):\n",
    "    #get random data split\n",
    "    train_idx_list = get_train_idx_list(train_ratio)\n",
    "    train_positives = [make_positive_feature_vector(train_idx, radius)\\\n",
    "                       for train_idx in train_idx_list]\n",
    "    train_negatives = [make_negative_feature_vector(radius)\\\n",
    "                       for _ in train_positives]\n",
    "    \n",
    "    train_feature_vectors = train_positives + train_negatives\n",
    "    train_labels = [1 for _ in train_positives] + [0 for _ in train_negatives]\n",
    "    \n",
    "    #train model\n",
    "    lda_model = QDA()\n",
    "    lda_model.fit(train_feature_vectors, train_labels)\n",
    "    \n",
    "    #test model\n",
    "    test_positive_idx_list = [elem\\\n",
    "                              for elem in np.unique(label_annot)\\\n",
    "                              if not elem in train_idx_list]\n",
    "    \n",
    "    test_positives = [make_positive_feature_vector(elem, radius)\\\n",
    "                      for elem in test_positive_idx_list]\n",
    "    \n",
    "    test_negatives = [make_negative_feature_vector(radius)\\\n",
    "                      for _ in train_positives]\n",
    "    \n",
    "    positive_predictions = lda_model.predict(test_positives)\n",
    "    negative_predictions = lda_model.predict(test_negatives)\n",
    "    \n",
    "    #compute precision and recall\n",
    "    rec = np.sum(positive_predictions)/len(test_positives)\n",
    "    prec = np.sum(positive_predictions)/(np.sum(positive_predictions) + np.sum(negative_predictions))\n",
    "    \n",
    "    return prec, rec, len(train_feature_vectors)"
   ]
  },
  {
   "cell_type": "code",
   "execution_count": 84,
   "metadata": {
    "scrolled": true
   },
   "outputs": [
    {
     "name": "stdout",
     "output_type": "stream",
     "text": [
      "radius:  2\n",
      "1\n",
      "2\n",
      "3\n",
      "a\n",
      "b\n",
      "c\n",
      "d\n",
      "e\n",
      "1\n",
      "2\n",
      "3\n",
      "a\n",
      "b\n",
      "c\n",
      "d\n",
      "e\n",
      "1\n",
      "2\n",
      "3\n",
      "a\n",
      "b\n",
      "c\n",
      "d\n",
      "e\n",
      "radius:  4\n",
      "1\n",
      "2\n",
      "3\n",
      "a\n",
      "b\n",
      "c\n",
      "d\n",
      "e\n",
      "1\n",
      "2\n",
      "3\n",
      "a\n",
      "b\n",
      "c\n",
      "d\n",
      "e\n",
      "1\n",
      "2\n",
      "3\n",
      "a\n",
      "b\n",
      "c\n",
      "d\n",
      "e\n",
      "radius:  6\n",
      "1\n",
      "2\n",
      "3\n",
      "a\n",
      "b\n",
      "c\n",
      "d\n",
      "e\n",
      "1\n",
      "2\n",
      "3\n",
      "a\n",
      "b\n",
      "c\n",
      "d\n",
      "e\n",
      "1\n",
      "2\n",
      "3\n",
      "a\n",
      "b\n",
      "c\n",
      "d\n",
      "e\n",
      "radius:  8\n",
      "1\n",
      "2\n",
      "3\n",
      "a\n",
      "b\n",
      "c\n",
      "d\n",
      "e\n",
      "1\n",
      "2\n",
      "3\n",
      "a\n",
      "b\n",
      "c\n",
      "d\n",
      "e\n",
      "1\n",
      "2\n",
      "3\n",
      "a\n",
      "b\n",
      "c\n",
      "d\n",
      "e\n"
     ]
    }
   ],
   "source": [
    "lda_trial_summaries = []\n",
    "for radius in [2, 4, 6, 8]:\n",
    "    print('radius: ', radius)\n",
    "    prec_list = []\n",
    "    rec_list = []\n",
    "    for i in range(3):\n",
    "        prec, rec, n = run_lda_sim(.3, radius)\n",
    "        prec_list.append(prec)\n",
    "        rec_list.append(rec)\n",
    "    lda_trial_summaries.append({'train_samples': n,\n",
    "                            'radius': radius,\n",
    "                            'ave_prec': np.mean(prec_list),\n",
    "                            'var_prec': np.var(prec_list),\n",
    "                            'ave_rec': np.mean(rec_list),\n",
    "                            'var_rec': np.var(rec_list)})"
   ]
  },
  {
   "cell_type": "code",
   "execution_count": 92,
   "metadata": {
    "scrolled": true
   },
   "outputs": [
    {
     "name": "stdout",
     "output_type": "stream",
     "text": [
      "1\n",
      "2\n",
      "3\n",
      "1\n",
      "2\n",
      "3\n",
      "1\n",
      "2\n",
      "3\n",
      "1\n",
      "2\n",
      "3\n",
      "1\n",
      "2\n",
      "3\n",
      "1\n",
      "2\n",
      "3\n",
      "1\n",
      "2\n",
      "3\n",
      "1\n",
      "2\n",
      "3\n",
      "1\n",
      "2\n",
      "3\n",
      "1\n",
      "2\n",
      "3\n",
      "1\n",
      "2\n",
      "3\n",
      "1\n",
      "2\n",
      "3\n"
     ]
    }
   ],
   "source": [
    "qda_trial_summaries = []\n",
    "for radius in [2, 4, 6, 8]:\n",
    "    prec_list = []\n",
    "    rec_list = []\n",
    "    for i in range(3):\n",
    "        prec, rec, n = run_qda_sim(.33, radius)\n",
    "        prec_list.append(prec)\n",
    "        rec_list.append(rec)\n",
    "    qda_trial_summaries.append({'train_samples': n,\n",
    "                            'radius': radius,\n",
    "                            'ave_prec': np.mean(prec_list),\n",
    "                            'var_prec': np.var(prec_list),\n",
    "                            'ave_rec': np.mean(rec_list),\n",
    "                            'var_rec': np.var(rec_list)})"
   ]
  },
  {
   "cell_type": "code",
   "execution_count": 97,
   "metadata": {},
   "outputs": [
    {
     "data": {
      "image/png": "[encoded data removed]",
      "text/plain": [
       "<matplotlib.figure.Figure at 0x7fa76f7b8780>"
      ]
     },
     "metadata": {},
     "output_type": "display_data"
    },
    {
     "data": {
      "image/png": "[encoded data removed]",
      "text/plain": [
       "<matplotlib.figure.Figure at 0x7fa76fd2ada0>"
      ]
     },
     "metadata": {},
     "output_type": "display_data"
    },
    {
     "data": {
      "image/png": "[encoded data removed]",
      "text/plain": [
       "<matplotlib.figure.Figure at 0x7fa76f5bccc0>"
      ]
     },
     "metadata": {},
     "output_type": "display_data"
    }
   ],
   "source": [
    "plt.figure()\n",
    "xs = [elem['radius'] *.05 for elem in lda_trial_summaries]\n",
    "ys = [2*elem['ave_prec']*elem['ave_rec']/(elem['ave_prec']+elem['ave_rec']) for elem in lda_trial_summaries]\n",
    "plt.plot(xs, ys, label='LDA+CCOV')\n",
    "\n",
    "xs = [elem['radius'] *.05 for elem in qda_trial_summaries]\n",
    "ys = [2*elem['ave_prec']*elem['ave_rec']/(elem['ave_prec']+elem['ave_rec']) for elem in qda_trial_summaries]\n",
    "plt.plot(xs, ys, label='QDA+CCOV')\n",
    "\n",
    "plt.title('3-Fold Test with 33% Train 66% Test on RORB')\n",
    "plt.xlabel('Radius (microns)')\n",
    "plt.ylabel('F1')\n",
    "plt.legend()\n",
    "plt.show()\n",
    "\n",
    "plt.figure()\n",
    "xs = [elem['radius'] * .05 for elem in lda_trial_summaries]\n",
    "ys = [elem['ave_prec'] for elem in lda_trial_summaries]\n",
    "plt.plot(xs, ys, label='LDA+CCOV')\n",
    "\n",
    "\n",
    "xs = [elem['radius'] * .05 for elem in qda_trial_summaries]\n",
    "ys = [elem['ave_prec'] for elem in qda_trial_summaries]\n",
    "plt.plot(xs, ys, label='QDA+CCOV')\n",
    "plt.title('3-Fold Test with 33% Train 66% Test on RORB')\n",
    "plt.xlabel('Radius (microns)')\n",
    "plt.ylabel('Precision')\n",
    "plt.legend()\n",
    "plt.show()\n",
    "\n",
    "plt.figure()\n",
    "xs = [elem['radius'] * .05 for elem in lda_trial_summaries ]\n",
    "ys = [elem['ave_rec'] for elem in lda_trial_summaries]\n",
    "plt.plot(xs, ys, label='LDA+CCOV')\n",
    "\n",
    "xs = [elem['radius'] *.05 for elem in qda_trial_summaries]\n",
    "ys = [elem['ave_rec'] for elem in qda_trial_summaries]\n",
    "plt.plot(xs, ys, label='QDA+CCOV')\n",
    "\n",
    "plt.title('3-Fold Test with 33% Train 66% Test on RORB')\n",
    "plt.xlabel('Radius (microns)')\n",
    "plt.ylabel('Recall')\n",
    "plt.legend()\n",
    "plt.show()\n"
   ]
  },
  {
   "cell_type": "code",
   "execution_count": 98,
   "metadata": {},
   "outputs": [
    {
     "name": "stdout",
     "output_type": "stream",
     "text": [
      "1\n",
      "2\n",
      "3\n"
     ]
    },
    {
     "data": {
      "text/plain": [
       "QuadraticDiscriminantAnalysis(priors=None, reg_param=0.0,\n",
       "               store_covariance=False, store_covariances=None, tol=0.0001)"
      ]
     },
     "execution_count": 98,
     "metadata": {},
     "output_type": "execute_result"
    }
   ],
   "source": [
    "#get random data split\n",
    "train_idx_list = get_train_idx_list(.33)\n",
    "train_positives = [make_positive_feature_vector(train_idx, 4)\\\n",
    "                   for train_idx in train_idx_list]\n",
    "train_negatives = [make_negative_feature_vector(4)\\\n",
    "                   for _ in train_positives]\n",
    "\n",
    "train_feature_vectors = train_positives + train_negatives\n",
    "train_labels = [1 for _ in train_positives] + [0 for _ in train_negatives]\n",
    "\n",
    "#train models\n",
    "lda_model = LDA()\n",
    "lda_model.fit(train_feature_vectors, train_labels)\n",
    "\n",
    "qda_model = QDA()\n",
    "qda_model.fit(train_feature_vectors, train_labels)"
   ]
  },
  {
   "cell_type": "code",
   "execution_count": 99,
   "metadata": {},
   "outputs": [],
   "source": [
    "z = 10\n",
    "lda_preds = np.zeros_like(label_annot[z])\n",
    "qda_preds = np.zeros_like(label_annot[z])\n",
    "\n",
    "for y in range(label_annot.shape[1]):\n",
    "    for x in range(label_annot.shape[2]):\n",
    "        centroid = [z, y, x]\n",
    "        \n",
    "        minz = max(centroid[0]-4, 0)\n",
    "        maxz = min(centroid[0]+4, 39)\n",
    "\n",
    "        miny = max(centroid[1]-4, 0)\n",
    "        maxy = min(centroid[1]+4, 136)\n",
    "\n",
    "        minx = max(centroid[2]-4, 0)\n",
    "        maxx = min(centroid[2]+4, 168)\n",
    "\n",
    "        cutout = feature_data[:, minz:maxz, miny:maxy, minx:maxx]\n",
    "        feature_vector = np.array([np.mean(cutout[i]) for i in range(feature_data.shape[0])]).reshape(1, -1)\n",
    "        \n",
    "        lda_preds[centroid[1], centroid[2]] = lda_model.predict(feature_vector)[0]\n",
    "        qda_preds[centroid[1], centroid[2]] = qda_model.predict(feature_vector)[0]"
   ]
  },
  {
   "cell_type": "code",
   "execution_count": 100,
   "metadata": {},
   "outputs": [],
   "source": [
    "def make_overlap_img(a, b):\n",
    "    bin_a = a > threshold_otsu(a)\n",
    "    bin_b = b > threshold_otsu(a)\n",
    "    rgb_both = np.moveaxis(np.stack([bin_a, bin_b, np.zeros_like(bin_a)]), 0, -1)\n",
    "    rgb_both = rgb_both.astype(float)\n",
    "    return rgb_both"
   ]
  },
  {
   "cell_type": "code",
   "execution_count": 105,
   "metadata": {},
   "outputs": [
    {
     "data": {
      "image/png": "[encoded data removed]",
      "text/plain": [
       "<matplotlib.figure.Figure at 0x7fa770141d30>"
      ]
     },
     "metadata": {},
     "output_type": "display_data"
    }
   ],
   "source": [
    "fig = plt.figure(figsize=(10, 10))\n",
    "plt.subplot(121)\n",
    "plt.title('Example LDA+CCOV Predictions')\n",
    "plt.imshow(make_overlap_img(lda_preds, label_annot[z] > 0))\n",
    "\n",
    "plt.subplot(122)\n",
    "plt.title('Example QDA+CCOV Predictions')\n",
    "plt.imshow(make_overlap_img(qda_preds, label_annot[z] > 0))\n",
    "plt.show()"
   ]
  },
  {
   "cell_type": "code",
   "execution_count": null,
   "metadata": {},
   "outputs": [],
   "source": [
    "    "
   ]
  }
 ],
 "metadata": {
  "kernelspec": {
   "display_name": "nomadenv",
   "language": "python",
   "name": "nomadenv"
  },
  "language_info": {
   "codemirror_mode": {
    "name": "ipython",
    "version": 3
   },
   "file_extension": ".py",
   "mimetype": "text/x-python",
   "name": "python",
   "nbconvert_exporter": "python",
   "pygments_lexer": "ipython3",
   "version": "3.5.2"
  }
 },
 "nbformat": 4,
 "nbformat_minor": 2
}
