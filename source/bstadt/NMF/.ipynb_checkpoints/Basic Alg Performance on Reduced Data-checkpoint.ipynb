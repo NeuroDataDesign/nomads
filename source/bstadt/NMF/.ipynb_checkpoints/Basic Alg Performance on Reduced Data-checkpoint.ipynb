{
 "cells": [
  {
   "cell_type": "code",
   "execution_count": 19,
   "metadata": {},
   "outputs": [],
   "source": [
    "import sys\n",
    "\n",
    "sys.path.append('./../NeuroDataResource/')\n",
    "\n",
    "import pickle\n",
    "import numpy as np\n",
    "\n",
    "from matplotlib import pyplot as plt\n",
    "from sklearn.decomposition import NMF\n",
    "from sklearn.decomposition import PCA\n",
    "from NeuroDataResource import NeuroDataResource\n",
    "from sklearn.discriminant_analysis import LinearDiscriminantAnalysis as LDA\n",
    "from sklearn.discriminant_analysis import QuadraticDiscriminantAnalysis as QDA\n",
    "\n",
    "token = pickle.load(open('./../NeuroDataResource/data/token.pkl', 'rb'))"
   ]
  },
  {
   "cell_type": "code",
   "execution_count": 2,
   "metadata": {
    "collapsed": true
   },
   "outputs": [],
   "source": [
    "myResource = NeuroDataResource(host = 'api.boss.neurodata.io',\n",
    "                               token = token,\n",
    "                               collection = 'collman',\n",
    "                               experiment = 'collman15v2',\n",
    "                               chanList = [{'name': 'annotation', 'dtype': 'uint64'},\n",
    "                                           {'name': 'DAPI1st', 'dtype':'uint8'},\n",
    "                                           {'name': 'DAPI2nd', 'dtype':'uint8'},\n",
    "                                           {'name': 'DAPI3rd', 'dtype':'uint8'},\n",
    "                                           {'name': 'EM25K', 'dtype':'uint8'},\n",
    "                                           {'name': 'GABA488', 'dtype':'uint8'},\n",
    "                                           {'name': 'GAD647', 'dtype':'uint8'},\n",
    "                                           {'name': 'gephyrin594', 'dtype':'uint8'},\n",
    "                                           {'name': 'GS594', 'dtype':'uint8'},\n",
    "                                           {'name': 'MBP488', 'dtype':'uint8'},\n",
    "                                           {'name': 'NR1594', 'dtype':'uint8'},\n",
    "                                           {'name': 'PSD95_488', 'dtype':'uint8'},\n",
    "                                           {'name': 'Synapsin647', 'dtype':'uint8'},\n",
    "                                           {'name': 'VGluT1_647', 'dtype':'uint8'}\n",
    "                                          ])"
   ]
  },
  {
   "cell_type": "code",
   "execution_count": 25,
   "metadata": {},
   "outputs": [
    {
     "name": "stdout",
     "output_type": "stream",
     "text": [
      "DAPI2nd\n",
      "NR1594\n",
      "Synapsin647\n",
      "DAPI1st\n",
      "PSD95_488\n",
      "VGluT1_647\n",
      "GAD647\n",
      "gephyrin594\n",
      "GABA488\n",
      "MBP488\n",
      "GS594\n",
      "DAPI3rd\n",
      "annotation\n"
     ]
    }
   ],
   "source": [
    "cutouts = {}\n",
    "for key in myResource._chanList.keys():\n",
    "    if not 'EM' in key:\n",
    "        print(key)\n",
    "        cutout = myResource.get_cutout(chan=key, zRange=[5, 15], yRange=[1000, 2000], xRange=[1000, 2500])\n",
    "        cutouts[key] = cutout"
   ]
  },
  {
   "cell_type": "code",
   "execution_count": 26,
   "metadata": {},
   "outputs": [
    {
     "name": "stdout",
     "output_type": "stream",
     "text": [
      "DAPI2nd\n",
      "NR1594\n",
      "Synapsin647\n",
      "DAPI1st\n",
      "PSD95_488\n",
      "VGluT1_647\n",
      "GAD647\n",
      "gephyrin594\n",
      "GABA488\n",
      "MBP488\n",
      "GS594\n",
      "DAPI3rd\n",
      "annotation\n"
     ]
    }
   ],
   "source": [
    "cutouts2 = {}\n",
    "for key in myResource._chanList.keys():\n",
    "    if not 'EM' in key:\n",
    "        print(key)\n",
    "        cutout = myResource.get_cutout(chan=key, zRange=[5, 15], yRange=[2000, 3000], xRange=[2000, 3500])\n",
    "        cutouts2[key] = cutout"
   ]
  },
  {
   "cell_type": "code",
   "execution_count": 4,
   "metadata": {},
   "outputs": [
    {
     "name": "stdout",
     "output_type": "stream",
     "text": [
      "(9, 10, 1000, 1500)\n"
     ]
    }
   ],
   "source": [
    "ledger = []\n",
    "chans = []\n",
    "for key, value in cutouts.items():\n",
    "    if not 'annotation' in key and not 'DAPI' in key:\n",
    "        ledger.append(key)\n",
    "        chans.append(value)\n",
    "    \n",
    "volume = np.stack(chans)\n",
    "print(volume.shape)"
   ]
  },
  {
   "cell_type": "code",
   "execution_count": 27,
   "metadata": {},
   "outputs": [
    {
     "name": "stdout",
     "output_type": "stream",
     "text": [
      "(15000000, 9)\n"
     ]
    }
   ],
   "source": [
    "ledger2 = []\n",
    "chans2 = []\n",
    "for key, value in cutouts2.items():\n",
    "    if not 'annotation' in key and not 'DAPI' in key:\n",
    "        ledger2.append(key)\n",
    "        chans2.append(value)\n",
    "    \n",
    "volume2 = np.stack(chans2)\n",
    "print(volume.shape)"
   ]
  },
  {
   "cell_type": "code",
   "execution_count": 44,
   "metadata": {},
   "outputs": [
    {
     "data": {
      "text/plain": [
       "(15000000, 9)"
      ]
     },
     "execution_count": 44,
     "metadata": {},
     "output_type": "execute_result"
    }
   ],
   "source": [
    "volume = np.moveaxis(volume, 0, -1).reshape([-1, 9])\n",
    "volume.shape"
   ]
  },
  {
   "cell_type": "code",
   "execution_count": 45,
   "metadata": {},
   "outputs": [
    {
     "data": {
      "text/plain": [
       "(15000000, 9)"
      ]
     },
     "execution_count": 45,
     "metadata": {},
     "output_type": "execute_result"
    }
   ],
   "source": [
    "volume2 = np.moveaxis(volume2, 0, -1).reshape([-1, 9])\n",
    "volume2.shape"
   ]
  },
  {
   "cell_type": "code",
   "execution_count": 46,
   "metadata": {},
   "outputs": [
    {
     "data": {
      "text/plain": [
       "(15000000, 1)"
      ]
     },
     "execution_count": 46,
     "metadata": {},
     "output_type": "execute_result"
    }
   ],
   "source": [
    "label_volume = (cutouts['annotation'] > 0).astype(int)\n",
    "labels = np.moveaxis(label_volume2, 0, -1).reshape([-1, 1])\n",
    "labels.shape"
   ]
  },
  {
   "cell_type": "code",
   "execution_count": 47,
   "metadata": {},
   "outputs": [
    {
     "data": {
      "text/plain": [
       "(15000000, 1)"
      ]
     },
     "execution_count": 47,
     "metadata": {},
     "output_type": "execute_result"
    }
   ],
   "source": [
    "label_volume2 = (cutouts2['annotation'] > 0).astype(int)\n",
    "labels2 = np.moveaxis(label_volume2, 0, -1).reshape([-1, 1])\n",
    "labels2.shape"
   ]
  },
  {
   "cell_type": "code",
   "execution_count": 48,
   "metadata": {},
   "outputs": [],
   "source": [
    "PCA_model = PCA(n_components = 6)\n",
    "PCA_model.fit(volume)\n",
    "PCA_volume = PCA_model.transform(volume)"
   ]
  },
  {
   "cell_type": "code",
   "execution_count": 49,
   "metadata": {},
   "outputs": [
    {
     "name": "stderr",
     "output_type": "stream",
     "text": [
      "/home/bstadt/Neurodata/nomadenv/lib/python3.5/site-packages/sklearn/utils/validation.py:547: DataConversionWarning: A column-vector y was passed when a 1d array was expected. Please change the shape of y to (n_samples, ), for example using ravel().\n",
      "  y = column_or_1d(y, warn=True)\n"
     ]
    },
    {
     "data": {
      "text/plain": [
       "LinearDiscriminantAnalysis(n_components=None, priors=None, shrinkage=None,\n",
       "              solver='svd', store_covariance=False, tol=0.0001)"
      ]
     },
     "execution_count": 49,
     "metadata": {},
     "output_type": "execute_result"
    }
   ],
   "source": [
    "PCA_LDA = LDA(tol=.0001)\n",
    "PCA_LDA.fit(PCA_volume, labels)"
   ]
  },
  {
   "cell_type": "code",
   "execution_count": 50,
   "metadata": {
    "collapsed": true
   },
   "outputs": [],
   "source": [
    "PCA_volume_test = PCA_model.transform(volume2)"
   ]
  },
  {
   "cell_type": "code",
   "execution_count": 51,
   "metadata": {},
   "outputs": [],
   "source": [
    "predictions = PCA_LDA.predict(PCA_volume_test)"
   ]
  },
  {
   "cell_type": "code",
   "execution_count": 43,
   "metadata": {},
   "outputs": [
    {
     "data": {
      "text/plain": [
       "array([  0, 212, 216], dtype=uint64)"
      ]
     },
     "execution_count": 43,
     "metadata": {},
     "output_type": "execute_result"
    }
   ],
   "source": []
  },
  {
   "cell_type": "code",
   "execution_count": null,
   "metadata": {
    "collapsed": true
   },
   "outputs": [],
   "source": [
    "def get_prec_rec(predictions, labels):\n",
    "    true_p = np.sum((np.logical_and(predictions, labels)).astype(int))\n",
    "    false_p = np.sum(predictions) - truep\n",
    "    total_gt_p = np.sum(labels.astype(int))\n",
    "    prec = true_p/false_p\n",
    "    rec = true_p/total_gt_p"
   ]
  }
 ],
 "metadata": {
  "kernelspec": {
   "display_name": "nomadenv",
   "language": "python",
   "name": "nomadenv"
  },
  "language_info": {
   "codemirror_mode": {
    "name": "ipython",
    "version": 3
   },
   "file_extension": ".py",
   "mimetype": "text/x-python",
   "name": "python",
   "nbconvert_exporter": "python",
   "pygments_lexer": "ipython3",
   "version": "3.5.2"
  }
 },
 "nbformat": 4,
 "nbformat_minor": 2
}
