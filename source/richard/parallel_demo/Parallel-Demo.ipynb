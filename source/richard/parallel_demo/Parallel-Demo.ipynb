{
 "cells": [
  {
   "cell_type": "code",
   "execution_count": 1,
   "metadata": {},
   "outputs": [],
   "source": [
    "import parallel as para\n",
    "import NeuroDataResource as ndr"
   ]
  },
  {
   "cell_type": "markdown",
   "metadata": {},
   "source": [
    "## 1. Change parameters in neurodata.cfg file.\n",
    "Note: channels list should not be separated by spaces, just commas!\n",
    "<img src=\"./images/neurodata.png\">"
   ]
  },
  {
   "cell_type": "code",
   "execution_count": 2,
   "metadata": {},
   "outputs": [],
   "source": [
    "config_file = \"neurodata.cfg\"\n",
    "resource = ndr.get_boss_resource(config_file)"
   ]
  },
  {
   "cell_type": "markdown",
   "metadata": {},
   "source": [
    "## 2. Specify function to be run in file. Must accept a data dictionary as input\n",
    "Data dictionary: key is channel, value is numpy array"
   ]
  },
  {
   "cell_type": "code",
   "execution_count": null,
   "metadata": {
    "collapsed": true
   },
   "outputs": [],
   "source": [
    "def pipeline(input_data, verbose=False):\n",
    "    data = format_data(input_data)\n",
    "    if verbose:\n",
    "        print('Normalizing Data')\n",
    "    normed_data = normalize_data(data)\n",
    "    if verbose:\n",
    "        print('Generating Covariance Map')\n",
    "    cov_map = compute_convolutional_cov(normed_data[0],\n",
    "                                        normed_data[1],\n",
    "                                        (3, 3, 3))\n",
    "\n",
    "    if verbose:\n",
    "        print('Binarizing Covariance Map')\n",
    "    predictions = predict_from_feature_map(cov_map)\n",
    "\n",
    "    if verbose:\n",
    "        print('Pruning Predictions')\n",
    "    filtered_predictions = remove_low_volume_predictions(predictions, 30)\n",
    "\n",
    "    return filtered_predictions"
   ]
  },
  {
   "cell_type": "markdown",
   "metadata": {},
   "source": [
    "## 3. Now to run on multiple cores, just provide the module path and function that you want to run in parallel\n",
    "\n",
    "### For this demo:\n",
    "We will import the module nomads and run the function pipeline in the code. For the actual script, you can just provide the module name and function name as arguments when running the parallel script."
   ]
  },
  {
   "cell_type": "code",
   "execution_count": 3,
   "metadata": {},
   "outputs": [
    {
     "name": "stdout",
     "output_type": "stream",
     "text": [
      "Starting job, retrieiving data\n",
      "Starting algorithm\n",
      "Done with job\n",
      "['0_0_0']\n"
     ]
    }
   ],
   "source": [
    "from importlib import import_module\n",
    "mod = import_module(\"nomads\")\n",
    "function = getattr(mod, \"pipeline\")\n",
    "para.run_parallel(config_file, function = function)"
   ]
  },
  {
   "cell_type": "markdown",
   "metadata": {},
   "source": [
    "## This next part shows that you can hotswap algorithms. \n",
    "We will be calling the dummy module with the dummy function that "
   ]
  },
  {
   "cell_type": "code",
   "execution_count": 4,
   "metadata": {},
   "outputs": [
    {
     "name": "stdout",
     "output_type": "stream",
     "text": [
      "Starting job, retrieiving data\n",
      "Starting algorithm\n",
      "Hi, hi, hi\n",
      "Done with job\n",
      "['0_0_0']\n"
     ]
    }
   ],
   "source": [
    "mod = import_module(\"dummy\")\n",
    "function = getattr(mod, \"dummy\")\n",
    "para.run_parallel(config_file, function = function)"
   ]
  },
  {
   "cell_type": "code",
   "execution_count": null,
   "metadata": {
    "collapsed": true
   },
   "outputs": [],
   "source": []
  }
 ],
 "metadata": {
  "kernelspec": {
   "display_name": "Python 3",
   "language": "python",
   "name": "python3"
  },
  "language_info": {
   "codemirror_mode": {
    "name": "ipython",
    "version": 3
   },
   "file_extension": ".py",
   "mimetype": "text/x-python",
   "name": "python",
   "nbconvert_exporter": "python",
   "pygments_lexer": "ipython3",
   "version": "3.6.4"
  }
 },
 "nbformat": 4,
 "nbformat_minor": 2
}
