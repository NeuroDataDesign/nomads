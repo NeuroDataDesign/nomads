{
 "cells": [
  {
   "cell_type": "code",
   "execution_count": 1,
   "metadata": {
    "collapsed": true
   },
   "outputs": [],
   "source": [
    "## In this notebook, we will create a much simpler parallel simulator \n",
    "## while I take the time to properly learn parallel programming.\n",
    "## Specifically, we will create a function that abstracts the functions we care about:\n",
    "## merge, an image function, split, etc.\n",
    "## But at the same time, allows us to play around with various timing such as the p and s \n",
    "## parameters for Amdahl's Law."
   ]
  },
  {
   "cell_type": "code",
   "execution_count": 1,
   "metadata": {
    "collapsed": true
   },
   "outputs": [],
   "source": [
    "import numpy as np\n",
    "import time\n",
    "import timeit\n",
    "import multiprocessing as mp"
   ]
  },
  {
   "cell_type": "code",
   "execution_count": 2,
   "metadata": {
    "collapsed": true
   },
   "outputs": [],
   "source": [
    "## Time functions\n",
    "def finalize(p, parallel_time):\n",
    "    total_time = parallel_time / (1 - p)\n",
    "    non_parallel = total_time*p\n",
    "    time.sleep(non_parallel)\n",
    "    "
   ]
  },
  {
   "cell_type": "code",
   "execution_count": 16,
   "metadata": {
    "collapsed": false
   },
   "outputs": [],
   "source": [
    "## Parallel task:\n",
    "'''\n",
    "1. Get a list of integers\n",
    "2. Add 42 to each list of integers\n",
    "3. For every add, wait a certain amount of time\n",
    "4. return nothing\n",
    "'''\n",
    "\n",
    "def task_nonparallel(data, sleep_time):\n",
    "    for i in range(len(data)):\n",
    "        time.sleep(sleep_time)\n",
    "        data[i] += 42  \n",
    "    return\n",
    "\n",
    "def split(data, n):\n",
    "    if n > len(data): \n",
    "        n = len(data)\n",
    "    avg = len(data) / float(n)\n",
    "    out = []\n",
    "    last = 0.0\n",
    "\n",
    "    while last < len(data):\n",
    "        out.append(data[int(last):int(last + avg)])\n",
    "        last += avg\n",
    "    return out\n",
    "\n",
    "def task_parallel(data, sleep_time, num_processors):\n",
    "    num_workers = mp.cpu_count() - 1\n",
    "    if (num_workers > num_processors):\n",
    "        num_workers = num_processors\n",
    "    jobs = []\n",
    "    data = split(data, num_workers)\n",
    "    for worker in range(len(data)):\n",
    "        sub_data = data[worker]\n",
    "        p = mp.Process(target = task_nonparallel, args = (sub_data, sleep_time))\n",
    "        try:\n",
    "            p.start()\n",
    "        except:\n",
    "            p.terminate()\n",
    "            raise\n",
    "        jobs.append(p)\n",
    "    # make sure all jobs end\n",
    "    for job in jobs:\n",
    "        job.join()\n",
    "        job.terminate()\n",
    "    return\n",
    "\n",
    "\n",
    "    "
   ]
  },
  {
   "cell_type": "code",
   "execution_count": 17,
   "metadata": {
    "collapsed": true
   },
   "outputs": [],
   "source": [
    "from plotly.offline import init_notebook_mode, plot, iplot\n",
    "import plotly.graph_objs as go\n",
    "from timeit import default_timer as timer\n"
   ]
  },
  {
   "cell_type": "code",
   "execution_count": 13,
   "metadata": {
    "collapsed": true
   },
   "outputs": [],
   "source": [
    "def calculate_speedup(data, sleep_time, num_processors):\n",
    "    start = timer()\n",
    "    task_nonparallel(data, sleep_time)\n",
    "    end = timer()\n",
    "    non_parallel = end - start\n",
    "    \n",
    "    start = timer()\n",
    "    task_parallel(data, sleep_time, num_processors)\n",
    "    end = timer()\n",
    "    parallel = end - start\n",
    "    \n",
    "    return non_parallel/float(parallel)\n",
    "    "
   ]
  },
  {
   "cell_type": "code",
   "execution_count": 19,
   "metadata": {
    "collapsed": false
   },
   "outputs": [
    {
     "name": "stdout",
     "output_type": "stream",
     "text": [
      "Speedup with 1 core(s):\n",
      "1.0870005015392565\n",
      "Speedup with 2 core(s):\n",
      "2.161112825162861\n",
      "Speedup with 3 core(s):\n",
      "2.963406610550449\n"
     ]
    }
   ],
   "source": [
    "data = [0]*100000\n",
    "cores = []\n",
    "speed = []\n",
    "for i in range(1, 4):\n",
    "    print(\"Speedup with \" + str(i) + \" core(s):\")\n",
    "    s = calculate_speedup(data, .00001, i)\n",
    "    print(s)\n",
    "    cores.append(i)\n",
    "    speed.append(s)\n",
    "    "
   ]
  },
  {
   "cell_type": "code",
   "execution_count": 31,
   "metadata": {
    "collapsed": false
   },
   "outputs": [
    {
     "data": {
      "text/html": [
       "<script>requirejs.config({paths: { 'plotly': ['https://cdn.plot.ly/plotly-latest.min']},});if(!window.Plotly) {{require(['plotly'],function(plotly) {window.Plotly=plotly;});}}</script>"
      ],
      "text/vnd.plotly.v1+html": [
       "<script>requirejs.config({paths: { 'plotly': ['https://cdn.plot.ly/plotly-latest.min']},});if(!window.Plotly) {{require(['plotly'],function(plotly) {window.Plotly=plotly;});}}</script>"
      ]
     },
     "metadata": {},
     "output_type": "display_data"
    },
    {
     "data": {
      "application/vnd.plotly.v1+json": {
       "data": [
        {
         "mode": "lines",
         "name": "nonthreaded",
         "type": "scatter",
         "x": [
          1,
          2,
          3
         ],
         "y": [
          1.0870005015392565,
          2.161112825162861,
          2.963406610550449
         ]
        }
       ],
       "layout": {
        "title": "Relative Speedup vs Number of Cores",
        "xaxis": {
         "title": "Cores",
         "titlefont": {
          "color": "#7f7f7f",
          "family": "Courier New, monospace",
          "size": 18
         }
        },
        "yaxis": {
         "title": "Speedup (Nonparallel Time / Parallel Time)",
         "titlefont": {
          "color": "#7f7f7f",
          "family": "Courier New, monospace",
          "size": 18
         }
        }
       }
      },
      "text/html": [
       "<div id=\"38f5ece7-2968-4601-9958-6620da1f8140\" style=\"height: 525px; width: 100%;\" class=\"plotly-graph-div\"></div><script type=\"text/javascript\">require([\"plotly\"], function(Plotly) { window.PLOTLYENV=window.PLOTLYENV || {};window.PLOTLYENV.BASE_URL=\"https://plot.ly\";Plotly.newPlot(\"38f5ece7-2968-4601-9958-6620da1f8140\", [{\"type\": \"scatter\", \"x\": [1, 2, 3], \"y\": [1.0870005015392565, 2.161112825162861, 2.963406610550449], \"mode\": \"lines\", \"name\": \"nonthreaded\"}], {\"title\": \"Relative Speedup vs Number of Cores\", \"xaxis\": {\"title\": \"Cores\", \"titlefont\": {\"family\": \"Courier New, monospace\", \"size\": 18, \"color\": \"#7f7f7f\"}}, \"yaxis\": {\"title\": \"Speedup (Nonparallel Time / Parallel Time)\", \"titlefont\": {\"family\": \"Courier New, monospace\", \"size\": 18, \"color\": \"#7f7f7f\"}}}, {\"showLink\": true, \"linkText\": \"Export to plot.ly\"})});</script>"
      ],
      "text/vnd.plotly.v1+html": [
       "<div id=\"38f5ece7-2968-4601-9958-6620da1f8140\" style=\"height: 525px; width: 100%;\" class=\"plotly-graph-div\"></div><script type=\"text/javascript\">require([\"plotly\"], function(Plotly) { window.PLOTLYENV=window.PLOTLYENV || {};window.PLOTLYENV.BASE_URL=\"https://plot.ly\";Plotly.newPlot(\"38f5ece7-2968-4601-9958-6620da1f8140\", [{\"type\": \"scatter\", \"x\": [1, 2, 3], \"y\": [1.0870005015392565, 2.161112825162861, 2.963406610550449], \"mode\": \"lines\", \"name\": \"nonthreaded\"}], {\"title\": \"Relative Speedup vs Number of Cores\", \"xaxis\": {\"title\": \"Cores\", \"titlefont\": {\"family\": \"Courier New, monospace\", \"size\": 18, \"color\": \"#7f7f7f\"}}, \"yaxis\": {\"title\": \"Speedup (Nonparallel Time / Parallel Time)\", \"titlefont\": {\"family\": \"Courier New, monospace\", \"size\": 18, \"color\": \"#7f7f7f\"}}}, {\"showLink\": true, \"linkText\": \"Export to plot.ly\"})});</script>"
      ]
     },
     "metadata": {},
     "output_type": "display_data"
    }
   ],
   "source": [
    "\n",
    "trace0 = go.Scatter(\n",
    "    x = cores,\n",
    "    y = speed,\n",
    "    mode = 'lines',\n",
    "    name = 'nonthreaded'\n",
    ")\n",
    "\n",
    "data = [trace0]\n",
    "layout = go.Layout(\n",
    "    title='Relative Speedup vs Number of Cores',\n",
    "    xaxis=dict(\n",
    "        title='Cores',\n",
    "        titlefont=dict(\n",
    "            family='Courier New, monospace',\n",
    "            size=18,\n",
    "            color='#7f7f7f'\n",
    "        )\n",
    "    ),\n",
    "    yaxis=dict(\n",
    "        title='Speedup (Nonparallel Time / Parallel Time)',\n",
    "        titlefont=dict(\n",
    "            family='Courier New, monospace',\n",
    "            size=18,\n",
    "            color='#7f7f7f'\n",
    "        )\n",
    "    )\n",
    ")\n",
    "init_notebook_mode(connected=True)\n",
    "\n",
    "fig = go.Figure(data=data, layout=layout)\n",
    "iplot(fig)\n",
    "    "
   ]
  },
  {
   "cell_type": "code",
   "execution_count": 33,
   "metadata": {
    "collapsed": true
   },
   "outputs": [],
   "source": [
    "def calculate_S_latency(p, data, sleep_time, num_processors):\n",
    "    s = calculate_speedup(data, sleep_time, num_processors)\n",
    "    speedup_latency = float(1/(1 - p + p/s))\n",
    "    \n",
    "    return speedup_latency\n",
    "    "
   ]
  },
  {
   "cell_type": "code",
   "execution_count": 35,
   "metadata": {
    "collapsed": false
   },
   "outputs": [
    {
     "name": "stdout",
     "output_type": "stream",
     "text": [
      "Speedup in Latency with 1 core(s):\n",
      "1.076665374589566\n",
      "Speedup in Latency with 2 core(s):\n",
      "1.3506881651173324\n",
      "Speedup in Latency with 3 core(s):\n",
      "1.4962461582918796\n",
      "Speedup in Latency with 1 core(s):\n",
      "1.0530292288656804\n",
      "Speedup in Latency with 2 core(s):\n",
      "1.57933345670915\n",
      "Speedup in Latency with 3 core(s):\n",
      "1.8679544585459826\n",
      "Speedup in Latency with 1 core(s):\n",
      "1.0549230855231528\n",
      "Speedup in Latency with 2 core(s):\n",
      "1.731409138399205\n",
      "Speedup in Latency with 3 core(s):\n",
      "2.1300990777281212\n",
      "Speedup in Latency with 1 core(s):\n",
      "1.0535577114281909\n",
      "Speedup in Latency with 2 core(s):\n",
      "1.8973387810971465\n",
      "Speedup in Latency with 3 core(s):\n",
      "2.4755916958935815\n"
     ]
    },
    {
     "data": {
      "text/html": [
       "<script>requirejs.config({paths: { 'plotly': ['https://cdn.plot.ly/plotly-latest.min']},});if(!window.Plotly) {{require(['plotly'],function(plotly) {window.Plotly=plotly;});}}</script>"
      ],
      "text/vnd.plotly.v1+html": [
       "<script>requirejs.config({paths: { 'plotly': ['https://cdn.plot.ly/plotly-latest.min']},});if(!window.Plotly) {{require(['plotly'],function(plotly) {window.Plotly=plotly;});}}</script>"
      ]
     },
     "metadata": {},
     "output_type": "display_data"
    },
    {
     "data": {
      "application/vnd.plotly.v1+json": {
       "data": [
        {
         "mode": "lines",
         "name": "p = .6",
         "type": "scatter",
         "x": [
          1,
          2,
          3
         ],
         "y": [
          1.076665374589566,
          1.3506881651173324,
          1.4962461582918796
         ]
        },
        {
         "mode": "lines",
         "name": "p = .7",
         "type": "scatter",
         "x": [
          1,
          2,
          3
         ],
         "y": [
          1.0530292288656804,
          1.57933345670915,
          1.8679544585459826
         ]
        },
        {
         "mode": "lines",
         "name": "p = .8",
         "type": "scatter",
         "x": [
          1,
          2,
          3
         ],
         "y": [
          1.0549230855231528,
          1.731409138399205,
          2.1300990777281212
         ]
        },
        {
         "mode": "lines",
         "name": "p = .9",
         "type": "scatter",
         "x": [
          1,
          2,
          3
         ],
         "y": [
          1.0535577114281909,
          1.8973387810971465,
          2.4755916958935815
         ]
        }
       ],
       "layout": {
        "title": "Speedup in Latency vs Number of Cores",
        "xaxis": {
         "title": "Cores",
         "titlefont": {
          "color": "#7f7f7f",
          "family": "Courier New, monospace",
          "size": 18
         }
        },
        "yaxis": {
         "title": "S_Latency (1/(1 - p + p/s))",
         "titlefont": {
          "color": "#7f7f7f",
          "family": "Courier New, monospace",
          "size": 18
         }
        }
       }
      },
      "text/html": [
       "<div id=\"c45459fe-f968-4f3f-af94-b1a6ef19d8d2\" style=\"height: 525px; width: 100%;\" class=\"plotly-graph-div\"></div><script type=\"text/javascript\">require([\"plotly\"], function(Plotly) { window.PLOTLYENV=window.PLOTLYENV || {};window.PLOTLYENV.BASE_URL=\"https://plot.ly\";Plotly.newPlot(\"c45459fe-f968-4f3f-af94-b1a6ef19d8d2\", [{\"type\": \"scatter\", \"x\": [1, 2, 3], \"y\": [1.076665374589566, 1.3506881651173324, 1.4962461582918796], \"mode\": \"lines\", \"name\": \"p = .6\"}, {\"type\": \"scatter\", \"x\": [1, 2, 3], \"y\": [1.0530292288656804, 1.57933345670915, 1.8679544585459826], \"mode\": \"lines\", \"name\": \"p = .7\"}, {\"type\": \"scatter\", \"x\": [1, 2, 3], \"y\": [1.0549230855231528, 1.731409138399205, 2.1300990777281212], \"mode\": \"lines\", \"name\": \"p = .8\"}, {\"type\": \"scatter\", \"x\": [1, 2, 3], \"y\": [1.0535577114281909, 1.8973387810971465, 2.4755916958935815], \"mode\": \"lines\", \"name\": \"p = .9\"}], {\"title\": \"Speedup in Latency vs Number of Cores\", \"xaxis\": {\"title\": \"Cores\", \"titlefont\": {\"family\": \"Courier New, monospace\", \"size\": 18, \"color\": \"#7f7f7f\"}}, \"yaxis\": {\"title\": \"S_Latency (1/(1 - p + p/s))\", \"titlefont\": {\"family\": \"Courier New, monospace\", \"size\": 18, \"color\": \"#7f7f7f\"}}}, {\"showLink\": true, \"linkText\": \"Export to plot.ly\"})});</script>"
      ],
      "text/vnd.plotly.v1+html": [
       "<div id=\"c45459fe-f968-4f3f-af94-b1a6ef19d8d2\" style=\"height: 525px; width: 100%;\" class=\"plotly-graph-div\"></div><script type=\"text/javascript\">require([\"plotly\"], function(Plotly) { window.PLOTLYENV=window.PLOTLYENV || {};window.PLOTLYENV.BASE_URL=\"https://plot.ly\";Plotly.newPlot(\"c45459fe-f968-4f3f-af94-b1a6ef19d8d2\", [{\"type\": \"scatter\", \"x\": [1, 2, 3], \"y\": [1.076665374589566, 1.3506881651173324, 1.4962461582918796], \"mode\": \"lines\", \"name\": \"p = .6\"}, {\"type\": \"scatter\", \"x\": [1, 2, 3], \"y\": [1.0530292288656804, 1.57933345670915, 1.8679544585459826], \"mode\": \"lines\", \"name\": \"p = .7\"}, {\"type\": \"scatter\", \"x\": [1, 2, 3], \"y\": [1.0549230855231528, 1.731409138399205, 2.1300990777281212], \"mode\": \"lines\", \"name\": \"p = .8\"}, {\"type\": \"scatter\", \"x\": [1, 2, 3], \"y\": [1.0535577114281909, 1.8973387810971465, 2.4755916958935815], \"mode\": \"lines\", \"name\": \"p = .9\"}], {\"title\": \"Speedup in Latency vs Number of Cores\", \"xaxis\": {\"title\": \"Cores\", \"titlefont\": {\"family\": \"Courier New, monospace\", \"size\": 18, \"color\": \"#7f7f7f\"}}, \"yaxis\": {\"title\": \"S_Latency (1/(1 - p + p/s))\", \"titlefont\": {\"family\": \"Courier New, monospace\", \"size\": 18, \"color\": \"#7f7f7f\"}}}, {\"showLink\": true, \"linkText\": \"Export to plot.ly\"})});</script>"
      ]
     },
     "metadata": {},
     "output_type": "display_data"
    }
   ],
   "source": [
    "data = [0]*100000\n",
    "\n",
    "cores = []\n",
    "s = []\n",
    "p = .5\n",
    "for i in range(1, 4):\n",
    "    print(\"Speedup in Latency with \" + str(i) + \" core(s):\")\n",
    "    s_l = calculate_S_latency(p, data, .00001, i)\n",
    "    print(s_l)\n",
    "    cores.append(i)\n",
    "    s.append(s_l)\n",
    "\n",
    "trace0 = go.Scatter(\n",
    "    x = cores,\n",
    "    y = s,\n",
    "    mode = 'lines',\n",
    "    name = 'p = .6'\n",
    ")\n",
    "\n",
    "cores = []\n",
    "s = []\n",
    "p = .7\n",
    "for i in range(1, 4):\n",
    "    print(\"Speedup in Latency with \" + str(i) + \" core(s):\")\n",
    "    s_l = calculate_S_latency(p, data, .00001, i)\n",
    "    print(s_l)\n",
    "    cores.append(i)\n",
    "    s.append(s_l)\n",
    "\n",
    "trace1 = go.Scatter(\n",
    "    x = cores,\n",
    "    y = s,\n",
    "    mode = 'lines',\n",
    "    name = 'p = .7'\n",
    ")\n",
    "\n",
    "cores = []\n",
    "s = []\n",
    "p = .8\n",
    "for i in range(1, 4):\n",
    "    print(\"Speedup in Latency with \" + str(i) + \" core(s):\")\n",
    "    s_l = calculate_S_latency(p, data, .00001, i)\n",
    "    print(s_l)\n",
    "    cores.append(i)\n",
    "    s.append(s_l)\n",
    "\n",
    "trace2 = go.Scatter(\n",
    "    x = cores,\n",
    "    y = s,\n",
    "    mode = 'lines',\n",
    "    name = 'p = .8'\n",
    ")\n",
    "\n",
    "cores = []\n",
    "s = []\n",
    "p = .9\n",
    "for i in range(1, 4):\n",
    "    print(\"Speedup in Latency with \" + str(i) + \" core(s):\")\n",
    "    s_l = calculate_S_latency(p, data, .00001, i)\n",
    "    print(s_l)\n",
    "    cores.append(i)\n",
    "    s.append(s_l)\n",
    "    \n",
    "trace3 = go.Scatter(\n",
    "    x = cores,\n",
    "    y = s,\n",
    "    mode = 'lines',\n",
    "    name = 'p = .9'\n",
    ")\n",
    "\n",
    "data = [trace0, trace1, trace2, trace3]\n",
    "layout = go.Layout(\n",
    "    title='Speedup in Latency vs Number of Cores',\n",
    "    xaxis=dict(\n",
    "        title='Cores',\n",
    "        titlefont=dict(\n",
    "            family='Courier New, monospace',\n",
    "            size=18,\n",
    "            color='#7f7f7f'\n",
    "        )\n",
    "    ),\n",
    "    yaxis=dict(\n",
    "        title='S_Latency (1/(1 - p + p/s))',\n",
    "        titlefont=dict(\n",
    "            family='Courier New, monospace',\n",
    "            size=18,\n",
    "            color='#7f7f7f'\n",
    "        )\n",
    "    )\n",
    ")\n",
    "init_notebook_mode(connected=True)\n",
    "\n",
    "fig = go.Figure(data=data, layout=layout)\n",
    "iplot(fig)"
   ]
  },
  {
   "cell_type": "code",
   "execution_count": null,
   "metadata": {
    "collapsed": true
   },
   "outputs": [],
   "source": []
  }
 ],
 "metadata": {
  "kernelspec": {
   "display_name": "Python 3",
   "language": "python",
   "name": "python3"
  },
  "language_info": {
   "codemirror_mode": {
    "name": "ipython",
    "version": 3
   },
   "file_extension": ".py",
   "mimetype": "text/x-python",
   "name": "python",
   "nbconvert_exporter": "python",
   "pygments_lexer": "ipython3",
   "version": "3.6.2"
  }
 },
 "nbformat": 4,
 "nbformat_minor": 2
}
