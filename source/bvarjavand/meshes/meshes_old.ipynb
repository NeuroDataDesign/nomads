{
 "cells": [
  {
   "cell_type": "code",
   "execution_count": 1,
   "metadata": {},
   "outputs": [],
   "source": [
    "import json\n",
    "import numpy as np\n",
    "import matplotlib.pyplot as plt\n",
    "from mpl_toolkits.mplot3d import Axes3D\n",
    "import cv2\n",
    "from intern.remote.boss import BossRemote\n",
    "from intern.resource.boss.resource import ChannelResource\n",
    "import sys\n",
    "sys.path.append('.')\n",
    "from NDResource import get_host_token, NeuroDataResource\n",
    "from tqdm import tqdm"
   ]
  },
  {
   "cell_type": "code",
   "execution_count": 2,
   "metadata": {},
   "outputs": [],
   "source": [
    "def block_compute(x_start, x_stop,\n",
    "                  y_start, y_stop,\n",
    "                  z_start, z_stop,\n",
    "                  origin=(0, 0, 0),\n",
    "                  block_size=(512, 512, 16)):\n",
    "    \"\"\"\n",
    "    Get bounding box coordinates (in 3D) of small cutouts to request in\n",
    "    order to reconstitute a larger cutout.\n",
    "    Arguments:\n",
    "        x_start (int): The lower bound of dimension x\n",
    "        x_stop (int): The upper bound of dimension x\n",
    "        y_start (int): The lower bound of dimension y\n",
    "        y_stop (int): The upper bound of dimension y\n",
    "        z_start (int): The lower bound of dimension z\n",
    "        z_stop (int): The upper bound of dimension z\n",
    "    Returns:\n",
    "        [((x_start, x_stop), (y_start, y_stop), (z_start, z_stop)), ... ]\n",
    "    \"\"\"\n",
    "    # x\n",
    "    x_bounds = range(origin[0], x_stop + block_size[0], block_size[0])\n",
    "    x_bounds = [x for x in x_bounds if (x > x_start and x < x_stop)]\n",
    "    if len(x_bounds) is 0:\n",
    "        x_slices = [(x_start, x_stop)]\n",
    "    else:\n",
    "        x_slices = []\n",
    "        for start_x in x_bounds[:-1]:\n",
    "            x_slices.append((start_x, start_x + block_size[0]))\n",
    "        x_slices.append((x_start, x_bounds[0]))\n",
    "        x_slices.append((x_bounds[-1], x_stop))\n",
    "\n",
    "    # y\n",
    "    y_bounds = range(origin[1], y_stop + block_size[1], block_size[1])\n",
    "    y_bounds = [y for y in y_bounds if (y > y_start and y < y_stop)]\n",
    "    if len(y_bounds) is 0:\n",
    "        y_slices = [(y_start, y_stop)]\n",
    "    else:\n",
    "        y_slices = []\n",
    "        for start_y in y_bounds[:-1]:\n",
    "            y_slices.append((start_y, start_y + block_size[1]))\n",
    "        y_slices.append((y_start, y_bounds[0]))\n",
    "        y_slices.append((y_bounds[-1], y_stop))\n",
    "\n",
    "    # z\n",
    "    z_bounds = range(origin[2], z_stop + block_size[2], block_size[2])\n",
    "    z_bounds = [z for z in z_bounds if (z > z_start and z < z_stop)]\n",
    "    if len(z_bounds) is 0:\n",
    "        z_slices = [(z_start, z_stop)]\n",
    "    else:\n",
    "        z_slices = []\n",
    "        for start_z in z_bounds[:-1]:\n",
    "            z_slices.append((start_z, start_z + block_size[2]))\n",
    "        z_slices.append((z_start, z_bounds[0]))\n",
    "        z_slices.append((z_bounds[-1], z_stop))\n",
    "\n",
    "    # alright, yuck. but now we have {x, y, z}_slices, each of which hold the\n",
    "    # start- and end-points of each cube-aligned boundary. For instance, if you\n",
    "    # requested z-slices 4 through 20, it holds [(4, 16), (16, 20)].\n",
    "\n",
    "    # For my next trick, I'll convert these to a list of:\n",
    "    # ((x_start, x_stop), (y_start, y_stop), (z_start, z_stop))\n",
    "\n",
    "    chunks = []\n",
    "    for x in x_slices:\n",
    "        for y in y_slices:\n",
    "            for z in z_slices:\n",
    "                chunks.append((x, y, z))\n",
    "    return chunks"
   ]
  },
  {
   "cell_type": "markdown",
   "metadata": {},
   "source": [
    "## load data"
   ]
  },
  {
   "cell_type": "code",
   "execution_count": 3,
   "metadata": {},
   "outputs": [],
   "source": [
    "jf = \"m247514_Site3Annotation_MN_global.json\""
   ]
  },
  {
   "cell_type": "code",
   "execution_count": 4,
   "metadata": {},
   "outputs": [],
   "source": [
    "with open(\"ForrestAnnotationAndCode/m247514_Site3Annotation_MN_global.json\") as jd:\n",
    "    d = json.load(jd)"
   ]
  },
  {
   "cell_type": "markdown",
   "metadata": {},
   "source": [
    "# Looking at the first set of points"
   ]
  },
  {
   "cell_type": "code",
   "execution_count": 5,
   "metadata": {},
   "outputs": [],
   "source": [
    "import plotly.plotly as py\n",
    "import plotly.graph_objs as go"
   ]
  },
  {
   "cell_type": "code",
   "execution_count": 6,
   "metadata": {},
   "outputs": [
    {
     "name": "stdout",
     "output_type": "stream",
     "text": [
      "d.keys(): ['area_lists']\n",
      "1046\n",
      "d['area_lists'].keys(): ['oid', 'id', 'areas']\n",
      "12\n"
     ]
    }
   ],
   "source": [
    "print('d.keys():', list(d.keys()))\n",
    "print(len(d['area_lists']))\n",
    "print(\"d['area_lists'].keys():\", list(d['area_lists'][0].keys()))\n",
    "print(len(d['area_lists'][3]['areas']))"
   ]
  },
  {
   "cell_type": "code",
   "execution_count": 7,
   "metadata": {},
   "outputs": [
    {
     "name": "stdout",
     "output_type": "stream",
     "text": [
      "dict_keys(['oid', 'id', 'areas'])\n",
      "dict_keys(['local_path', 'z', 'global_path', 'tileIds'])\n"
     ]
    }
   ],
   "source": [
    "print(d['area_lists'][0].keys())\n",
    "#print(d['area_lists'][0]['areas'])#a list of dicts\n",
    "print(d['area_lists'][0]['areas'][0].keys())"
   ]
  },
  {
   "cell_type": "code",
   "execution_count": 8,
   "metadata": {},
   "outputs": [],
   "source": [
    "def gen_xy_ints(al, i):\n",
    "    x = [int(i[0]) for i in al['areas'][i]['global_path']]\n",
    "    y = [int(i[1]) for i in al['areas'][i]['global_path']]\n",
    "    z = al['areas'][i]['z'] #already int?\n",
    "    return x,y,z"
   ]
  },
  {
   "cell_type": "code",
   "execution_count": 9,
   "metadata": {},
   "outputs": [],
   "source": [
    "def give_x_y_get_newx_newy(x,y):\n",
    "    def points_along_line(x,y):\n",
    "        #print('NEW SHIT')\n",
    "        #print(len(x)==len(y))\n",
    "        if x[1]-x[0]!=0 and y[1]-y[0]==0:\n",
    "            interp_x = np.linspace(x[0],x[1],np.abs(x[1]-x[0])+1)\n",
    "            interp_y = [y[0]]*len(interp_x)\n",
    "        elif y[1]-y[0]!=0 and x[1]-x[0]==0:\n",
    "            interp_y = np.linspace(y[0],y[1],np.abs(y[1]-y[0])+1)\n",
    "            interp_x = [x[0]]*len(interp_y)\n",
    "        elif y[1]-y[0]!=0 and y[1]-y[0]!=0:\n",
    "            interp_x = np.linspace(x[0],x[1],np.abs(x[1]-x[0])+1)\n",
    "            interp_y = np.linspace(y[0],y[1],np.abs(y[1]-y[0])+1)\n",
    "        else:\n",
    "            interp_x = x\n",
    "            interp_y = y\n",
    "        if len(interp_x) < len(interp_y):\n",
    "            diff = len(interp_y) - len(interp_x)\n",
    "            interp_x = np.concatenate((interp_x,[interp_x[-1] for a in range(0,diff)]))\n",
    "        elif len(interp_x) > len(interp_y):\n",
    "            diff = len(interp_x) - len(interp_y)\n",
    "            interp_y = np.concatenate((interp_y,[interp_y[-1] for a in range(0,diff)]))\n",
    "        return interp_x, interp_y\n",
    "    new_x = []\n",
    "    new_y = []\n",
    "    for j in range(-1, len(x)-1):\n",
    "        interp_x , interp_y = points_along_line([x[j],x[j+1]], [y[j],y[j+1]])\n",
    "        new_x = new_x + [int(a) for a in interp_x[1:]]\n",
    "        new_y = new_y + [int(a) for a in interp_y[1:]]\n",
    "    #plt.scatter(x,y)\n",
    "    #plt.show()\n",
    "    #plt.scatter(new_x, new_y)\n",
    "    #plt.show()\n",
    "    return new_x, new_y"
   ]
  },
  {
   "cell_type": "code",
   "execution_count": 10,
   "metadata": {},
   "outputs": [],
   "source": [
    "def give_connected_scatter_get_filled(new_x, new_y, return_coords=True):\n",
    "    #go from the points to a mask\n",
    "    x_len = np.max(new_x)-np.min(new_x)+1\n",
    "    y_len = np.max(new_y)-np.min(new_y)+1\n",
    "    mask = np.zeros((x_len, y_len))\n",
    "    mask_x = new_x-np.min(new_x)\n",
    "    mask_y = new_y-np.min(new_y)\n",
    "    #print(len(new_x)==len(new_y))\n",
    "    for i in range(0,len(new_x)):\n",
    "        mask[mask_x[i]][mask_y[i]] = 1\n",
    "    #plt.imshow(mask)\n",
    "    #plt.show()\n",
    "    #now have mask\n",
    "    mask_topdown = mask.copy()\n",
    "    mask_botup = mask.copy()\n",
    "    counter_down = np.zeros(len(mask))\n",
    "    for row in range(1,len(mask)-1): #this is inefficient\n",
    "        for idx in range(0,len(mask[row])-1):\n",
    "            if mask_topdown[row-1][idx] == 1:\n",
    "                mask_topdown[row][idx] = 1\n",
    "    for row in range(len(mask)-2,0,-1): #this is inefficient\n",
    "        for idx in range(0,len(mask[row])-1):\n",
    "            if mask_botup[row+1][idx] == 1:\n",
    "                mask_botup[row][idx] = 1\n",
    "    ###########\n",
    "    mask_leftr = mask.T.copy()\n",
    "    mask_rightl = mask.T.copy()\n",
    "    for row in range(1,len(mask.T)-1): #this is inefficient\n",
    "        for idx in range(0,len(mask.T[row])-1):\n",
    "            if mask_leftr[row-1][idx] == 1:\n",
    "                mask_leftr[row][idx] = 1\n",
    "    for row in range(len(mask.T)-2,0,-1): #this is inefficient\n",
    "        for idx in range(0,len(mask.T[row])-1):\n",
    "            if mask_rightl[row+1][idx] == 1:\n",
    "                mask_rightl[row][idx] = 1\n",
    "    mask3 = np.logical_and(mask_leftr, mask_rightl)\n",
    "    ###########\n",
    "    mask2 = np.logical_and(mask_topdown, mask_botup)\n",
    "    mask4 = np.logical_and(mask2,mask3.T)\n",
    "    #plt.imshow(mask4)#2\n",
    "    #plt.show()\n",
    "    if return_coords:\n",
    "        #go from the mask back to the points\n",
    "        final_coords = np.nonzero(mask4)\n",
    "        final_x = final_coords[0]+np.min(new_x)\n",
    "        final_y = final_coords[1]+np.min(new_y)\n",
    "        return final_x, final_y\n",
    "    else:\n",
    "        return mask4#2"
   ]
  },
  {
   "cell_type": "code",
   "execution_count": 11,
   "metadata": {},
   "outputs": [
    {
     "data": {
      "text/html": [
       "<iframe id=\"igraph\" scrolling=\"no\" style=\"border:none;\" seamless=\"seamless\" src=\"https://plot.ly/~howdosheeplamp/254.embed\" height=\"525px\" width=\"100%\"></iframe>"
      ],
      "text/plain": [
       "<plotly.tools.PlotlyDisplay object>"
      ]
     },
     "execution_count": 11,
     "metadata": {},
     "output_type": "execute_result"
    }
   ],
   "source": [
    "#fill connected scatter for a single area list\n",
    "al0 = d['area_lists'][3]#some specific arealist\n",
    "data = []\n",
    "for i in range(len(al0['areas'])):\n",
    "    i=8\n",
    "    x,y,z = gen_xy_ints(al0, i)\n",
    "    new_x, new_y = give_x_y_get_newx_newy(x,y)\n",
    "    final_x, final_y = give_connected_scatter_get_filled(new_x,new_y)\n",
    "    trace = go.Scatter3d(\n",
    "        x=final_x, y=final_y, z=[z]*len(final_x),\n",
    "        mode='markers',\n",
    "        marker=dict(\n",
    "            size=1,\n",
    "            color=z,\n",
    "            colorscale='Viridis',\n",
    "            opacity=0.5\n",
    "            )\n",
    "    )\n",
    "    data.append(trace)\n",
    "    break\n",
    "layout = go.Layout(\n",
    "    margin=dict(\n",
    "        l=0,\n",
    "        r=0,\n",
    "        b=0,\n",
    "        t=0\n",
    "    )\n",
    ")\n",
    "fig = go.Figure(data=data, layout=layout)\n",
    "py.iplot(fig, filename='simple-3d-scatter')\n",
    "    "
   ]
  },
  {
   "cell_type": "code",
   "execution_count": 12,
   "metadata": {},
   "outputs": [
    {
     "name": "stdout",
     "output_type": "stream",
     "text": [
      "The draw time for this plot will be slow for clients without much RAM.\n"
     ]
    },
    {
     "name": "stderr",
     "output_type": "stream",
     "text": [
      "/usr/local/lib/python3.6/site-packages/plotly/api/v1/clientresp.py:40: UserWarning:\n",
      "\n",
      "Estimated Draw Time Slow\n",
      "\n"
     ]
    },
    {
     "data": {
      "text/html": [
       "<iframe id=\"igraph\" scrolling=\"no\" style=\"border:none;\" seamless=\"seamless\" src=\"https://plot.ly/~howdosheeplamp/258.embed\" height=\"525px\" width=\"100%\"></iframe>"
      ],
      "text/plain": [
       "<plotly.tools.PlotlyDisplay object>"
      ]
     },
     "execution_count": 12,
     "metadata": {},
     "output_type": "execute_result"
    }
   ],
   "source": [
    "#scatter for all area_lists\n",
    "data_trace = []\n",
    "alcounter = 0\n",
    "for arealist in d['area_lists'][:5]:\n",
    "    alcounter += 1\n",
    "    for i in range(len(arealist['areas'])):\n",
    "        x,y,z = gen_xy_ints(arealist, i)\n",
    "        new_x, new_y = give_x_y_get_newx_newy(x,y)\n",
    "        final_x, final_y = give_connected_scatter_get_filled(new_x,new_y)\n",
    "        \n",
    "        trace = go.Scatter3d(\n",
    "            x=final_x, y=final_y, z=[z]*len(final_x),\n",
    "            mode ='markers',\n",
    "            marker = dict(\n",
    "                size=2,\n",
    "                color=z,\n",
    "                colorscale='Viridis',\n",
    "                opacity=0.2\n",
    "                )\n",
    "        )\n",
    "        data_trace.append(trace)\n",
    "    print(alcounter, '/50', end=\"\\r\")\n",
    "layout = go.Layout(\n",
    "    margin=dict(\n",
    "        l=0,\n",
    "        r=0,\n",
    "        b=0,\n",
    "        t=0\n",
    "    )\n",
    ")\n",
    "fig = go.Figure(data=data_trace, layout=layout)\n",
    "py.iplot(fig, filename='0-49')"
   ]
  },
  {
   "cell_type": "markdown",
   "metadata": {},
   "source": [
    "## Putting stuff into one big tiff:"
   ]
  },
  {
   "cell_type": "code",
   "execution_count": 13,
   "metadata": {},
   "outputs": [
    {
     "name": "stdout",
     "output_type": "stream",
     "text": [
      "1046 /1046\r"
     ]
    }
   ],
   "source": [
    "#meshses for all area_lists\n",
    "data = []\n",
    "alcounter = 0\n",
    "uid = 0\n",
    "for arealist in d['area_lists']:\n",
    "    alcounter += 1\n",
    "    uid +=1\n",
    "    for i in range(len(arealist['areas'])):\n",
    "        x,y,z = gen_xy_ints(arealist, i)\n",
    "        new_x, new_y = give_x_y_get_newx_newy(x,y)\n",
    "        final_x, final_y = give_connected_scatter_get_filled(new_x,new_y)\n",
    "        region_data = {'x':final_x, 'y':final_y, 'z':z , 'uid':uid}\n",
    "        data.append(region_data)\n",
    "    print(alcounter, '/1046', end=\"\\r\")"
   ]
  },
  {
   "cell_type": "code",
   "execution_count": 14,
   "metadata": {},
   "outputs": [
    {
     "name": "stdout",
     "output_type": "stream",
     "text": [
      "4945\n",
      "each index is z-slice in ascending oder, size is how many arealists on each z:\n",
      "[93, 101, 111, 96, 103, 93, 91, 89, 95, 95, 102, 110, 95, 103, 97, 94, 116, 122, 124, 100, 93, 99, 96, 89, 80, 90, 89, 98, 91, 93, 106, 106, 115, 120, 101, 107, 103, 106, 110, 108, 105, 104, 89, 88, 88, 89, 86, 94, 89, 83]\n",
      "within each arealist, we have a list of dictionaries(areas) with 'x', 'y', 'z'\n",
      "arealist 1, area 6:  {'x': array([6870, 6870, 6870, ..., 6881, 6881, 6881]), 'y': array([5849, 5850, 5851, ..., 5953, 5954, 5955]), 'z': 0.0, 'uid': 56}\n"
     ]
    }
   ],
   "source": [
    "sorted_z = sorted(data, key=lambda k: k['z'])\n",
    "tot_z = [int(a['z']) for a in sorted_z]\n",
    "list_z = []\n",
    "for val in range(min(tot_z), max(tot_z)+1):\n",
    "    curr_z = []\n",
    "    for b in data:\n",
    "        if int(b['z'])==val:\n",
    "            curr_z.append(b)\n",
    "    list_z.append(curr_z)\n",
    "print(np.sum([len(i) for i in list_z]))\n",
    "print('each index is z-slice in ascending oder, size is how many arealists on each z:')\n",
    "print([len(a) for a in list_z])\n",
    "print(\"within each arealist, we have a list of dictionaries(areas) with 'x', 'y', 'z'\")\n",
    "print('arealist 1, area 6: ', list_z[0][5])"
   ]
  },
  {
   "cell_type": "markdown",
   "metadata": {},
   "source": [
    "## Boss Stuff"
   ]
  },
  {
   "cell_type": "code",
   "execution_count": 15,
   "metadata": {},
   "outputs": [
    {
     "name": "stdout",
     "output_type": "stream",
     "text": [
      "number of slices:  50\n",
      "each slice:  (14020, 14723)\n"
     ]
    }
   ],
   "source": [
    "#we look at https://ndwebtools.neurodata.io/cutout/collman/M247514_Rorb_1_Site3Align2_EM/\n",
    "voxel_unit = 'nanometers'\n",
    "x_start = 0\n",
    "x_stop = 14020\n",
    "x_voxel_size = 3.0\n",
    "y_start = 0\n",
    "y_stop = 14723\n",
    "y_voxel_size = 3.0\n",
    "z_start = 0\n",
    "z_stop = 49\n",
    "z_voxel_size = 50.0\n",
    "\n",
    "masks = []\n",
    "for z_value in list_z:\n",
    "    mask = np.zeros((x_stop-x_start,y_stop-y_start))\n",
    "    for arealist in z_value:\n",
    "        for i in range(0,len(arealist['x'])-1):\n",
    "            mask[arealist['x'][i]][arealist['y'][i]] = arealist['uid']\n",
    "    masks.append(mask)\n",
    "print('number of slices: ', len(masks))\n",
    "print('each slice: ', mask.shape)"
   ]
  },
  {
   "cell_type": "code",
   "execution_count": 16,
   "metadata": {},
   "outputs": [
    {
     "name": "stdout",
     "output_type": "stream",
     "text": [
      "((512, 1024), (512, 1024), (16, 32))\n"
     ]
    }
   ],
   "source": [
    "rmt = BossRemote('./neurodata.cfg')\n",
    "\n",
    "COLL_NAME = 'collman'\n",
    "EXP_NAME = 'M247514_Rorb_1_Site3Align2_EM'\n",
    "CHAN_NAME = 'm247514_Site3Annotation_MN_global'\n",
    "\n",
    "# Create a new channel that uses uint16 data.\n",
    "chan_setup = ChannelResource(CHAN_NAME, COLL_NAME, EXP_NAME, 'annotation', datatype='uint64')\n",
    "chan = rmt.get_project(chan_setup)\n",
    "\n",
    "# Ranges use the Python convention where the second number is the stop\n",
    "# value.  Thus, x_rng specifies x values where: 0 <= x < 8.\n",
    "x_rng = [0, 14020]\n",
    "y_rng = [0, 14723]\n",
    "z_rng = [0, 49]\n",
    "\n",
    "ranges = block_compute(*x_rng,*y_rng,*z_rng)\n",
    "print(ranges[0])"
   ]
  },
  {
   "cell_type": "code",
   "execution_count": null,
   "metadata": {},
   "outputs": [
    {
     "name": "stderr",
     "output_type": "stream",
     "text": [
      "\n",
      "  0%|          | 0/3248 [00:00<?, ?it/s]\u001b[A\n",
      "  0%|          | 1/3248 [00:01<1:28:40,  1.64s/it]\u001b[A\n",
      "  0%|          | 2/3248 [00:02<1:12:36,  1.34s/it]\u001b[A\n",
      "  0%|          | 3/3248 [00:03<57:42,  1.07s/it]  \u001b[A\n",
      "  0%|          | 4/3248 [00:03<47:52,  1.13it/s]\u001b[A\n",
      "  0%|          | 5/3248 [00:04<45:26,  1.19it/s]\u001b[A\n",
      "  0%|          | 6/3248 [00:07<1:07:06,  1.24s/it]\u001b[A\n",
      "  0%|          | 7/3248 [00:08<1:05:01,  1.20s/it]\u001b[A\n",
      "  0%|          | 8/3248 [00:08<58:19,  1.08s/it]  \u001b[A\n",
      "Exception in thread Thread-4:\n",
      "Traceback (most recent call last):\n",
      "  File \"/usr/local/Cellar/python3/3.6.3/Frameworks/Python.framework/Versions/3.6/lib/python3.6/threading.py\", line 916, in _bootstrap_inner\n",
      "    self.run()\n",
      "  File \"/usr/local/lib/python3.6/site-packages/tqdm/_tqdm.py\", line 144, in run\n",
      "    for instance in self.tqdm_cls._instances:\n",
      "  File \"/usr/local/Cellar/python3/3.6.3/Frameworks/Python.framework/Versions/3.6/lib/python3.6/_weakrefset.py\", line 60, in __iter__\n",
      "    for itemref in self.data:\n",
      "RuntimeError: Set changed size during iteration\n",
      "\n",
      " 88%|████████▊ | 2864/3248 [29:03<03:53,  1.64it/s]"
     ]
    }
   ],
   "source": [
    "for some_range in tqdm(ranges):\n",
    "    x,y,z = some_range\n",
    "    data_cut = np.stack([np.transpose(np.array(masks[z_idx][x[0]:x[1], y[0]:y[1]], dtype='uint64')) for z_idx in range(z[0],z[1])])\n",
    "    rmt.create_cutout(chan, 0, x, y, z, np.ascontiguousarray(data_cut))\n",
    "    \n",
    "print('ok')"
   ]
  },
  {
   "cell_type": "code",
   "execution_count": null,
   "metadata": {},
   "outputs": [],
   "source": []
  }
 ],
 "metadata": {
  "kernelspec": {
   "display_name": "Python 3",
   "language": "python",
   "name": "python3"
  },
  "language_info": {
   "codemirror_mode": {
    "name": "ipython",
    "version": 3
   },
   "file_extension": ".py",
   "mimetype": "text/x-python",
   "name": "python",
   "nbconvert_exporter": "python",
   "pygments_lexer": "ipython3",
   "version": "3.6.3"
  },
  "toc": {
   "nav_menu": {},
   "number_sections": true,
   "sideBar": true,
   "skip_h1_title": false,
   "toc_cell": false,
   "toc_position": {},
   "toc_section_display": "block",
   "toc_window_display": false
  }
 },
 "nbformat": 4,
 "nbformat_minor": 2
}
