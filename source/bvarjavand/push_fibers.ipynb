{
 "cells": [
  {
   "cell_type": "code",
   "execution_count": 1,
   "metadata": {},
   "outputs": [],
   "source": [
    "import struct"
   ]
  },
  {
   "cell_type": "code",
   "execution_count": 2,
   "metadata": {},
   "outputs": [],
   "source": [
    "f = open(\"seyoun_skeleton_neuroglancer.dms\", \"rb\")\n",
    "data = f.read()\n",
    "num_verts = struct.unpack('<Q', data[0:8])[0]\n",
    "num_edges = struct.unpack('<Q', data[8:16])[0]\n",
    "bytes_per_vert = 12 + 4 # 12 from 3 verts and 4 from group ID\n",
    "bytes_per_edge = 16\n",
    "verts = []\n",
    "edges = []\n",
    "idx = 16\n",
    "while idx <= num_verts * bytes_per_vert:\n",
    "    vert = list(struct.unpack('<fff', data[idx:idx+12]))\n",
    "    int_end = struct.unpack('<I', data[idx+12:idx+16])[0]\n",
    "    vert = vert + [int_end]\n",
    "#     print(vert)\n",
    "    verts.append(list(vert))\n",
    "    idx = idx + 16\n",
    "while idx <= num_verts * bytes_per_vert + num_edges * bytes_per_edge:\n",
    "    edge = struct.unpack('<QQ', data[idx:idx+16])\n",
    "#     print(edge)\n",
    "    edges.append(list(edge))\n",
    "    idx = idx + 16\n",
    "    \n",
    "#assert(idx == len(data))\n",
    "f.close()"
   ]
  },
  {
   "cell_type": "code",
   "execution_count": 3,
   "metadata": {},
   "outputs": [
    {
     "name": "stdout",
     "output_type": "stream",
     "text": [
      "417498 417445\n"
     ]
    }
   ],
   "source": [
    "print(len(verts), len(edges))"
   ]
  },
  {
   "cell_type": "code",
   "execution_count": 4,
   "metadata": {},
   "outputs": [
    {
     "name": "stdout",
     "output_type": "stream",
     "text": [
      "[1340.0, 2192.0, 275.0, 1]\n"
     ]
    }
   ],
   "source": [
    "print(verts[42])"
   ]
  },
  {
   "cell_type": "code",
   "execution_count": 5,
   "metadata": {},
   "outputs": [],
   "source": [
    "x = [0, 14757]\n",
    "y = [0, 20982]\n",
    "z = [0, 1272]\n",
    "voxel = [585, 585, 5000]"
   ]
  },
  {
   "cell_type": "code",
   "execution_count": 6,
   "metadata": {},
   "outputs": [],
   "source": [
    "import numpy as np"
   ]
  },
  {
   "cell_type": "code",
   "execution_count": 7,
   "metadata": {},
   "outputs": [
    {
     "name": "stdout",
     "output_type": "stream",
     "text": [
      "[[1340.0, 2192.0, 275.0, 1], [1342.0, 2190.0, 275.0, 1], [1342.0, 2188.5, 275.0, 1], [1341.0, 2189.5, 275.0, 1], [1342.0, 2190.5, 275.0, 1], [1340.5, 2190.0, 275.0, 1], [1342.0, 2191.0, 275.0, 1], [1340.0, 2193.0, 275.0, 1]]\n",
      " \n",
      "[[1340, 2192, 275, 1], [1342, 2190, 275, 1], [1342, 2188, 275, 1], [1341, 2189, 275, 1], [1342, 2190, 275, 1], [1340, 2190, 275, 1], [1342, 2191, 275, 1], [1340, 2193, 275, 1]]\n"
     ]
    }
   ],
   "source": [
    "print(verts[42:50])\n",
    "int_verts = [[int(v) for v in vert] for vert in verts]\n",
    "print(' ')\n",
    "print(int_verts[42:50])"
   ]
  },
  {
   "cell_type": "code",
   "execution_count": 8,
   "metadata": {},
   "outputs": [],
   "source": [
    "def vert2int(vert):\n",
    "    ints = [int(v) for v in vert]\n",
    "    return ints"
   ]
  },
  {
   "cell_type": "code",
   "execution_count": 9,
   "metadata": {},
   "outputs": [],
   "source": [
    "collection = 'ailey-dev'\n",
    "experiment = 's3617'\n",
    "channel = 'channel1'\n",
    "x_rng = [3000, 12000]\n",
    "y_rng = [6500, 14000]\n",
    "z_rng = [270, 540]"
   ]
  },
  {
   "cell_type": "code",
   "execution_count": 10,
   "metadata": {},
   "outputs": [
    {
     "data": {
      "text/plain": [
       "(9000, 7500, 540)"
      ]
     },
     "execution_count": 10,
     "metadata": {},
     "output_type": "execute_result"
    }
   ],
   "source": [
    "total_volume = np.zeros((x_rng[1]-x_rng[0],y_rng[1]-y_rng[0],z_rng[1])) #x,y,z\n",
    "total_volume.shape"
   ]
  },
  {
   "cell_type": "code",
   "execution_count": 11,
   "metadata": {},
   "outputs": [],
   "source": [
    "from tqdm import tqdm"
   ]
  },
  {
   "cell_type": "code",
   "execution_count": 12,
   "metadata": {},
   "outputs": [
    {
     "name": "stdout",
     "output_type": "stream",
     "text": [
      "[-1, 0, 1]\n"
     ]
    }
   ],
   "source": [
    "print([i for i in range(-1,2)])"
   ]
  },
  {
   "cell_type": "code",
   "execution_count": 13,
   "metadata": {},
   "outputs": [
    {
     "name": "stdout",
     "output_type": "stream",
     "text": [
      "9\n",
      "[(-1, -1), (-1, 0), (-1, 1), (0, -1), (0, 0), (0, 1), (1, -1), (1, 0), (1, 1)]\n"
     ]
    }
   ],
   "source": [
    "def combinations(r):\n",
    "    return [(i,j) for i in range(-1*r,r+1) for j in range(-1*r,r+1)]\n",
    "print(len(combinations(1)))\n",
    "print(combinations(1))"
   ]
  },
  {
   "cell_type": "code",
   "execution_count": 14,
   "metadata": {},
   "outputs": [
    {
     "name": "stderr",
     "output_type": "stream",
     "text": [
      "100%|██████████| 417445/417445 [04:28<00:00, 1556.28it/s]\n"
     ]
    }
   ],
   "source": [
    "for edge in tqdm(edges):\n",
    "    v1, v2 = edge\n",
    "    vert1 = vert2int(verts[v1])\n",
    "    vert2 = vert2int(verts[v2])\n",
    "    #diffs = np.subtract(vert1,vert2)\n",
    "    #if np.any(np.abs(diffs)>3):\n",
    "    #print(vert1, vert2)\n",
    "    color = vert1[-1]\n",
    "    interp = [[int(c*vert1[0] + (1-c)*vert2[0]), int(c*vert1[1] + (1-c)*vert2[1]), int(c*vert1[2] + (1-c)*vert2[2])] for c in np.linspace(0,1,100)]\n",
    "    unique_data = [list(x) for x in set(tuple(x) for x in interp)]\n",
    "    #print('interp:',unique_data)\n",
    "    #print('color:', color)\n",
    "    for element in unique_data:\n",
    "        for ind in combinations(5):\n",
    "            total_volume[element[0]+ind[0]-3000, element[1]+ind[1]-6500, element[2]] = color"
   ]
  },
  {
   "cell_type": "code",
   "execution_count": 15,
   "metadata": {},
   "outputs": [],
   "source": [
    "import matplotlib.pyplot as plt\n",
    "import tifffile as tif\n",
    "#plt.imshow(total_volume[:,:,0]) #Needs to be in row,col order\n",
    "#plt.show()\n",
    "#tif.imsave('total_volume.tif', total_volume[0])"
   ]
  },
  {
   "cell_type": "code",
   "execution_count": 16,
   "metadata": {},
   "outputs": [],
   "source": [
    "def block_compute(x_start, x_stop,\n",
    "                  y_start, y_stop,\n",
    "                  z_start, z_stop,\n",
    "                  origin=(0, 0, 0),\n",
    "                  block_size=(512, 512, 16)):\n",
    "\n",
    "    # x\n",
    "    x_bounds = range(origin[0], x_stop + block_size[0], block_size[0])\n",
    "    x_bounds = [x for x in x_bounds if (x > x_start and x < x_stop)]\n",
    "    if len(x_bounds) is 0:\n",
    "        x_slices = [(x_start, x_stop)]\n",
    "    else:\n",
    "        x_slices = []\n",
    "        for start_x in x_bounds[:-1]:\n",
    "            x_slices.append((start_x, start_x + block_size[0]))\n",
    "        x_slices.append((x_start, x_bounds[0]))\n",
    "        x_slices.append((x_bounds[-1], x_stop))\n",
    "\n",
    "    # y\n",
    "    y_bounds = range(origin[1], y_stop + block_size[1], block_size[1])\n",
    "    y_bounds = [y for y in y_bounds if (y > y_start and y < y_stop)]\n",
    "    if len(y_bounds) is 0:\n",
    "        y_slices = [(y_start, y_stop)]\n",
    "    else:\n",
    "        y_slices = []\n",
    "        for start_y in y_bounds[:-1]:\n",
    "            y_slices.append((start_y, start_y + block_size[1]))\n",
    "        y_slices.append((y_start, y_bounds[0]))\n",
    "        y_slices.append((y_bounds[-1], y_stop))\n",
    "\n",
    "    # z\n",
    "    z_bounds = range(origin[2], z_stop + block_size[2], block_size[2])\n",
    "    z_bounds = [z for z in z_bounds if (z > z_start and z < z_stop)]\n",
    "    if len(z_bounds) is 0:\n",
    "        z_slices = [(z_start, z_stop)]\n",
    "    else:\n",
    "        z_slices = []\n",
    "        for start_z in z_bounds[:-1]:\n",
    "            z_slices.append((start_z, start_z + block_size[2]))\n",
    "        z_slices.append((z_start, z_bounds[0]))\n",
    "        z_slices.append((z_bounds[-1], z_stop))\n",
    "\n",
    "    chunks = []\n",
    "    for x in x_slices:\n",
    "        for y in y_slices:\n",
    "            for z in z_slices:\n",
    "                chunks.append((x, y, z))\n",
    "    return chunks\n"
   ]
  },
  {
   "cell_type": "code",
   "execution_count": 17,
   "metadata": {},
   "outputs": [],
   "source": [
    "regions = block_compute(0, total_volume.shape[0],\n",
    "                        0, total_volume.shape[1],\n",
    "                        0, total_volume.shape[2],\n",
    "                        origin=(3000,6500,0),\n",
    "                        block_size=(512, 512, 16))"
   ]
  },
  {
   "cell_type": "code",
   "execution_count": 18,
   "metadata": {},
   "outputs": [],
   "source": [
    "from intern.remote.boss import BossRemote\n",
    "from intern.resource.boss.resource import ChannelResource"
   ]
  },
  {
   "cell_type": "code",
   "execution_count": 19,
   "metadata": {},
   "outputs": [],
   "source": [
    "rmt = BossRemote('../meshes/neurodata.cfg')\n",
    "\n",
    "COLL_NAME = collection\n",
    "EXP_NAME = experiment\n",
    "CHAN_NAME = 'test_upload'\n",
    "\n",
    "# Create a new channel that uses uint16 data.\n",
    "chan_setup = ChannelResource(CHAN_NAME, COLL_NAME, EXP_NAME, 'annotation', datatype='uint64')\n",
    "chan = rmt.get_project(chan_setup)"
   ]
  },
  {
   "cell_type": "code",
   "execution_count": 23,
   "metadata": {},
   "outputs": [
    {
     "name": "stdout",
     "output_type": "stream",
     "text": [
      "((0, 3000), (0, 6500), (48, 64))\n"
     ]
    }
   ],
   "source": [
    "print(regions[1158])"
   ]
  },
  {
   "cell_type": "code",
   "execution_count": null,
   "metadata": {},
   "outputs": [],
   "source": [
    "for region in tqdm(regions[1157:]):#1156?\n",
    "    x,y,z = region\n",
    "    data_cut = np.array(total_volume[x[0]:x[1], y[0]:y[1], z[0]:z[1]], dtype='uint64')\n",
    "    rmt.create_cutout(chan, 0, x, y, z, np.ascontiguousarray(data_cut))"
   ]
  },
  {
   "cell_type": "code",
   "execution_count": null,
   "metadata": {},
   "outputs": [],
   "source": []
  }
 ],
 "metadata": {
  "kernelspec": {
   "display_name": "Python 3",
   "language": "python",
   "name": "python3"
  },
  "language_info": {
   "codemirror_mode": {
    "name": "ipython",
    "version": 3
   },
   "file_extension": ".py",
   "mimetype": "text/x-python",
   "name": "python",
   "nbconvert_exporter": "python",
   "pygments_lexer": "ipython3",
   "version": "3.6.3"
  },
  "toc": {
   "nav_menu": {},
   "number_sections": true,
   "sideBar": true,
   "skip_h1_title": false,
   "toc_cell": false,
   "toc_position": {},
   "toc_section_display": "block",
   "toc_window_display": false
  }
 },
 "nbformat": 4,
 "nbformat_minor": 2
}
