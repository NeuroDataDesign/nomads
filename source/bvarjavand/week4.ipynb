{
 "cells": [
  {
   "cell_type": "code",
   "execution_count": 3,
   "metadata": {},
   "outputs": [],
   "source": [
    "import numpy as np\n",
    "import matplotlib.pyplot as plt\n",
    "import matplotlib.mlab as mlab\n",
    "from mpl_toolkits.mplot3d import Axes3D\n",
    "\n",
    "import time\n",
    "from sklearn.cluster import KMeans\n",
    "from sklearn.mixture import GaussianMixture\n",
    "from sklearn.metrics import silhouette_score\n",
    "import knor\n",
    "from tqdm import tqdm\n",
    "from week3 import *"
   ]
  },
  {
   "cell_type": "code",
   "execution_count": 35,
   "metadata": {},
   "outputs": [],
   "source": [
    "def get_stuff(d, n=100, num_max_iter = 100):\n",
    "    data0, data1 = gen_d_dim_data(d, n)\n",
    "    data = np.concatenate((data0,data1), axis=0)\n",
    "    \n",
    "    \n",
    "    classifier_em = KMeans(n_clusters=2, init='random', n_init=1, max_iter=num_max_iter)\n",
    "    time0 = time.time()\n",
    "    classifier_em.fit(data)\n",
    "    time1 = time.time()\n",
    "    dur_em = time1-time0\n",
    "    \n",
    "    klabels = classifier_em.predict(data)\n",
    "    if np.sum(klabels[:50]) > 25:\n",
    "        klabels = 1-klabels\n",
    "    klabels_0 = data[klabels==0]\n",
    "    klabels_1 = data[klabels==1]\n",
    "    half = len(data)//2\n",
    "    dlabels = np.concatenate(([0]*half,[1]*(len(data)-half)),axis=0)\n",
    "    err_em = np.sum(((dlabels!=klabels)))/len(data)\n",
    "    num_iter_em = classifier_em.n_iter_+1\n",
    "    \n",
    "    dur_init=0\n",
    "    num_init=0\n",
    "    while dur_init<dur_em:\n",
    "        num_init += 10\n",
    "        classifier_init = KMeans(n_clusters=2, init='k-means++', n_init=num_init, max_iter=n)\n",
    "        time0 = time.time()\n",
    "        classifier_init.fit(data)\n",
    "        time1 = time.time()\n",
    "        dur_init = time1-time0\n",
    "\n",
    "    klabels = classifier_init.predict(data)\n",
    "    if np.sum(klabels[:50]) > 25:\n",
    "        klabels = 1-klabels\n",
    "    klabels_0 = data[klabels==0]\n",
    "    klabels_1 = data[klabels==1]\n",
    "    half = len(data)//2\n",
    "    dlabels = np.concatenate(([0]*half,[1]*(len(data)-half)),axis=0)\n",
    "    err_init = np.sum(((dlabels!=klabels)))/len(data)\n",
    "    num_iter_init = classifier_init.n_iter_+1\n",
    "\n",
    "    \n",
    "    return dur_init, dur_em, num_iter_init, num_iter_em, err_init, err_em, num_init"
   ]
  },
  {
   "cell_type": "code",
   "execution_count": 36,
   "metadata": {},
   "outputs": [
    {
     "name": "stderr",
     "output_type": "stream",
     "text": [
      "100%|██████████| 10/10 [01:11<00:00,  7.10s/it]\n"
     ]
    }
   ],
   "source": [
    "dur_inits = []\n",
    "dur_ems = []\n",
    "num_iter_inits = []\n",
    "num_iter_ems = []\n",
    "num_inits = []\n",
    "err_inits = []\n",
    "err_ems = []\n",
    "x = [int(i) for i in np.linspace(1,101,10)]\n",
    "#for i in tqdm(range(1,20)):\n",
    "for i in tqdm(x):\n",
    "    m_dur_inits = []\n",
    "    m_dur_ems = []\n",
    "    m_num_iter_inits = []\n",
    "    m_num_iter_ems = []\n",
    "    m_num_inits = []\n",
    "    m_err_inits = []\n",
    "    m_err_ems = []\n",
    "    for _ in range(1000):\n",
    "        dur_init, dur_em, num_iter_init, num_iter_em, err_init, err_em, num_init = get_stuff(i,n=1)\n",
    "        m_dur_inits.append(dur_init)\n",
    "        m_dur_ems.append(dur_em)\n",
    "        m_num_iter_inits.append(num_iter_init)\n",
    "        m_num_iter_ems.append(num_iter_em)\n",
    "        m_err_inits.append(err_init)\n",
    "        m_err_ems.append(err_em)\n",
    "        m_num_inits.append(num_init)\n",
    "    dur_inits.append((np.mean(m_dur_inits),np.std(m_dur_inits)))\n",
    "    dur_ems.append((np.mean(m_dur_ems),np.std(m_dur_ems)))\n",
    "    num_iter_inits.append((np.mean(m_num_iter_inits),np.std(m_num_iter_inits)))\n",
    "    num_iter_ems.append((np.mean(m_num_iter_ems),np.std(m_num_iter_ems)))\n",
    "    err_inits.append((np.mean(m_err_inits),np.std(m_err_inits)))\n",
    "    err_ems.append((np.mean(m_err_ems),np.std(m_err_ems)))\n",
    "    num_inits.append((np.mean(m_num_inits),np.std(m_num_inits)))\n",
    "\n",
    "dur_inits = [list(t) for t in zip(*dur_inits)]\n",
    "dur_ems = [list(t) for t in zip(*dur_ems)]\n",
    "num_iter_inits = [list(t) for t in zip(*num_iter_inits)]\n",
    "num_iter_ems = [list(t) for t in zip(*num_iter_ems)]\n",
    "err_inits = [list(t) for t in zip(*err_inits)]\n",
    "err_ems = [list(t) for t in zip(*err_ems)]\n",
    "num_inits = [list(t) for t in zip(*num_inits)]"
   ]
  },
  {
   "cell_type": "code",
   "execution_count": 37,
   "metadata": {},
   "outputs": [],
   "source": [
    "def rem_8(arr):\n",
    "    return np.concatenate((arr[:8],arr[9:]))"
   ]
  },
  {
   "cell_type": "code",
   "execution_count": null,
   "metadata": {},
   "outputs": [],
   "source": []
  },
  {
   "cell_type": "code",
   "execution_count": 38,
   "metadata": {},
   "outputs": [
    {
     "data": {
      "image/png": "[encoded data removed]",
      "text/plain": [
       "<matplotlib.figure.Figure at 0x1181b31d0>"
      ]
     },
     "metadata": {},
     "output_type": "display_data"
    }
   ],
   "source": [
    "plt.figure(figsize=(18,4))\n",
    "plt.suptitle('n=1000')\n",
    "plt.subplot(131)\n",
    "#plt.errorbar(range(1,20), dur_inits[0], yerr=dur_inits[1], alpha=0.5, label='inits')\n",
    "plt.errorbar(rem_8(x), rem_8(dur_inits[0]), yerr=rem_8(dur_inits[1]), alpha=0.5, label='inits')\n",
    "plt.errorbar(rem_8(x), rem_8(dur_ems[0]), yerr=rem_8(dur_ems[1]), alpha=0.5, label='iters')\n",
    "plt.xlabel('dimension')\n",
    "plt.ylabel('time')\n",
    "plt.title('runtime')\n",
    "plt.legend(loc='best')\n",
    "\n",
    "plt.subplot(132)\n",
    "plt.errorbar(x, num_iter_inits[0], yerr=num_iter_inits[1], alpha=0.5, label='inits')\n",
    "plt.errorbar(x, num_iter_ems[0], yerr=num_iter_ems[1], alpha=0.5, label='iters')\n",
    "plt.errorbar(x, num_inits[0], yerr=num_inits[1], alpha=0.5, label='init seeds')\n",
    "plt.xlabel('dimension')\n",
    "plt.ylabel('number of iterations')\n",
    "plt.title('iterations')\n",
    "plt.legend(loc='upper right')\n",
    "\n",
    "plt.subplot(133)\n",
    "plt.errorbar(x, err_inits[0], yerr=err_inits[1], alpha=0.5, label='inits')\n",
    "plt.errorbar(x, err_ems[0], yerr=err_ems[1], alpha=0.5, label='iters')\n",
    "plt.xlabel('dimension')\n",
    "plt.ylabel('error')\n",
    "plt.title('error')\n",
    "plt.legend(loc='best')\n",
    "plt.show()"
   ]
  },
  {
   "cell_type": "code",
   "execution_count": null,
   "metadata": {},
   "outputs": [],
   "source": []
  },
  {
   "cell_type": "code",
   "execution_count": null,
   "metadata": {},
   "outputs": [],
   "source": []
  }
 ],
 "metadata": {
  "kernelspec": {
   "display_name": "Python 3",
   "language": "python",
   "name": "python3"
  },
  "language_info": {
   "codemirror_mode": {
    "name": "ipython",
    "version": 3
   },
   "file_extension": ".py",
   "mimetype": "text/x-python",
   "name": "python",
   "nbconvert_exporter": "python",
   "pygments_lexer": "ipython3",
   "version": "3.6.3"
  },
  "toc": {
   "nav_menu": {},
   "number_sections": true,
   "sideBar": true,
   "skip_h1_title": false,
   "toc_cell": false,
   "toc_position": {},
   "toc_section_display": "block",
   "toc_window_display": false
  }
 },
 "nbformat": 4,
 "nbformat_minor": 2
}
