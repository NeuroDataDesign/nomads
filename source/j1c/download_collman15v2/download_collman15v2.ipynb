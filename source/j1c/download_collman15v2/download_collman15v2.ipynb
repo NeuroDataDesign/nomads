{
 "cells": [
  {
   "cell_type": "code",
   "execution_count": 1,
   "metadata": {
    "collapsed": true
   },
   "outputs": [],
   "source": [
    "import numpy as np\n",
    "import sys\n",
    "sys.path.append('../../bstadt/NeuroDataResource')\n",
    "sys.path.append('../../bstadt/Util')\n",
    "from NeuroDataResource import NeuroDataResource"
   ]
  },
  {
   "cell_type": "code",
   "execution_count": 2,
   "metadata": {
    "collapsed": true
   },
   "outputs": [],
   "source": [
    "with open('../data/api_key.txt', 'r') as f:\n",
    "    api_key = f.readline()\n",
    "\n",
    "channel_list = [\n",
    "    {'name': 'annotation', 'dtype': 'uint64'},\n",
    "    {'name': 'DAPI1st', 'dtype': 'uint8'},\n",
    "    {'name': 'DAPI2nd', 'dtype': 'uint8'},\n",
    "    {'name': 'DAPI3rd', 'dtype': 'uint8'},\n",
    "    {'name': 'EM25K', 'dtype': 'uint8'},\n",
    "    {'name': 'EM2k', 'dtype': 'uint8'},\n",
    "    {'name': 'GABA488', 'dtype': 'uint8'},\n",
    "    {'name': 'GAD647', 'dtype': 'uint8'},\n",
    "    {'name': 'gephyrin594', 'dtype': 'uint8'},\n",
    "    {'name': 'GS594', 'dtype': 'uint8'},\n",
    "    {'name': 'MBP488', 'dtype': 'uint8'},\n",
    "    {'name': 'NR1594', 'dtype': 'uint8'},\n",
    "    {'name': 'PSD95_488', 'dtype': 'uint8'},\n",
    "    {'name': 'Synapsin647', 'dtype': 'uint8'},\n",
    "    {'name': 'VGluT1_647', 'dtype': 'uint8'}\n",
    "]\n",
    "\n",
    "resource = NeuroDataResource('api.boss.neurodata.io',\n",
    "                               api_key,\n",
    "                               'collman',\n",
    "                               'collman15v2',\n",
    "                               channel_list)"
   ]
  },
  {
   "cell_type": "code",
   "execution_count": null,
   "metadata": {
    "collapsed": true
   },
   "outputs": [],
   "source": [
    "# Set max range\n",
    "z_range = [0, 27]\n",
    "y_range = [0, 4518]\n",
    "x_range = [0, 6306]"
   ]
  },
  {
   "cell_type": "code",
   "execution_count": null,
   "metadata": {
    "collapsed": true
   },
   "outputs": [],
   "source": [
    "data = {}\n",
    "\n",
    "for channel in channel_list:\n",
    "    data[channel['name']] = resource.get_cutout(channel['name'], z_range, y_range, x_range).astype('uint8')\n",
    "    print(\"{} channel downloaded.\".format(channel['name']))"
   ]
  },
  {
   "cell_type": "code",
   "execution_count": null,
   "metadata": {
    "collapsed": true
   },
   "outputs": [],
   "source": [
    "# Set path to save the file and file name\n",
    "path = '../data/collman2015v2.npz'"
   ]
  },
  {
   "cell_type": "code",
   "execution_count": null,
   "metadata": {
    "collapsed": true
   },
   "outputs": [],
   "source": [
    "np.savez_compressed(path, **data)"
   ]
  },
  {
   "cell_type": "code",
   "execution_count": null,
   "metadata": {
    "collapsed": true
   },
   "outputs": [],
   "source": [
    "# Data can be access like a dictionary\n",
    "np_file = np.load(path)"
   ]
  },
  {
   "cell_type": "code",
   "execution_count": null,
   "metadata": {
    "collapsed": true
   },
   "outputs": [],
   "source": [
    "# List of all array names\n",
    "np_file.files"
   ]
  },
  {
   "cell_type": "code",
   "execution_count": null,
   "metadata": {
    "collapsed": true
   },
   "outputs": [],
   "source": [
    "# Load a channel to memory\n",
    "annotation = np_file['annotation']"
   ]
  },
  {
   "cell_type": "code",
   "execution_count": null,
   "metadata": {
    "collapsed": true
   },
   "outputs": [],
   "source": [
    "# Load all channels as a dictionary to memory\n",
    "all_data = {k: v for k, v in np_file.iteritems()}"
   ]
  }
 ],
 "metadata": {
  "kernelspec": {
   "display_name": "Python [default]",
   "language": "python",
   "name": "python3"
  },
  "language_info": {
   "codemirror_mode": {
    "name": "ipython",
    "version": 3
   },
   "file_extension": ".py",
   "mimetype": "text/x-python",
   "name": "python",
   "nbconvert_exporter": "python",
   "pygments_lexer": "ipython3",
   "version": "3.6.1"
  }
 },
 "nbformat": 4,
 "nbformat_minor": 2
}
