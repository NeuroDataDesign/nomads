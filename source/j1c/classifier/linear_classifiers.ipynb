{
 "cells": [
  {
   "cell_type": "code",
   "execution_count": 532,
   "metadata": {},
   "outputs": [],
   "source": [
    "import numpy as np\n",
    "import pandas as pd\n",
    "import matplotlib.pyplot as plt\n",
    "import itertools\n",
    "\n",
    "import seaborn as sns\n",
    "\n",
    "from sklearn.utils import resample\n",
    "from sklearn.svm import SVC\n",
    "from sklearn.model_selection import train_test_split, StratifiedKFold, RepeatedStratifiedKFold\n",
    "from sklearn.ensemble import RandomForestClassifier\n",
    "from sklearn.metrics import confusion_matrix, roc_auc_score\n",
    "from sklearn.decomposition import PCA\n",
    "\n",
    "from sklearn.utils.class_weight import compute_sample_weight, compute_class_weight"
   ]
  },
  {
   "cell_type": "code",
   "execution_count": 539,
   "metadata": {},
   "outputs": [],
   "source": [
    "def plot_confusion_matrix(cm, classes,\n",
    "                          normalize=False,\n",
    "                          title='Confusion matrix',\n",
    "                          cmap=plt.cm.Blues):\n",
    "    \"\"\"\n",
    "    This function prints and plots the confusion matrix.\n",
    "    Normalization can be applied by setting `normalize=True`.\n",
    "    \"\"\"\n",
    "    if normalize:\n",
    "        cm = cm.astype('float') / cm.sum(axis=1)[:, np.newaxis]\n",
    "        print(\"Normalized confusion matrix\")\n",
    "    else:\n",
    "        print('Confusion matrix, without normalization')\n",
    "\n",
    "    print(cm)\n",
    "\n",
    "    plt.imshow(cm, interpolation='nearest', cmap=cmap)\n",
    "    plt.title(title)\n",
    "    plt.colorbar()\n",
    "    tick_marks = np.arange(len(classes))\n",
    "    plt.xticks(tick_marks, classes, rotation=45)\n",
    "    plt.yticks(tick_marks, classes)\n",
    "\n",
    "    fmt = '.2f' \n",
    "    thresh = cm.max() / 2.\n",
    "    for i, j in itertools.product(range(cm.shape[0]), range(cm.shape[1])):\n",
    "        plt.text(j, i, format(cm[i, j], fmt),\n",
    "                 horizontalalignment=\"center\",\n",
    "                 color=\"white\" if cm[i, j] > thresh else \"black\")\n",
    "\n",
    "    plt.tight_layout()\n",
    "    plt.ylabel('True label')\n",
    "    plt.xlabel('Predicted label')"
   ]
  },
  {
   "cell_type": "code",
   "execution_count": 441,
   "metadata": {},
   "outputs": [],
   "source": [
    "data = np.load('data.npy')\n",
    "df = pd.read_csv('./MNSite3Synaptograms.csv', header=1, index_col=0)"
   ]
  },
  {
   "cell_type": "code",
   "execution_count": 442,
   "metadata": {},
   "outputs": [
    {
     "data": {
      "text/plain": [
       "(1078, 8, 11, 11, 11)"
      ]
     },
     "execution_count": 442,
     "metadata": {},
     "output_type": "execute_result"
    }
   ],
   "source": [
    "data.shape"
   ]
  },
  {
   "cell_type": "code",
   "execution_count": 443,
   "metadata": {},
   "outputs": [],
   "source": [
    "X = data.copy()\n",
    "y = df['GABA'].values"
   ]
  },
  {
   "cell_type": "code",
   "execution_count": 424,
   "metadata": {},
   "outputs": [],
   "source": [
    "def resample_data(X, y, n_samples, mode):\n",
    "    \"\"\"\n",
    "    Mode = 'downsample' or 'upsample'\n",
    "    \"\"\"\n",
    "    \n",
    "    X_ = X.copy()\n",
    "    if (y==0).sum() > (y==1).sum():\n",
    "        X_major = X_[y==0]\n",
    "        X_minor = X_[y==1]\n",
    "    else:\n",
    "        X_major = X_[y==1]\n",
    "        X_minor = X_[y==0]\n",
    "    \n",
    "    if mode == 'upsample':\n",
    "        X_minor = resample(X_minor, n_samples=n_samples, replace=True)\n",
    "    elif mode == 'downsample':\n",
    "        X_major = resample(X_major, n_samples=n_samples, replace=False)\n",
    "        \n",
    "    X_ = np.vstack((X_minor, X_major))\n",
    "    y_ = np.zeros(len(X_minor) + len(X_major), dtype=np.int)\n",
    "    y_[:len(X_minor)] = 1\n",
    "    \n",
    "    return X_, y_"
   ]
  },
  {
   "cell_type": "code",
   "execution_count": 435,
   "metadata": {},
   "outputs": [],
   "source": [
    "def normalize_data(X1, X2):\n",
    "    \"\"\"\n",
    "    Expects data in shape (n_samples, channels, z, y, x)\n",
    "    \"\"\"\n",
    "    X1_ = X1.copy()\n",
    "    X1_ = (X1_ - X1_.mean(axis=(0, 2, 3, 4), keepdims=True)) / X1_.std(axis=(0, 2, 3, 4), keepdims=True)\n",
    "    \n",
    "    X2_ = X2.copy()\n",
    "    X2_ = (X2_ - X2_.mean(axis=(0, 2, 3, 4), keepdims=True)) / X2_.std(axis=(0, 2, 3, 4), keepdims=True)\n",
    "\n",
    "    return X1_, X2_"
   ]
  },
  {
   "cell_type": "code",
   "execution_count": 630,
   "metadata": {},
   "outputs": [],
   "source": [
    "kfold = RepeatedStratifiedKFold(n_splits=5, n_repeats=20)\n",
    "cm = []\n",
    "\n",
    "for train_idx, test_idx in kfold.split(X, y):\n",
    "    y_train, y_test = y[train_idx], y[test_idx]\n",
    "    X_train, X_test = normalize_data(X[train_idx], X[test_idx])\n",
    "    \n",
    "    X_train, y_train = resample_data(X_train, y_train, 300, 'upsample')\n",
    "    X_train, y_train = resample_data(X_train, y_train, 301, 'downsample')\n",
    "    \n",
    "    X_train = X_train.reshape((len(X_train), -1))\n",
    "    X_test = X_test.reshape((len(X_test), -1))\n",
    "    \n",
    "    rf = RandomForestClassifier(class_weight='balanced')\n",
    "    rf.fit(X_train, y_train)\n",
    "    pred = rf.predict(X_test)\n",
    "    cm.append(confusion_matrix(y_test, pred, ))"
   ]
  },
  {
   "cell_type": "code",
   "execution_count": 631,
   "metadata": {},
   "outputs": [
    {
     "name": "stdout",
     "output_type": "stream",
     "text": [
      "Confusion matrix, without normalization\n",
      "[[0.97802083 0.02197917]\n",
      " [0.39306159 0.60693841]]\n"
     ]
    },
    {
     "data": {
      "image/png": "[encoded data removed]",
      "text/plain": [
       "<matplotlib.figure.Figure at 0x102f449e8>"
      ]
     },
     "metadata": {},
     "output_type": "display_data"
    }
   ],
   "source": [
    "mu, std = compute_cm(cm)\n",
    "\n",
    "plt.figure(figsize=(6, 6))\n",
    "plot_confusion_matrix(mu, ['Non-GABA', 'GABA'])\n",
    "plt.show()"
   ]
  },
  {
   "cell_type": "code",
   "execution_count": 626,
   "metadata": {},
   "outputs": [
    {
     "name": "stdout",
     "output_type": "stream",
     "text": [
      "Confusion matrix, without normalization\n",
      "[[0.00568162 0.00568162]\n",
      " [0.11436623 0.11436623]]\n"
     ]
    },
    {
     "data": {
      "image/png": "[encoded data removed]",
      "text/plain": [
       "<matplotlib.figure.Figure at 0x10aae9e10>"
      ]
     },
     "metadata": {},
     "output_type": "display_data"
    }
   ],
   "source": [
    "plt.figure(figsize=(6, 6))\n",
    "plot_confusion_matrix(std, ['Non-GABA', 'GABA'])\n",
    "plt.show()"
   ]
  },
  {
   "cell_type": "code",
   "execution_count": 598,
   "metadata": {},
   "outputs": [],
   "source": [
    "kfold = RepeatedStratifiedKFold(n_splits=5, n_repeats=20)\n",
    "cm = []\n",
    "\n",
    "for train_idx, test_idx in kfold.split(X, y):\n",
    "    y_train, y_test = y[train_idx], y[test_idx]\n",
    "    #X_train, X_test = X[train_idx], X[test_idx]\n",
    "    X_train, X_test = normalize_data(X[train_idx], X[test_idx])\n",
    "\n",
    "    #X_train, y_train = resample_data(X_train, y_train, 200, 'upsample')\n",
    "    #X_train, y_train = resample_data(X_train, y_train, 300, 'downsample')\n",
    "    \n",
    "    X_train = X_train.reshape((len(X_train), -1))\n",
    "    X_test = X_test.reshape((len(X_test), -1))\n",
    "    \n",
    "    rf = RandomForestClassifier(class_weight='balanced')\n",
    "    rf.fit(X_train, y_train)\n",
    "    pred = rf.predict(X_test)\n",
    "    cm.append(confusion_matrix(y_test, pred, ))"
   ]
  },
  {
   "cell_type": "code",
   "execution_count": 595,
   "metadata": {},
   "outputs": [],
   "source": [
    "def compute_cm(cm):\n",
    "    arr = np.array(cm)\n",
    "    arr = arr.astype('float') / arr.sum(axis=(2), keepdims=True)\n",
    "    arr_mean = arr.mean(axis=0)\n",
    "    arr_std = arr.std(axis=0)\n",
    "    \n",
    "    return arr_mean, arr_std"
   ]
  },
  {
   "cell_type": "code",
   "execution_count": 599,
   "metadata": {},
   "outputs": [
    {
     "name": "stdout",
     "output_type": "stream",
     "text": [
      "Confusion matrix, without normalization\n",
      "[[0.99791667 0.00208333]\n",
      " [0.83030797 0.16969203]]\n"
     ]
    },
    {
     "data": {
      "image/png": "[encoded data removed]",
      "text/plain": [
       "<matplotlib.figure.Figure at 0x10b8f65c0>"
      ]
     },
     "metadata": {},
     "output_type": "display_data"
    }
   ],
   "source": [
    "mu, std = compute_cm(cm)\n",
    "\n",
    "plt.figure(figsize=(6, 6))\n",
    "plot_confusion_matrix(mu, ['Non-GABA', 'GABA'])\n",
    "plt.show()"
   ]
  },
  {
   "cell_type": "code",
   "execution_count": 600,
   "metadata": {},
   "outputs": [
    {
     "name": "stdout",
     "output_type": "stream",
     "text": [
      "Confusion matrix, without normalization\n",
      "[[0.00345482 0.00345482]\n",
      " [0.08687838 0.08687838]]\n"
     ]
    },
    {
     "data": {
      "image/png": "[encoded data removed]",
      "text/plain": [
       "<matplotlib.figure.Figure at 0x10b88f208>"
      ]
     },
     "metadata": {},
     "output_type": "display_data"
    }
   ],
   "source": [
    "plt.figure(figsize=(6, 6))\n",
    "plot_confusion_matrix(std, ['Non-GABA', 'GABA'])\n",
    "plt.show()"
   ]
  },
  {
   "cell_type": "code",
   "execution_count": null,
   "metadata": {},
   "outputs": [],
   "source": []
  }
 ],
 "metadata": {
  "kernelspec": {
   "display_name": "nomads",
   "language": "python",
   "name": "nomads"
  },
  "language_info": {
   "codemirror_mode": {
    "name": "ipython",
    "version": 3
   },
   "file_extension": ".py",
   "mimetype": "text/x-python",
   "name": "python",
   "nbconvert_exporter": "python",
   "pygments_lexer": "ipython3",
   "version": "3.6.3"
  }
 },
 "nbformat": 4,
 "nbformat_minor": 2
}
