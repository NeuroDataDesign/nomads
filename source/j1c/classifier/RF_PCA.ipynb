{
 "cells": [
  {
   "cell_type": "code",
   "execution_count": 20,
   "metadata": {},
   "outputs": [],
   "source": [
    "import matplotlib.pyplot as plt\n",
    "import numpy as np\n",
    "import pandas as pd\n",
    "import itertools\n",
    "\n",
    "from sklearn.ensemble import RandomForestClassifier\n",
    "from sklearn.decomposition import PCA\n",
    "from sklearn.model_selection import RepeatedStratifiedKFold\n",
    "from sklearn.metrics import confusion_matrix"
   ]
  },
  {
   "cell_type": "code",
   "execution_count": 2,
   "metadata": {},
   "outputs": [],
   "source": [
    "def compute_cm(cm):\n",
    "    arr = np.array(cm)\n",
    "    arr = arr.astype('float') / arr.sum(axis=(2), keepdims=True)\n",
    "    arr_mean = arr.mean(axis=0)\n",
    "    arr_std = arr.std(axis=0)\n",
    "    \n",
    "    return arr_mean, arr_std"
   ]
  },
  {
   "cell_type": "code",
   "execution_count": 3,
   "metadata": {},
   "outputs": [],
   "source": [
    "def plot_confusion_matrix(cm, classes,\n",
    "                          normalize=False,\n",
    "                          title='Confusion matrix',\n",
    "                          cmap=plt.cm.Blues):\n",
    "    \"\"\"\n",
    "    This function prints and plots the confusion matrix.\n",
    "    Normalization can be applied by setting `normalize=True`.\n",
    "    \"\"\"\n",
    "    if normalize:\n",
    "        cm = cm.astype('float') / cm.sum(axis=1)[:, np.newaxis]\n",
    "        print(\"Normalized confusion matrix\")\n",
    "    else:\n",
    "        print('Confusion matrix, without normalization')\n",
    "\n",
    "    print(cm)\n",
    "\n",
    "    plt.imshow(cm, interpolation='nearest', cmap=cmap)\n",
    "    plt.title(title)\n",
    "    plt.colorbar()\n",
    "    tick_marks = np.arange(len(classes))\n",
    "    plt.xticks(tick_marks, classes, rotation=45, )\n",
    "    plt.yticks(tick_marks, classes)\n",
    "\n",
    "    fmt = '.2f' \n",
    "    thresh = cm.max() / 2.\n",
    "    for i, j in itertools.product(range(cm.shape[0]), range(cm.shape[1])):\n",
    "        plt.text(j, i, format(cm[i, j], fmt),\n",
    "                 horizontalalignment=\"center\",\n",
    "                 color=\"white\" if cm[i, j] > thresh else \"black\")\n",
    "\n",
    "    plt.tight_layout()\n",
    "    plt.ylabel('True label')\n",
    "    plt.xlabel('Predicted label')"
   ]
  },
  {
   "cell_type": "code",
   "execution_count": 4,
   "metadata": {},
   "outputs": [],
   "source": [
    "def normalize_data(X1, X2):\n",
    "    \"\"\"\n",
    "    Expects data in shape (n_samples, channels, z, y, x)\n",
    "    \"\"\"\n",
    "    X1_ = X1.copy()\n",
    "    X1_norm = (X1_ - X1_.mean(axis=(0, 2, 3, 4), keepdims=True)) / X1_.std(axis=(0, 2, 3, 4), keepdims=True)\n",
    "    \n",
    "    X2_ = X2.copy()\n",
    "    X2_norm = (X2_ - X2_.mean(axis=(0, 2, 3, 4), keepdims=True)) / X2_.std(axis=(0, 2, 3, 4), keepdims=True)\n",
    "\n",
    "    return X1_norm, X2_norm"
   ]
  },
  {
   "cell_type": "code",
   "execution_count": 76,
   "metadata": {},
   "outputs": [],
   "source": [
    "mask_11 = np.load('./11_11_11_edge_mask.npy')\n",
    "mask_11 = mask_11 == False\n",
    "\n",
    "mask_15 = np.load('./15_9_9_edge_mask.npy')\n",
    "mask_15 = mask_15 == False"
   ]
  },
  {
   "cell_type": "code",
   "execution_count": 42,
   "metadata": {},
   "outputs": [],
   "source": [
    "data = np.load('data.npy')\n",
    "df = pd.read_csv('./Site3Synaptograms.csv')"
   ]
  },
  {
   "cell_type": "code",
   "execution_count": 43,
   "metadata": {},
   "outputs": [],
   "source": [
    "X = data.copy()\n",
    "y = df['GABA'].values"
   ]
  },
  {
   "cell_type": "code",
   "execution_count": 78,
   "metadata": {},
   "outputs": [],
   "source": [
    "data = np.load('./data_isotropic.npy')\n",
    "X = data.copy()"
   ]
  },
  {
   "cell_type": "code",
   "execution_count": 44,
   "metadata": {},
   "outputs": [],
   "source": [
    "kfold = RepeatedStratifiedKFold(n_splits=5, n_repeats=5)\n",
    "cm = []\n",
    "\n",
    "for train_idx, test_idx in kfold.split(X, y):\n",
    "    y_train, y_test = y[train_idx], y[test_idx]\n",
    "    X_train, X_test = normalize_data(X[train_idx], X[test_idx])\n",
    "    #X_train, X_test = X[train_idx], X[test_idx]\n",
    "    \n",
    "    X_train = X_train.reshape((len(X_train), -1))\n",
    "    X_test = X_test.reshape((len(X_test), -1))\n",
    "    \n",
    "    rf = RandomForestClassifier(class_weight='balanced')\n",
    "    rf.fit(X_train, y_train)\n",
    "    pred = rf.predict(X_test)\n",
    "    cm.append(confusion_matrix(y_test, pred))"
   ]
  },
  {
   "cell_type": "code",
   "execution_count": 45,
   "metadata": {},
   "outputs": [
    {
     "name": "stdout",
     "output_type": "stream",
     "text": [
      "Confusion matrix, without normalization\n",
      "[[0.99729167 0.00270833]\n",
      " [0.83224638 0.16775362]]\n"
     ]
    },
    {
     "data": {
      "image/png": "[encoded data removed]",
      "text/plain": [
       "<matplotlib.figure.Figure at 0x10f352e80>"
      ]
     },
     "metadata": {},
     "output_type": "display_data"
    }
   ],
   "source": [
    "mu, std = compute_cm(cm)\n",
    "\n",
    "plt.figure(figsize=(6, 6))\n",
    "plot_confusion_matrix(mu, ['Non-GABA', 'GABA'])\n",
    "plt.show()"
   ]
  },
  {
   "cell_type": "markdown",
   "metadata": {},
   "source": [
    "### PCA without Normalization"
   ]
  },
  {
   "cell_type": "code",
   "execution_count": 18,
   "metadata": {
    "scrolled": true
   },
   "outputs": [],
   "source": [
    "kfold = RepeatedStratifiedKFold(n_splits=5, n_repeats=5)\n",
    "cm = []\n",
    "\n",
    "for train_idx, test_idx in kfold.split(X, y):\n",
    "    y_train, y_test = y[train_idx], y[test_idx]\n",
    "    #X_train, X_test = normalize_data(X[train_idx], X[test_idx])\n",
    "    X_train, X_test = X[train_idx], X[test_idx]\n",
    "    \n",
    "    X_train = X_train.reshape((len(X_train), -1))\n",
    "    X_test = X_test.reshape((len(X_test), -1))\n",
    "    \n",
    "    p = PCA()\n",
    "    p.fit(X_train)\n",
    "    features = (p.explained_variance_ratio_.cumsum() <= 0.9).sum()\n",
    "    X_train = p.transform(X_train)[:, :features]\n",
    "    X_test = p.transform(X_test)[:, :features]\n",
    "    \n",
    "    rf = RandomForestClassifier(class_weight='balanced')\n",
    "    rf.fit(X_train, y_train)\n",
    "    pred = rf.predict(X_test)\n",
    "    cm.append(confusion_matrix(y_test, pred))"
   ]
  },
  {
   "cell_type": "code",
   "execution_count": 22,
   "metadata": {},
   "outputs": [
    {
     "name": "stdout",
     "output_type": "stream",
     "text": [
      "Confusion matrix, without normalization\n",
      "[[0.99875    0.00125   ]\n",
      " [0.96630435 0.03369565]]\n"
     ]
    },
    {
     "data": {
      "image/png": "[encoded data removed]",
      "text/plain": [
       "<matplotlib.figure.Figure at 0x10e410278>"
      ]
     },
     "metadata": {},
     "output_type": "display_data"
    }
   ],
   "source": [
    "mu, std = compute_cm(cm)\n",
    "\n",
    "plt.figure(figsize=(6, 6))\n",
    "plot_confusion_matrix(mu, ['Non-GABA', 'GABA'])\n",
    "plt.show()"
   ]
  },
  {
   "cell_type": "markdown",
   "metadata": {},
   "source": [
    "### PCA with data normalization\n",
    "Normalization is subtract mean and divide by std for each channel"
   ]
  },
  {
   "cell_type": "code",
   "execution_count": 23,
   "metadata": {},
   "outputs": [],
   "source": [
    "kfold = RepeatedStratifiedKFold(n_splits=5, n_repeats=5)\n",
    "cm = []\n",
    "\n",
    "for train_idx, test_idx in kfold.split(X, y):\n",
    "    y_train, y_test = y[train_idx], y[test_idx]\n",
    "    X_train, X_test = normalize_data(X[train_idx], X[test_idx])\n",
    "    #X_train, X_test = X[train_idx], X[test_idx]\n",
    "    \n",
    "    X_train = X_train.reshape((len(X_train), -1))\n",
    "    X_test = X_test.reshape((len(X_test), -1))\n",
    "    \n",
    "    p = PCA()\n",
    "    p.fit(X_train)\n",
    "    features = (p.explained_variance_ratio_.cumsum() <= 0.9).sum()\n",
    "    X_train = p.transform(X_train)[:, :features]\n",
    "    X_test = p.transform(X_test)[:, :features]\n",
    "    \n",
    "    rf = RandomForestClassifier(class_weight='balanced')\n",
    "    rf.fit(X_train, y_train)\n",
    "    pred = rf.predict(X_test)\n",
    "    cm.append(confusion_matrix(y_test, pred))"
   ]
  },
  {
   "cell_type": "code",
   "execution_count": 24,
   "metadata": {},
   "outputs": [
    {
     "name": "stdout",
     "output_type": "stream",
     "text": [
      "Confusion matrix, without normalization\n",
      "[[0.99645833 0.00354167]\n",
      " [0.9165942  0.0834058 ]]\n"
     ]
    },
    {
     "data": {
      "image/png": "[encoded data removed]",
      "text/plain": [
       "<matplotlib.figure.Figure at 0x110406198>"
      ]
     },
     "metadata": {},
     "output_type": "display_data"
    }
   ],
   "source": [
    "mu, std = compute_cm(cm)\n",
    "\n",
    "plt.figure(figsize=(6, 6))\n",
    "plot_confusion_matrix(mu, ['Non-GABA', 'GABA'])\n",
    "plt.show()"
   ]
  },
  {
   "cell_type": "markdown",
   "metadata": {},
   "source": [
    "PCA with mean subtractions"
   ]
  },
  {
   "cell_type": "code",
   "execution_count": 25,
   "metadata": {},
   "outputs": [],
   "source": [
    "def subtract_mean(X1, X2):\n",
    "    X1_ = X1.copy()\n",
    "    X1_norm = (X1_ - X1_.mean(axis=(0, 2, 3, 4), keepdims=True))\n",
    "    \n",
    "    X2_ = X2.copy()\n",
    "    X2_norm = (X2_ - X2_.mean(axis=(0, 2, 3, 4), keepdims=True))\n",
    "\n",
    "    return X1_norm, X2_norm"
   ]
  },
  {
   "cell_type": "code",
   "execution_count": 29,
   "metadata": {},
   "outputs": [],
   "source": [
    "kfold = RepeatedStratifiedKFold(n_splits=5, n_repeats=5)\n",
    "cm = []\n",
    "\n",
    "for train_idx, test_idx in kfold.split(X, y):\n",
    "    y_train, y_test = y[train_idx], y[test_idx]\n",
    "    #X_train, X_test = normalize_data(X[train_idx], X[test_idx])\n",
    "    #X_train, X_test = X[train_idx], X[test_idx]\n",
    "    X_train, X_test = subtract_mean(X[train_idx], X[test_idx])\n",
    "    \n",
    "    X_train = X_train.reshape((len(X_train), -1))\n",
    "    X_test = X_test.reshape((len(X_test), -1))\n",
    "    \n",
    "    p = PCA(whiten=True)\n",
    "    p.fit(X_train)\n",
    "    features = (p.explained_variance_ratio_.cumsum() <= 0.9).sum()\n",
    "    X_train = p.transform(X_train)[:, :features]\n",
    "    X_test = p.transform(X_test)[:, :features]\n",
    "    \n",
    "    rf = RandomForestClassifier(class_weight='balanced')\n",
    "    rf.fit(X_train, y_train)\n",
    "    pred = rf.predict(X_test)\n",
    "    cm.append(confusion_matrix(y_test, pred))"
   ]
  },
  {
   "cell_type": "code",
   "execution_count": 30,
   "metadata": {},
   "outputs": [
    {
     "name": "stdout",
     "output_type": "stream",
     "text": [
      "Confusion matrix, without normalization\n",
      "[[9.99166667e-01 8.33333333e-04]\n",
      " [9.69202899e-01 3.07971014e-02]]\n"
     ]
    },
    {
     "data": {
      "image/png": "[encoded data removed]",
      "text/plain": [
       "<matplotlib.figure.Figure at 0x116ec98d0>"
      ]
     },
     "metadata": {},
     "output_type": "display_data"
    }
   ],
   "source": [
    "mu, std = compute_cm(cm)\n",
    "\n",
    "plt.figure(figsize=(6, 6))\n",
    "plot_confusion_matrix(mu, ['Non-GABA', 'GABA'])\n",
    "plt.show()"
   ]
  },
  {
   "cell_type": "markdown",
   "metadata": {},
   "source": [
    "### PCA with normalization and non-edge synapses"
   ]
  },
  {
   "cell_type": "code",
   "execution_count": 81,
   "metadata": {},
   "outputs": [],
   "source": [
    "kfold = RepeatedStratifiedKFold(n_splits=5, n_repeats=5)\n",
    "cm = []\n",
    "X_ = X[mask_15]\n",
    "y_ = y[mask_15]\n",
    "\n",
    "for train_idx, test_idx in kfold.split(X_, y_):\n",
    "    y_train, y_test = y_[train_idx], y_[test_idx]\n",
    "    X_train, X_test = normalize_data(X_[train_idx], X_[test_idx])\n",
    "    #X_train, X_test = X[train_idx], X[test_idx]\n",
    "    #X_train, X_test = subtract_mean(X[train_idx], X[test_idx])\n",
    "    \n",
    "    X_train = X_train.reshape((len(X_train), -1))\n",
    "    X_test = X_test.reshape((len(X_test), -1))\n",
    "    \n",
    "    p = PCA(whiten=True)\n",
    "    p.fit(X_train)\n",
    "    features = (p.explained_variance_ratio_.cumsum() <= 0.9).sum()\n",
    "    X_train = p.transform(X_train)[:, :features]\n",
    "    X_test = p.transform(X_test)[:, :features]\n",
    "    \n",
    "    rf = RandomForestClassifier(class_weight='balanced')\n",
    "    rf.fit(X_train, y_train)\n",
    "    pred = rf.predict(X_test)\n",
    "    cm.append(confusion_matrix(y_test, pred))"
   ]
  },
  {
   "cell_type": "code",
   "execution_count": 82,
   "metadata": {},
   "outputs": [
    {
     "name": "stdout",
     "output_type": "stream",
     "text": [
      "Confusion matrix, without normalization\n",
      "[[0.9958372  0.0041628 ]\n",
      " [0.91818182 0.08181818]]\n"
     ]
    },
    {
     "data": {
      "image/png": "[encoded data removed]",
      "text/plain": [
       "<matplotlib.figure.Figure at 0x10f2df780>"
      ]
     },
     "metadata": {},
     "output_type": "display_data"
    }
   ],
   "source": [
    "mu, std = compute_cm(cm)\n",
    "\n",
    "plt.figure(figsize=(6, 6))\n",
    "plot_confusion_matrix(mu, ['Non-GABA', 'GABA'])\n",
    "plt.show()"
   ]
  },
  {
   "cell_type": "markdown",
   "metadata": {},
   "source": [
    "## Shaft vs Non-shaft"
   ]
  },
  {
   "cell_type": "code",
   "execution_count": 83,
   "metadata": {},
   "outputs": [],
   "source": [
    "data = np.load('data_isotropic.npy')\n",
    "df = pd.read_csv('./Site3Synaptograms.csv')\n",
    "\n",
    "X = data.copy()\n",
    "y = df['GABA'].values"
   ]
  },
  {
   "cell_type": "code",
   "execution_count": 84,
   "metadata": {},
   "outputs": [],
   "source": [
    "X = X[mask_15]\n",
    "y = y[mask_15]"
   ]
  },
  {
   "cell_type": "code",
   "execution_count": 85,
   "metadata": {},
   "outputs": [],
   "source": [
    "kfold = RepeatedStratifiedKFold(n_splits=5, n_repeats=5)\n",
    "cm = []\n",
    "\n",
    "for train_idx, test_idx in kfold.split(X, y):\n",
    "    y_train, y_test = y[train_idx], y[test_idx]\n",
    "    X_train, X_test = normalize_data(X[train_idx], X[test_idx])\n",
    "    #X_train, X_test = X[train_idx], X[test_idx]\n",
    "    #X_train, X_test = subtract_mean(X[train_idx], X[test_idx])\n",
    "    \n",
    "    X_train = X_train.reshape((len(X_train), -1))\n",
    "    X_test = X_test.reshape((len(X_test), -1))\n",
    "    \n",
    "    p = PCA(whiten=True)\n",
    "    p.fit(X_train)\n",
    "    features = (p.explained_variance_ratio_.cumsum() <= 0.9).sum()\n",
    "    X_train = p.transform(X_train)[:, :features]\n",
    "    X_test = p.transform(X_test)[:, :features]\n",
    "    \n",
    "    rf = RandomForestClassifier(class_weight='balanced_subsample')\n",
    "    rf.fit(X_train, y_train)\n",
    "    pred = rf.predict(X_test)\n",
    "    cm.append(confusion_matrix(y_test, pred))"
   ]
  },
  {
   "cell_type": "code",
   "execution_count": 86,
   "metadata": {},
   "outputs": [
    {
     "name": "stdout",
     "output_type": "stream",
     "text": [
      "Confusion matrix, without normalization\n",
      "[[0.99755499 0.00244501]\n",
      " [0.93454545 0.06545455]]\n"
     ]
    },
    {
     "data": {
      "image/png": "[encoded data removed]",
      "text/plain": [
       "<matplotlib.figure.Figure at 0x1157466a0>"
      ]
     },
     "metadata": {},
     "output_type": "display_data"
    }
   ],
   "source": [
    "mu, std = compute_cm(cm)\n",
    "\n",
    "plt.figure(figsize=(6, 6))\n",
    "plot_confusion_matrix(mu, ['Non-GABA', 'GABA'])\n",
    "plt.show()"
   ]
  },
  {
   "cell_type": "code",
   "execution_count": 87,
   "metadata": {},
   "outputs": [],
   "source": [
    "kfold = RepeatedStratifiedKFold(n_splits=5, n_repeats=5)\n",
    "cm = []\n",
    "\n",
    "for train_idx, test_idx in kfold.split(X, y):\n",
    "    y_train, y_test = y[train_idx], y[test_idx]\n",
    "    X_train, X_test = normalize_data(X[train_idx], X[test_idx])\n",
    "    #X_train, X_test = X[train_idx], X[test_idx]\n",
    "    \n",
    "    X_train = X_train.reshape((len(X_train), -1))\n",
    "    X_test = X_test.reshape((len(X_test), -1))\n",
    "    \n",
    "    #p = PCA()\n",
    "    #p.fit(X_train)\n",
    "    #features = (p.explained_variance_ratio_.cumsum() <= 0.9).sum()\n",
    "    #X_train = p.transform(X_train)[:, :features]\n",
    "    #X_test = p.transform(X_test)[:, :features]\n",
    "    \n",
    "    rf = RandomForestClassifier(class_weight='balanced')\n",
    "    rf.fit(X_train, y_train)\n",
    "    pred = rf.predict(X_test)\n",
    "    cm.append(confusion_matrix(y_test, pred))"
   ]
  },
  {
   "cell_type": "code",
   "execution_count": 88,
   "metadata": {},
   "outputs": [
    {
     "name": "stdout",
     "output_type": "stream",
     "text": [
      "Confusion matrix, without normalization\n",
      "[[0.9968173  0.0031827 ]\n",
      " [0.81636364 0.18363636]]\n"
     ]
    },
    {
     "data": {
      "image/png": "[encoded data removed]",
      "text/plain": [
       "<matplotlib.figure.Figure at 0x1175b4208>"
      ]
     },
     "metadata": {},
     "output_type": "display_data"
    }
   ],
   "source": [
    "mu, std = compute_cm(cm)\n",
    "\n",
    "plt.figure(figsize=(6, 6))\n",
    "plot_confusion_matrix(mu, ['Non-GABA', 'GABA'])\n",
    "plt.show()"
   ]
  },
  {
   "cell_type": "code",
   "execution_count": 92,
   "metadata": {},
   "outputs": [],
   "source": [
    "df = pd.read_csv('./MNSite3Synaptograms.csv', index_col = 0, header=1)"
   ]
  },
  {
   "cell_type": "code",
   "execution_count": 93,
   "metadata": {},
   "outputs": [
    {
     "data": {
      "text/html": [
       "<div>\n",
       "<style scoped>\n",
       "    .dataframe tbody tr th:only-of-type {\n",
       "        vertical-align: middle;\n",
       "    }\n",
       "\n",
       "    .dataframe tbody tr th {\n",
       "        vertical-align: top;\n",
       "    }\n",
       "\n",
       "    .dataframe thead th {\n",
       "        text-align: right;\n",
       "    }\n",
       "</style>\n",
       "<table border=\"1\" class=\"dataframe\">\n",
       "  <thead>\n",
       "    <tr style=\"text-align: right;\">\n",
       "      <th></th>\n",
       "      <th>Nz</th>\n",
       "      <th>figure</th>\n",
       "      <th>height</th>\n",
       "      <th>id</th>\n",
       "      <th>maxX</th>\n",
       "      <th>maxY</th>\n",
       "      <th>maxZ</th>\n",
       "      <th>minX</th>\n",
       "      <th>minY</th>\n",
       "      <th>minZ</th>\n",
       "      <th>...</th>\n",
       "      <th>shaft</th>\n",
       "      <th>NotSynapse</th>\n",
       "      <th>nofigure</th>\n",
       "      <th>edgesynapse</th>\n",
       "      <th>enface synapse</th>\n",
       "      <th>PSD positive</th>\n",
       "      <th>comments FC</th>\n",
       "      <th>comments MN</th>\n",
       "      <th>Unnamed: 24</th>\n",
       "      <th>Unnamed: 25</th>\n",
       "    </tr>\n",
       "  </thead>\n",
       "  <tbody>\n",
       "    <tr>\n",
       "      <th>0</th>\n",
       "      <td>10</td>\n",
       "      <td>/nas3/data/M247514_Rorb_1/processed/Site3Synap...</td>\n",
       "      <td>419.0</td>\n",
       "      <td>0</td>\n",
       "      <td>7131.0</td>\n",
       "      <td>6734.0</td>\n",
       "      <td>35</td>\n",
       "      <td>6766.0</td>\n",
       "      <td>6316.0</td>\n",
       "      <td>25</td>\n",
       "      <td>...</td>\n",
       "      <td>0</td>\n",
       "      <td>0</td>\n",
       "      <td>False</td>\n",
       "      <td>NaN</td>\n",
       "      <td>NaN</td>\n",
       "      <td>1.0</td>\n",
       "      <td>NaN</td>\n",
       "      <td>NaN</td>\n",
       "      <td>NaN</td>\n",
       "      <td>NaN</td>\n",
       "    </tr>\n",
       "    <tr>\n",
       "      <th>1</th>\n",
       "      <td>6</td>\n",
       "      <td>/nas3/data/M247514_Rorb_1/processed/Site3Synap...</td>\n",
       "      <td>376.0</td>\n",
       "      <td>1</td>\n",
       "      <td>7535.0</td>\n",
       "      <td>5923.0</td>\n",
       "      <td>49</td>\n",
       "      <td>7171.0</td>\n",
       "      <td>5548.0</td>\n",
       "      <td>43</td>\n",
       "      <td>...</td>\n",
       "      <td>0</td>\n",
       "      <td>0</td>\n",
       "      <td>False</td>\n",
       "      <td>NaN</td>\n",
       "      <td>NaN</td>\n",
       "      <td>1.0</td>\n",
       "      <td>NaN</td>\n",
       "      <td>NaN</td>\n",
       "      <td>NaN</td>\n",
       "      <td>NaN</td>\n",
       "    </tr>\n",
       "    <tr>\n",
       "      <th>2</th>\n",
       "      <td>5</td>\n",
       "      <td>/nas3/data/M247514_Rorb_1/processed/Site3Synap...</td>\n",
       "      <td>399.7</td>\n",
       "      <td>2</td>\n",
       "      <td>7579.6</td>\n",
       "      <td>7233.1</td>\n",
       "      <td>4</td>\n",
       "      <td>7258.4</td>\n",
       "      <td>6834.4</td>\n",
       "      <td>-1</td>\n",
       "      <td>...</td>\n",
       "      <td>0</td>\n",
       "      <td>0</td>\n",
       "      <td>False</td>\n",
       "      <td>NaN</td>\n",
       "      <td>NaN</td>\n",
       "      <td>NaN</td>\n",
       "      <td>NaN</td>\n",
       "      <td>NaN</td>\n",
       "      <td>NaN</td>\n",
       "      <td>NaN</td>\n",
       "    </tr>\n",
       "    <tr>\n",
       "      <th>3</th>\n",
       "      <td>4</td>\n",
       "      <td>NaN</td>\n",
       "      <td>1786.3</td>\n",
       "      <td>3</td>\n",
       "      <td>8470.7</td>\n",
       "      <td>7422.7</td>\n",
       "      <td>6</td>\n",
       "      <td>7349.0</td>\n",
       "      <td>5637.4</td>\n",
       "      <td>2</td>\n",
       "      <td>...</td>\n",
       "      <td>0</td>\n",
       "      <td>1</td>\n",
       "      <td>True</td>\n",
       "      <td>NaN</td>\n",
       "      <td>NaN</td>\n",
       "      <td>NaN</td>\n",
       "      <td>NaN</td>\n",
       "      <td>NaN</td>\n",
       "      <td>NaN</td>\n",
       "      <td>NaN</td>\n",
       "    </tr>\n",
       "    <tr>\n",
       "      <th>4</th>\n",
       "      <td>6</td>\n",
       "      <td>/nas3/data/M247514_Rorb_1/processed/Site3Synap...</td>\n",
       "      <td>330.0</td>\n",
       "      <td>4</td>\n",
       "      <td>7657.0</td>\n",
       "      <td>5911.0</td>\n",
       "      <td>45</td>\n",
       "      <td>7289.0</td>\n",
       "      <td>5582.0</td>\n",
       "      <td>39</td>\n",
       "      <td>...</td>\n",
       "      <td>1</td>\n",
       "      <td>0</td>\n",
       "      <td>False</td>\n",
       "      <td>NaN</td>\n",
       "      <td>NaN</td>\n",
       "      <td>1.0</td>\n",
       "      <td>NaN</td>\n",
       "      <td>NaN</td>\n",
       "      <td>NaN</td>\n",
       "      <td>NaN</td>\n",
       "    </tr>\n",
       "  </tbody>\n",
       "</table>\n",
       "<p>5 rows × 25 columns</p>\n",
       "</div>"
      ],
      "text/plain": [
       "   Nz                                             figure  height  id    maxX  \\\n",
       "0  10  /nas3/data/M247514_Rorb_1/processed/Site3Synap...   419.0   0  7131.0   \n",
       "1   6  /nas3/data/M247514_Rorb_1/processed/Site3Synap...   376.0   1  7535.0   \n",
       "2   5  /nas3/data/M247514_Rorb_1/processed/Site3Synap...   399.7   2  7579.6   \n",
       "3   4                                                NaN  1786.3   3  8470.7   \n",
       "4   6  /nas3/data/M247514_Rorb_1/processed/Site3Synap...   330.0   4  7657.0   \n",
       "\n",
       "     maxY  maxZ    minX    minY  minZ     ...       shaft  NotSynapse  \\\n",
       "0  6734.0    35  6766.0  6316.0    25     ...           0           0   \n",
       "1  5923.0    49  7171.0  5548.0    43     ...           0           0   \n",
       "2  7233.1     4  7258.4  6834.4    -1     ...           0           0   \n",
       "3  7422.7     6  7349.0  5637.4     2     ...           0           1   \n",
       "4  5911.0    45  7289.0  5582.0    39     ...           1           0   \n",
       "\n",
       "   nofigure  edgesynapse  enface synapse  PSD positive  comments FC  \\\n",
       "0     False          NaN             NaN           1.0          NaN   \n",
       "1     False          NaN             NaN           1.0          NaN   \n",
       "2     False          NaN             NaN           NaN          NaN   \n",
       "3      True          NaN             NaN           NaN          NaN   \n",
       "4     False          NaN             NaN           1.0          NaN   \n",
       "\n",
       "   comments MN  Unnamed: 24  Unnamed: 25  \n",
       "0          NaN          NaN          NaN  \n",
       "1          NaN          NaN          NaN  \n",
       "2          NaN          NaN          NaN  \n",
       "3          NaN          NaN          NaN  \n",
       "4          NaN          NaN          NaN  \n",
       "\n",
       "[5 rows x 25 columns]"
      ]
     },
     "execution_count": 93,
     "metadata": {},
     "output_type": "execute_result"
    }
   ],
   "source": [
    "df.head()"
   ]
  },
  {
   "cell_type": "code",
   "execution_count": 94,
   "metadata": {},
   "outputs": [],
   "source": [
    "shaft = df['shaft'].values\n",
    "shaft = shaft[mask_15]"
   ]
  },
  {
   "cell_type": "code",
   "execution_count": 95,
   "metadata": {},
   "outputs": [],
   "source": [
    "kfold = RepeatedStratifiedKFold(n_splits=5, n_repeats=5)\n",
    "cm = []\n",
    "\n",
    "for train_idx, test_idx in kfold.split(X, shaft):\n",
    "    y_train, y_test = shaft[train_idx], shaft[test_idx]\n",
    "    X_train, X_test = normalize_data(X[train_idx], X[test_idx])\n",
    "    #X_train, X_test = X[train_idx], X[test_idx]\n",
    "    \n",
    "    X_train = X_train.reshape((len(X_train), -1))\n",
    "    X_test = X_test.reshape((len(X_test), -1))\n",
    "    \n",
    "    #p = PCA()\n",
    "    #p.fit(X_train)\n",
    "    #features = (p.explained_variance_ratio_.cumsum() <= 0.9).sum()\n",
    "    #X_train = p.transform(X_train)[:, :features]\n",
    "    #X_test = p.transform(X_test)[:, :features]\n",
    "    \n",
    "    rf = RandomForestClassifier(class_weight='balanced')\n",
    "    rf.fit(X_train, y_train)\n",
    "    pred = rf.predict(X_test)\n",
    "    cm.append(confusion_matrix(y_test, pred))"
   ]
  },
  {
   "cell_type": "code",
   "execution_count": 96,
   "metadata": {},
   "outputs": [
    {
     "name": "stdout",
     "output_type": "stream",
     "text": [
      "Confusion matrix, without normalization\n",
      "[[0.94633125 0.05366875]\n",
      " [0.88323232 0.11676768]]\n"
     ]
    },
    {
     "data": {
      "image/png": "[encoded data removed]",
      "text/plain": [
       "<matplotlib.figure.Figure at 0x117563d30>"
      ]
     },
     "metadata": {},
     "output_type": "display_data"
    }
   ],
   "source": [
    "mu, std = compute_cm(cm)\n",
    "\n",
    "plt.figure(figsize=(6, 6))\n",
    "plot_confusion_matrix(mu, ['Non-Shaft', 'Shaft'])\n",
    "plt.show()"
   ]
  },
  {
   "cell_type": "code",
   "execution_count": 99,
   "metadata": {},
   "outputs": [],
   "source": [
    "kfold = RepeatedStratifiedKFold(n_splits=5, n_repeats=5)\n",
    "cm = []\n",
    "\n",
    "for train_idx, test_idx in kfold.split(X, shaft):\n",
    "    y_train, y_test = shaft[train_idx], shaft[test_idx]\n",
    "    X_train, X_test = normalize_data(X[train_idx], X[test_idx])\n",
    "    #X_train, X_test = X[train_idx], X[test_idx]\n",
    "    #X_train, X_test = subtract_mean(X[train_idx], X[test_idx])\n",
    "    \n",
    "    X_train = X_train.reshape((len(X_train), -1))\n",
    "    X_test = X_test.reshape((len(X_test), -1))\n",
    "    \n",
    "    p = PCA()\n",
    "    p.fit(X_train)\n",
    "    features = (p.explained_variance_ratio_.cumsum() <= 0.9).sum()\n",
    "    X_train = p.transform(X_train)[:, :features]\n",
    "    X_test = p.transform(X_test)[:, :features]\n",
    "    \n",
    "    rf = RandomForestClassifier(class_weight='balanced')\n",
    "    rf.fit(X_train, y_train)\n",
    "    pred = rf.predict(X_test)\n",
    "    cm.append(confusion_matrix(y_test, pred))"
   ]
  },
  {
   "cell_type": "code",
   "execution_count": 100,
   "metadata": {},
   "outputs": [
    {
     "name": "stdout",
     "output_type": "stream",
     "text": [
      "Confusion matrix, without normalization\n",
      "[[0.8978811  0.1021189 ]\n",
      " [0.84215488 0.15784512]]\n"
     ]
    },
    {
     "data": {
      "image/png": "[encoded data removed]",
      "text/plain": [
       "<matplotlib.figure.Figure at 0x117685828>"
      ]
     },
     "metadata": {},
     "output_type": "display_data"
    }
   ],
   "source": [
    "mu, std = compute_cm(cm)\n",
    "\n",
    "plt.figure(figsize=(6, 6))\n",
    "plot_confusion_matrix(mu, ['Non-Shaft', 'Shaft'])\n",
    "plt.show()"
   ]
  },
  {
   "cell_type": "code",
   "execution_count": null,
   "metadata": {},
   "outputs": [],
   "source": [
    "multi_class = np.zeros(len(y))\n",
    "\n",
    "a = (y == 0) * (shaft == 0)\n",
    "b = (y == 0) * (shaft == 1)\n",
    "c = (y == 1) * (shaft == 0)\n",
    "d = (y == 1) * (shaft == 1)\n",
    "\n",
    "multi_class[b] = 1\n",
    "multi_class[c] = 2\n",
    "multi_class[d] = 3"
   ]
  },
  {
   "cell_type": "code",
   "execution_count": 134,
   "metadata": {},
   "outputs": [],
   "source": [
    "kfold = RepeatedStratifiedKFold(n_splits=5, n_repeats=5)\n",
    "cm = []\n",
    "\n",
    "for train_idx, test_idx in kfold.split(X, multi_class):\n",
    "    y_train, y_test = multi_class[train_idx], multi_class[test_idx]\n",
    "    X_train, X_test = normalize_data(X[train_idx], X[test_idx])\n",
    "    #X_train, X_test = X[train_idx], X[test_idx]\n",
    "    \n",
    "    X_train = X_train.reshape((len(X_train), -1))\n",
    "    X_test = X_test.reshape((len(X_test), -1))\n",
    "    \n",
    "    #p = PCA()\n",
    "    #p.fit(X_train)\n",
    "    #features = (p.explained_variance_ratio_.cumsum() <= 0.9).sum()\n",
    "    #X_train = p.transform(X_train)[:, :features]\n",
    "    #X_test = p.transform(X_test)[:, :features]\n",
    "    \n",
    "    rf = RandomForestClassifier(class_weight='balanced')\n",
    "    rf.fit(X_train, y_train)\n",
    "    pred = rf.predict(X_test)\n",
    "    cm.append(confusion_matrix(y_test, pred))"
   ]
  },
  {
   "cell_type": "code",
   "execution_count": 136,
   "metadata": {},
   "outputs": [
    {
     "name": "stdout",
     "output_type": "stream",
     "text": [
      "Confusion matrix, without normalization\n",
      "[[0.96398374 0.03374771 0.         0.00226855]\n",
      " [0.92339024 0.06765854 0.001      0.00795122]\n",
      " [0.775      0.065      0.025      0.135     ]\n",
      " [0.73428571 0.06       0.02571429 0.18      ]]\n"
     ]
    },
    {
     "data": {
      "image/png": "[encoded data removed]",
      "text/plain": [
       "<matplotlib.figure.Figure at 0x115a47f98>"
      ]
     },
     "metadata": {},
     "output_type": "display_data"
    }
   ],
   "source": [
    "mu, std = compute_cm(cm)\n",
    "\n",
    "plt.figure(figsize=(10, 10))\n",
    "plot_confusion_matrix(mu, ['Non-GABA, Non-Shaft', 'Non-GABA, Shaft', 'GABA, Non-Shaft', 'GABA, Shaft'])\n",
    "plt.show()"
   ]
  },
  {
   "cell_type": "code",
   "execution_count": 139,
   "metadata": {},
   "outputs": [],
   "source": [
    "kfold = RepeatedStratifiedKFold(n_splits=5, n_repeats=5)\n",
    "cm = []\n",
    "\n",
    "for train_idx, test_idx in kfold.split(X, multi_class):\n",
    "    y_train, y_test = multi_class[train_idx], multi_class[test_idx]\n",
    "    X_train, X_test = normalize_data(X[train_idx], X[test_idx])\n",
    "    #X_train, X_test = X[train_idx], X[test_idx]\n",
    "    #X_train, X_test = subtract_mean(X[train_idx], X[test_idx])\n",
    "    \n",
    "    X_train = X_train.reshape((len(X_train), -1))\n",
    "    X_test = X_test.reshape((len(X_test), -1))\n",
    "    \n",
    "    p = PCA()\n",
    "    p.fit(X_train)\n",
    "    features = (p.explained_variance_ratio_.cumsum() <= 0.9).sum()\n",
    "    X_train = p.transform(X_train)[:, :features]\n",
    "    X_test = p.transform(X_test)[:, :features]\n",
    "    \n",
    "    rf = RandomForestClassifier(class_weight='balanced')\n",
    "    rf.fit(X_train, y_train)\n",
    "    pred = rf.predict(X_test)\n",
    "    cm.append(confusion_matrix(y_test, pred))"
   ]
  },
  {
   "cell_type": "code",
   "execution_count": 140,
   "metadata": {},
   "outputs": [
    {
     "name": "stdout",
     "output_type": "stream",
     "text": [
      "Confusion matrix, without normalization\n",
      "[[8.96430632e-01 1.01620771e-01 3.22580645e-04 1.62601626e-03]\n",
      " [8.64707317e-01 1.32292683e-01 1.00000000e-03 2.00000000e-03]\n",
      " [8.95000000e-01 6.00000000e-02 0.00000000e+00 4.50000000e-02]\n",
      " [8.88571429e-01 5.71428571e-02 0.00000000e+00 5.42857143e-02]]\n"
     ]
    },
    {
     "data": {
      "image/png": "[encoded data removed]",
      "text/plain": [
       "<matplotlib.figure.Figure at 0x116eb96d8>"
      ]
     },
     "metadata": {},
     "output_type": "display_data"
    }
   ],
   "source": [
    "mu, std = compute_cm(cm)\n",
    "\n",
    "plt.figure(figsize=(10, 10))\n",
    "plot_confusion_matrix(mu, ['Non-GABA, Non-Shaft', 'Non-GABA, Shaft', 'GABA, Non-Shaft', 'GABA, Shaft'])\n",
    "plt.show()"
   ]
  },
  {
   "cell_type": "code",
   "execution_count": 151,
   "metadata": {},
   "outputs": [
    {
     "data": {
      "text/plain": [
       "(742, 9720)"
      ]
     },
     "execution_count": 151,
     "metadata": {},
     "output_type": "execute_result"
    }
   ],
   "source": [
    "p.components_.shape"
   ]
  },
  {
   "cell_type": "code",
   "execution_count": 145,
   "metadata": {},
   "outputs": [
    {
     "data": {
      "text/plain": [
       "array([[  7.41315813,  -5.91117251,  -7.85993192, ...,  -5.1169115 ,\n",
       "          0.39326956,   1.33151457],\n",
       "       [ -5.75960864, -10.12976984,  11.74921551, ...,  -1.0782855 ,\n",
       "         -1.54433681,   1.9094781 ],\n",
       "       [ -6.39712218,  -5.58399366,   2.9325006 , ...,   3.36702153,\n",
       "         -1.67660749,   0.09645794],\n",
       "       ...,\n",
       "       [ -1.18444704, -14.75289779,   1.37564656, ...,  -5.90651815,\n",
       "          0.08616565,   5.64124794],\n",
       "       [  9.70615449, -10.8319555 , -25.60455836, ...,   1.87686198,\n",
       "          4.38881652,  -0.91639721],\n",
       "       [ -3.47157431,  -6.61605701,   2.64473242, ...,  -0.15204347,\n",
       "          1.00173452,  -0.49553963]])"
      ]
     },
     "execution_count": 145,
     "metadata": {},
     "output_type": "execute_result"
    }
   ],
   "source": [
    "X_train"
   ]
  },
  {
   "cell_type": "code",
   "execution_count": 144,
   "metadata": {},
   "outputs": [
    {
     "data": {
      "text/plain": [
       "(742, 456)"
      ]
     },
     "execution_count": 144,
     "metadata": {},
     "output_type": "execute_result"
    }
   ],
   "source": [
    "X_train.shape"
   ]
  },
  {
   "cell_type": "code",
   "execution_count": 153,
   "metadata": {},
   "outputs": [
    {
     "data": {
      "text/plain": [
       "616"
      ]
     },
     "execution_count": 153,
     "metadata": {},
     "output_type": "execute_result"
    }
   ],
   "source": [
    "a.sum()"
   ]
  },
  {
   "cell_type": "code",
   "execution_count": 154,
   "metadata": {},
   "outputs": [
    {
     "data": {
      "text/plain": [
       "201"
      ]
     },
     "execution_count": 154,
     "metadata": {},
     "output_type": "execute_result"
    }
   ],
   "source": [
    "b.sum()"
   ]
  },
  {
   "cell_type": "code",
   "execution_count": 155,
   "metadata": {},
   "outputs": [
    {
     "data": {
      "text/plain": [
       "40"
      ]
     },
     "execution_count": 155,
     "metadata": {},
     "output_type": "execute_result"
    }
   ],
   "source": [
    "c.sum()"
   ]
  },
  {
   "cell_type": "code",
   "execution_count": 156,
   "metadata": {},
   "outputs": [
    {
     "data": {
      "text/plain": [
       "70"
      ]
     },
     "execution_count": 156,
     "metadata": {},
     "output_type": "execute_result"
    }
   ],
   "source": [
    "d.sum()"
   ]
  },
  {
   "cell_type": "code",
   "execution_count": 158,
   "metadata": {},
   "outputs": [
    {
     "data": {
      "text/plain": [
       "110"
      ]
     },
     "execution_count": 158,
     "metadata": {},
     "output_type": "execute_result"
    }
   ],
   "source": [
    "y.sum()"
   ]
  },
  {
   "cell_type": "code",
   "execution_count": null,
   "metadata": {},
   "outputs": [],
   "source": []
  }
 ],
 "metadata": {
  "kernelspec": {
   "display_name": "nomads",
   "language": "python",
   "name": "nomads"
  },
  "language_info": {
   "codemirror_mode": {
    "name": "ipython",
    "version": 3
   },
   "file_extension": ".py",
   "mimetype": "text/x-python",
   "name": "python",
   "nbconvert_exporter": "python",
   "pygments_lexer": "ipython3",
   "version": "3.6.3"
  }
 },
 "nbformat": 4,
 "nbformat_minor": 2
}
