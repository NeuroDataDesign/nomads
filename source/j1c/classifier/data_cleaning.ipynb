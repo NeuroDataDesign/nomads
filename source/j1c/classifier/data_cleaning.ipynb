{
 "cells": [
  {
   "cell_type": "code",
   "execution_count": 1,
   "metadata": {},
   "outputs": [],
   "source": [
    "import numpy as np\n",
    "import pandas as pd"
   ]
  },
  {
   "cell_type": "code",
   "execution_count": 326,
   "metadata": {},
   "outputs": [],
   "source": [
    "df = pd.read_csv('./MNSite3Synaptograms.csv', header=1, index_col=0)"
   ]
  },
  {
   "cell_type": "code",
   "execution_count": 15,
   "metadata": {},
   "outputs": [],
   "source": [
    "df = df[df.NotSynapse == 0]"
   ]
  },
  {
   "cell_type": "code",
   "execution_count": 327,
   "metadata": {},
   "outputs": [
    {
     "data": {
      "text/html": [
       "<div>\n",
       "<style scoped>\n",
       "    .dataframe tbody tr th:only-of-type {\n",
       "        vertical-align: middle;\n",
       "    }\n",
       "\n",
       "    .dataframe tbody tr th {\n",
       "        vertical-align: top;\n",
       "    }\n",
       "\n",
       "    .dataframe thead th {\n",
       "        text-align: right;\n",
       "    }\n",
       "</style>\n",
       "<table border=\"1\" class=\"dataframe\">\n",
       "  <thead>\n",
       "    <tr style=\"text-align: right;\">\n",
       "      <th></th>\n",
       "      <th>Nz</th>\n",
       "      <th>figure</th>\n",
       "      <th>height</th>\n",
       "      <th>id</th>\n",
       "      <th>maxX</th>\n",
       "      <th>maxY</th>\n",
       "      <th>maxZ</th>\n",
       "      <th>minX</th>\n",
       "      <th>minY</th>\n",
       "      <th>minZ</th>\n",
       "      <th>...</th>\n",
       "      <th>shaft</th>\n",
       "      <th>NotSynapse</th>\n",
       "      <th>nofigure</th>\n",
       "      <th>edgesynapse</th>\n",
       "      <th>enface synapse</th>\n",
       "      <th>PSD positive</th>\n",
       "      <th>comments FC</th>\n",
       "      <th>comments MN</th>\n",
       "      <th>Unnamed: 24</th>\n",
       "      <th>Unnamed: 25</th>\n",
       "    </tr>\n",
       "  </thead>\n",
       "  <tbody>\n",
       "    <tr>\n",
       "      <th>0</th>\n",
       "      <td>10</td>\n",
       "      <td>/nas3/data/M247514_Rorb_1/processed/Site3Synap...</td>\n",
       "      <td>419.0</td>\n",
       "      <td>0</td>\n",
       "      <td>7131.0</td>\n",
       "      <td>6734.0</td>\n",
       "      <td>35</td>\n",
       "      <td>6766.0</td>\n",
       "      <td>6316.0</td>\n",
       "      <td>25</td>\n",
       "      <td>...</td>\n",
       "      <td>0</td>\n",
       "      <td>0</td>\n",
       "      <td>False</td>\n",
       "      <td>NaN</td>\n",
       "      <td>NaN</td>\n",
       "      <td>1.0</td>\n",
       "      <td>NaN</td>\n",
       "      <td>NaN</td>\n",
       "      <td>NaN</td>\n",
       "      <td>NaN</td>\n",
       "    </tr>\n",
       "    <tr>\n",
       "      <th>1</th>\n",
       "      <td>6</td>\n",
       "      <td>/nas3/data/M247514_Rorb_1/processed/Site3Synap...</td>\n",
       "      <td>376.0</td>\n",
       "      <td>1</td>\n",
       "      <td>7535.0</td>\n",
       "      <td>5923.0</td>\n",
       "      <td>49</td>\n",
       "      <td>7171.0</td>\n",
       "      <td>5548.0</td>\n",
       "      <td>43</td>\n",
       "      <td>...</td>\n",
       "      <td>0</td>\n",
       "      <td>0</td>\n",
       "      <td>False</td>\n",
       "      <td>NaN</td>\n",
       "      <td>NaN</td>\n",
       "      <td>1.0</td>\n",
       "      <td>NaN</td>\n",
       "      <td>NaN</td>\n",
       "      <td>NaN</td>\n",
       "      <td>NaN</td>\n",
       "    </tr>\n",
       "    <tr>\n",
       "      <th>2</th>\n",
       "      <td>5</td>\n",
       "      <td>/nas3/data/M247514_Rorb_1/processed/Site3Synap...</td>\n",
       "      <td>399.7</td>\n",
       "      <td>2</td>\n",
       "      <td>7579.6</td>\n",
       "      <td>7233.1</td>\n",
       "      <td>4</td>\n",
       "      <td>7258.4</td>\n",
       "      <td>6834.4</td>\n",
       "      <td>-1</td>\n",
       "      <td>...</td>\n",
       "      <td>0</td>\n",
       "      <td>0</td>\n",
       "      <td>False</td>\n",
       "      <td>NaN</td>\n",
       "      <td>NaN</td>\n",
       "      <td>NaN</td>\n",
       "      <td>NaN</td>\n",
       "      <td>NaN</td>\n",
       "      <td>NaN</td>\n",
       "      <td>NaN</td>\n",
       "    </tr>\n",
       "    <tr>\n",
       "      <th>3</th>\n",
       "      <td>4</td>\n",
       "      <td>NaN</td>\n",
       "      <td>1786.3</td>\n",
       "      <td>3</td>\n",
       "      <td>8470.7</td>\n",
       "      <td>7422.7</td>\n",
       "      <td>6</td>\n",
       "      <td>7349.0</td>\n",
       "      <td>5637.4</td>\n",
       "      <td>2</td>\n",
       "      <td>...</td>\n",
       "      <td>0</td>\n",
       "      <td>1</td>\n",
       "      <td>True</td>\n",
       "      <td>NaN</td>\n",
       "      <td>NaN</td>\n",
       "      <td>NaN</td>\n",
       "      <td>NaN</td>\n",
       "      <td>NaN</td>\n",
       "      <td>NaN</td>\n",
       "      <td>NaN</td>\n",
       "    </tr>\n",
       "    <tr>\n",
       "      <th>4</th>\n",
       "      <td>6</td>\n",
       "      <td>/nas3/data/M247514_Rorb_1/processed/Site3Synap...</td>\n",
       "      <td>330.0</td>\n",
       "      <td>4</td>\n",
       "      <td>7657.0</td>\n",
       "      <td>5911.0</td>\n",
       "      <td>45</td>\n",
       "      <td>7289.0</td>\n",
       "      <td>5582.0</td>\n",
       "      <td>39</td>\n",
       "      <td>...</td>\n",
       "      <td>1</td>\n",
       "      <td>0</td>\n",
       "      <td>False</td>\n",
       "      <td>NaN</td>\n",
       "      <td>NaN</td>\n",
       "      <td>1.0</td>\n",
       "      <td>NaN</td>\n",
       "      <td>NaN</td>\n",
       "      <td>NaN</td>\n",
       "      <td>NaN</td>\n",
       "    </tr>\n",
       "  </tbody>\n",
       "</table>\n",
       "<p>5 rows × 25 columns</p>\n",
       "</div>"
      ],
      "text/plain": [
       "   Nz                                             figure  height  id    maxX  \\\n",
       "0  10  /nas3/data/M247514_Rorb_1/processed/Site3Synap...   419.0   0  7131.0   \n",
       "1   6  /nas3/data/M247514_Rorb_1/processed/Site3Synap...   376.0   1  7535.0   \n",
       "2   5  /nas3/data/M247514_Rorb_1/processed/Site3Synap...   399.7   2  7579.6   \n",
       "3   4                                                NaN  1786.3   3  8470.7   \n",
       "4   6  /nas3/data/M247514_Rorb_1/processed/Site3Synap...   330.0   4  7657.0   \n",
       "\n",
       "     maxY  maxZ    minX    minY  minZ     ...       shaft  NotSynapse  \\\n",
       "0  6734.0    35  6766.0  6316.0    25     ...           0           0   \n",
       "1  5923.0    49  7171.0  5548.0    43     ...           0           0   \n",
       "2  7233.1     4  7258.4  6834.4    -1     ...           0           0   \n",
       "3  7422.7     6  7349.0  5637.4     2     ...           0           1   \n",
       "4  5911.0    45  7289.0  5582.0    39     ...           1           0   \n",
       "\n",
       "   nofigure  edgesynapse  enface synapse  PSD positive  comments FC  \\\n",
       "0     False          NaN             NaN           1.0          NaN   \n",
       "1     False          NaN             NaN           1.0          NaN   \n",
       "2     False          NaN             NaN           NaN          NaN   \n",
       "3      True          NaN             NaN           NaN          NaN   \n",
       "4     False          NaN             NaN           1.0          NaN   \n",
       "\n",
       "   comments MN  Unnamed: 24  Unnamed: 25  \n",
       "0          NaN          NaN          NaN  \n",
       "1          NaN          NaN          NaN  \n",
       "2          NaN          NaN          NaN  \n",
       "3          NaN          NaN          NaN  \n",
       "4          NaN          NaN          NaN  \n",
       "\n",
       "[5 rows x 25 columns]"
      ]
     },
     "execution_count": 327,
     "metadata": {},
     "output_type": "execute_result"
    }
   ],
   "source": [
    "df.head()"
   ]
  },
  {
   "cell_type": "code",
   "execution_count": 328,
   "metadata": {},
   "outputs": [],
   "source": [
    "cols = ['minX', 'maxX', 'minY', 'maxY', 'minZ', 'maxZ']\n",
    "dims = df[cols]"
   ]
  },
  {
   "cell_type": "code",
   "execution_count": 329,
   "metadata": {},
   "outputs": [
    {
     "name": "stderr",
     "output_type": "stream",
     "text": [
      "/Users/jaewonc78/Envs/nomads/lib/python3.6/site-packages/pandas/core/generic.py:4619: SettingWithCopyWarning: \n",
      "A value is trying to be set on a copy of a slice from a DataFrame\n",
      "\n",
      "See the caveats in the documentation: http://pandas.pydata.org/pandas-docs/stable/indexing.html#indexing-view-versus-copy\n",
      "  self._update_inplace(new_data)\n"
     ]
    }
   ],
   "source": [
    "dims['minZ'].replace(-1, 0, inplace=True)"
   ]
  },
  {
   "cell_type": "code",
   "execution_count": 330,
   "metadata": {},
   "outputs": [
    {
     "name": "stderr",
     "output_type": "stream",
     "text": [
      "/Users/jaewonc78/Envs/nomads/lib/python3.6/site-packages/pandas/core/indexing.py:537: SettingWithCopyWarning: \n",
      "A value is trying to be set on a copy of a slice from a DataFrame.\n",
      "Try using .loc[row_indexer,col_indexer] = value instead\n",
      "\n",
      "See the caveats in the documentation: http://pandas.pydata.org/pandas-docs/stable/indexing.html#indexing-view-versus-copy\n",
      "  self.obj[item] = s\n"
     ]
    }
   ],
   "source": [
    "dims.iloc[:, :4] /= 32"
   ]
  },
  {
   "cell_type": "code",
   "execution_count": 331,
   "metadata": {},
   "outputs": [
    {
     "name": "stderr",
     "output_type": "stream",
     "text": [
      "/Users/jaewonc78/Envs/nomads/lib/python3.6/site-packages/ipykernel_launcher.py:1: SettingWithCopyWarning: \n",
      "A value is trying to be set on a copy of a slice from a DataFrame.\n",
      "Try using .loc[row_indexer,col_indexer] = value instead\n",
      "\n",
      "See the caveats in the documentation: http://pandas.pydata.org/pandas-docs/stable/indexing.html#indexing-view-versus-copy\n",
      "  \"\"\"Entry point for launching an IPython kernel.\n",
      "/Users/jaewonc78/Envs/nomads/lib/python3.6/site-packages/ipykernel_launcher.py:2: SettingWithCopyWarning: \n",
      "A value is trying to be set on a copy of a slice from a DataFrame.\n",
      "Try using .loc[row_indexer,col_indexer] = value instead\n",
      "\n",
      "See the caveats in the documentation: http://pandas.pydata.org/pandas-docs/stable/indexing.html#indexing-view-versus-copy\n",
      "  \n",
      "/Users/jaewonc78/Envs/nomads/lib/python3.6/site-packages/ipykernel_launcher.py:3: SettingWithCopyWarning: \n",
      "A value is trying to be set on a copy of a slice from a DataFrame.\n",
      "Try using .loc[row_indexer,col_indexer] = value instead\n",
      "\n",
      "See the caveats in the documentation: http://pandas.pydata.org/pandas-docs/stable/indexing.html#indexing-view-versus-copy\n",
      "  This is separate from the ipykernel package so we can avoid doing imports until\n"
     ]
    }
   ],
   "source": [
    "dims['centerX'] = (dims['maxX'] + dims['minX']) // 2\n",
    "dims['centerY'] = (dims['maxY'] + dims['minY']) // 2\n",
    "dims['centerZ'] = (dims['maxZ'] + dims['minZ']) // 2"
   ]
  },
  {
   "cell_type": "code",
   "execution_count": 332,
   "metadata": {},
   "outputs": [],
   "source": [
    "dims = dims.astype(np.int)"
   ]
  },
  {
   "cell_type": "code",
   "execution_count": 333,
   "metadata": {
    "scrolled": true
   },
   "outputs": [],
   "source": [
    "dims = pd.concat((dims, df.GABA), axis=1)"
   ]
  },
  {
   "cell_type": "code",
   "execution_count": 336,
   "metadata": {},
   "outputs": [
    {
     "data": {
      "text/html": [
       "<div>\n",
       "<style scoped>\n",
       "    .dataframe tbody tr th:only-of-type {\n",
       "        vertical-align: middle;\n",
       "    }\n",
       "\n",
       "    .dataframe tbody tr th {\n",
       "        vertical-align: top;\n",
       "    }\n",
       "\n",
       "    .dataframe thead th {\n",
       "        text-align: right;\n",
       "    }\n",
       "</style>\n",
       "<table border=\"1\" class=\"dataframe\">\n",
       "  <thead>\n",
       "    <tr style=\"text-align: right;\">\n",
       "      <th></th>\n",
       "      <th>minX</th>\n",
       "      <th>maxX</th>\n",
       "      <th>minY</th>\n",
       "      <th>maxY</th>\n",
       "      <th>minZ</th>\n",
       "      <th>maxZ</th>\n",
       "      <th>centerX</th>\n",
       "      <th>centerY</th>\n",
       "      <th>centerZ</th>\n",
       "      <th>GABA</th>\n",
       "    </tr>\n",
       "  </thead>\n",
       "  <tbody>\n",
       "    <tr>\n",
       "      <th>0</th>\n",
       "      <td>211</td>\n",
       "      <td>222</td>\n",
       "      <td>197</td>\n",
       "      <td>210</td>\n",
       "      <td>25</td>\n",
       "      <td>35</td>\n",
       "      <td>217</td>\n",
       "      <td>203</td>\n",
       "      <td>30</td>\n",
       "      <td>0</td>\n",
       "    </tr>\n",
       "    <tr>\n",
       "      <th>1</th>\n",
       "      <td>224</td>\n",
       "      <td>235</td>\n",
       "      <td>173</td>\n",
       "      <td>185</td>\n",
       "      <td>43</td>\n",
       "      <td>49</td>\n",
       "      <td>229</td>\n",
       "      <td>179</td>\n",
       "      <td>46</td>\n",
       "      <td>0</td>\n",
       "    </tr>\n",
       "    <tr>\n",
       "      <th>2</th>\n",
       "      <td>226</td>\n",
       "      <td>236</td>\n",
       "      <td>213</td>\n",
       "      <td>226</td>\n",
       "      <td>0</td>\n",
       "      <td>4</td>\n",
       "      <td>231</td>\n",
       "      <td>219</td>\n",
       "      <td>2</td>\n",
       "      <td>0</td>\n",
       "    </tr>\n",
       "    <tr>\n",
       "      <th>3</th>\n",
       "      <td>229</td>\n",
       "      <td>264</td>\n",
       "      <td>176</td>\n",
       "      <td>231</td>\n",
       "      <td>2</td>\n",
       "      <td>6</td>\n",
       "      <td>247</td>\n",
       "      <td>204</td>\n",
       "      <td>4</td>\n",
       "      <td>0</td>\n",
       "    </tr>\n",
       "    <tr>\n",
       "      <th>4</th>\n",
       "      <td>227</td>\n",
       "      <td>239</td>\n",
       "      <td>174</td>\n",
       "      <td>184</td>\n",
       "      <td>39</td>\n",
       "      <td>45</td>\n",
       "      <td>233</td>\n",
       "      <td>179</td>\n",
       "      <td>42</td>\n",
       "      <td>0</td>\n",
       "    </tr>\n",
       "  </tbody>\n",
       "</table>\n",
       "</div>"
      ],
      "text/plain": [
       "   minX  maxX  minY  maxY  minZ  maxZ  centerX  centerY  centerZ  GABA\n",
       "0   211   222   197   210    25    35      217      203       30     0\n",
       "1   224   235   173   185    43    49      229      179       46     0\n",
       "2   226   236   213   226     0     4      231      219        2     0\n",
       "3   229   264   176   231     2     6      247      204        4     0\n",
       "4   227   239   174   184    39    45      233      179       42     0"
      ]
     },
     "execution_count": 336,
     "metadata": {},
     "output_type": "execute_result"
    }
   ],
   "source": [
    "dims.head()"
   ]
  },
  {
   "cell_type": "code",
   "execution_count": 337,
   "metadata": {},
   "outputs": [],
   "source": [
    "dims.to_csv('Site3Synaptograms.csv')"
   ]
  },
  {
   "cell_type": "code",
   "execution_count": 13,
   "metadata": {},
   "outputs": [],
   "source": [
    "dims = pd.read_csv('Site3Synaptograms.csv', index_col=0)"
   ]
  },
  {
   "cell_type": "code",
   "execution_count": 14,
   "metadata": {},
   "outputs": [
    {
     "data": {
      "text/html": [
       "<div>\n",
       "<style scoped>\n",
       "    .dataframe tbody tr th:only-of-type {\n",
       "        vertical-align: middle;\n",
       "    }\n",
       "\n",
       "    .dataframe tbody tr th {\n",
       "        vertical-align: top;\n",
       "    }\n",
       "\n",
       "    .dataframe thead th {\n",
       "        text-align: right;\n",
       "    }\n",
       "</style>\n",
       "<table border=\"1\" class=\"dataframe\">\n",
       "  <thead>\n",
       "    <tr style=\"text-align: right;\">\n",
       "      <th></th>\n",
       "      <th>minX</th>\n",
       "      <th>maxX</th>\n",
       "      <th>minY</th>\n",
       "      <th>maxY</th>\n",
       "      <th>minZ</th>\n",
       "      <th>maxZ</th>\n",
       "      <th>centerX</th>\n",
       "      <th>centerY</th>\n",
       "      <th>centerZ</th>\n",
       "      <th>GABA</th>\n",
       "    </tr>\n",
       "  </thead>\n",
       "  <tbody>\n",
       "    <tr>\n",
       "      <th>0</th>\n",
       "      <td>211</td>\n",
       "      <td>222</td>\n",
       "      <td>197</td>\n",
       "      <td>210</td>\n",
       "      <td>25</td>\n",
       "      <td>35</td>\n",
       "      <td>217</td>\n",
       "      <td>203</td>\n",
       "      <td>30</td>\n",
       "      <td>0</td>\n",
       "    </tr>\n",
       "    <tr>\n",
       "      <th>1</th>\n",
       "      <td>224</td>\n",
       "      <td>235</td>\n",
       "      <td>173</td>\n",
       "      <td>185</td>\n",
       "      <td>43</td>\n",
       "      <td>49</td>\n",
       "      <td>229</td>\n",
       "      <td>179</td>\n",
       "      <td>46</td>\n",
       "      <td>0</td>\n",
       "    </tr>\n",
       "    <tr>\n",
       "      <th>2</th>\n",
       "      <td>226</td>\n",
       "      <td>236</td>\n",
       "      <td>213</td>\n",
       "      <td>226</td>\n",
       "      <td>0</td>\n",
       "      <td>4</td>\n",
       "      <td>231</td>\n",
       "      <td>219</td>\n",
       "      <td>2</td>\n",
       "      <td>0</td>\n",
       "    </tr>\n",
       "    <tr>\n",
       "      <th>3</th>\n",
       "      <td>229</td>\n",
       "      <td>264</td>\n",
       "      <td>176</td>\n",
       "      <td>231</td>\n",
       "      <td>2</td>\n",
       "      <td>6</td>\n",
       "      <td>247</td>\n",
       "      <td>204</td>\n",
       "      <td>4</td>\n",
       "      <td>0</td>\n",
       "    </tr>\n",
       "    <tr>\n",
       "      <th>4</th>\n",
       "      <td>227</td>\n",
       "      <td>239</td>\n",
       "      <td>174</td>\n",
       "      <td>184</td>\n",
       "      <td>39</td>\n",
       "      <td>45</td>\n",
       "      <td>233</td>\n",
       "      <td>179</td>\n",
       "      <td>42</td>\n",
       "      <td>0</td>\n",
       "    </tr>\n",
       "  </tbody>\n",
       "</table>\n",
       "</div>"
      ],
      "text/plain": [
       "   minX  maxX  minY  maxY  minZ  maxZ  centerX  centerY  centerZ  GABA\n",
       "0   211   222   197   210    25    35      217      203       30     0\n",
       "1   224   235   173   185    43    49      229      179       46     0\n",
       "2   226   236   213   226     0     4      231      219        2     0\n",
       "3   229   264   176   231     2     6      247      204        4     0\n",
       "4   227   239   174   184    39    45      233      179       42     0"
      ]
     },
     "execution_count": 14,
     "metadata": {},
     "output_type": "execute_result"
    }
   ],
   "source": [
    "dims.head()"
   ]
  },
  {
   "cell_type": "code",
   "execution_count": 6,
   "metadata": {},
   "outputs": [],
   "source": [
    "from neurodataresource import NeuroDataResource"
   ]
  },
  {
   "cell_type": "code",
   "execution_count": 7,
   "metadata": {},
   "outputs": [],
   "source": [
    "with open('api_key.txt') as f:\n",
    "    token = f.readline()\n",
    "host = 'api.boss.neurodata.io'\n",
    "collection = 'collman'\n",
    "experiment = 'M247514_Rorb_1_Site3Align2_LENS_Session1_CROP'\n",
    "\n",
    "ndr = NeuroDataResource(host, token, collection, experiment)"
   ]
  },
  {
   "cell_type": "code",
   "execution_count": 8,
   "metadata": {},
   "outputs": [],
   "source": [
    "channels = ['GABA',\n",
    "             'GAD2',\n",
    "             'Gephyrin',\n",
    "             'GluN1',\n",
    "             'PSD95',\n",
    "             'synapsin',\n",
    "             'TdTomato',\n",
    "             'VGlut1']"
   ]
  },
  {
   "cell_type": "code",
   "execution_count": 9,
   "metadata": {},
   "outputs": [
    {
     "data": {
      "text/plain": [
       "['DAPI1',\n",
       " 'DAPI2',\n",
       " 'DAPI3',\n",
       " 'GABA',\n",
       " 'GAD2',\n",
       " 'Gephyrin',\n",
       " 'GluN1',\n",
       " 'MBP',\n",
       " 'PSD95',\n",
       " 'synapsin',\n",
       " 'TdTomato',\n",
       " 'TdTomato_16bit',\n",
       " 'VGlut1']"
      ]
     },
     "execution_count": 9,
     "metadata": {},
     "output_type": "execute_result"
    }
   ],
   "source": [
    "ndr.channels"
   ]
  },
  {
   "cell_type": "code",
   "execution_count": 10,
   "metadata": {},
   "outputs": [],
   "source": [
    "def compute_block(size, centroid):\n",
    "    z_dim, y_dim, x_dim = [(i - 1) // 2 for i in size]\n",
    "    #z_max, y_max, x_max = max_dimensions\n",
    "\n",
    "    grid = np.array(\n",
    "        [-z_dim, z_dim + 1, -y_dim, y_dim + 1, -x_dim, x_dim + 1])\n",
    "    #dimensions = np.repeat(centroids, 2, axis=1) + grid\n",
    "    dimension = np.repeat(centroid, 2) + grid\n",
    "    \n",
    "    return dimension"
   ]
  },
  {
   "cell_type": "code",
   "execution_count": 11,
   "metadata": {},
   "outputs": [],
   "source": [
    "def pad_block(block, block_range, max_dim):\n",
    "    \"\"\"\n",
    "    block : nd-array\n",
    "        3D array cutout from BOSS\n",
    "    block_range : 1d-array\n",
    "        in format (minZ, maxZ, minY, maxY, minX, maxX)\n",
    "    max_dim : 1d-array\n",
    "        in format (maxZ, maxY, maxX)\n",
    "    \"\"\"\n",
    "    z, y, x = np.split(block_range, 3)\n",
    "    z_max, y_max, x_max = max_dim\n",
    "\n",
    "    true_size = np.array((z[1] - z[0],\n",
    "                          y[1] - y[0],\n",
    "                          x[1] - z[0]))\n",
    "    \n",
    "    block_shape = np.array(block.shape)\n",
    "    \n",
    "    if np.any(block_shape < true_size):\n",
    "        z_ = np.clip(z, a_min=0, a_max=z_max)\n",
    "        y_ = np.clip(y, a_min=0, a_max=y_max)\n",
    "        x_ = np.clip(x, a_min=0, a_max=x_max)\n",
    "        \n",
    "        block_ = np.pad(block, (np.abs(z - z_), \n",
    "                                np.abs(y - y_),\n",
    "                                np.abs(x - x_)),\n",
    "                               'constant')\n",
    "        return block_\n",
    "    \n",
    "    else:\n",
    "        return block"
   ]
  },
  {
   "cell_type": "code",
   "execution_count": 15,
   "metadata": {},
   "outputs": [
    {
     "data": {
      "text/html": [
       "<div>\n",
       "<style scoped>\n",
       "    .dataframe tbody tr th:only-of-type {\n",
       "        vertical-align: middle;\n",
       "    }\n",
       "\n",
       "    .dataframe tbody tr th {\n",
       "        vertical-align: top;\n",
       "    }\n",
       "\n",
       "    .dataframe thead th {\n",
       "        text-align: right;\n",
       "    }\n",
       "</style>\n",
       "<table border=\"1\" class=\"dataframe\">\n",
       "  <thead>\n",
       "    <tr style=\"text-align: right;\">\n",
       "      <th></th>\n",
       "      <th>minX</th>\n",
       "      <th>maxX</th>\n",
       "      <th>minY</th>\n",
       "      <th>maxY</th>\n",
       "      <th>minZ</th>\n",
       "      <th>maxZ</th>\n",
       "      <th>centerX</th>\n",
       "      <th>centerY</th>\n",
       "      <th>centerZ</th>\n",
       "      <th>GABA</th>\n",
       "    </tr>\n",
       "  </thead>\n",
       "  <tbody>\n",
       "    <tr>\n",
       "      <th>0</th>\n",
       "      <td>211</td>\n",
       "      <td>222</td>\n",
       "      <td>197</td>\n",
       "      <td>210</td>\n",
       "      <td>25</td>\n",
       "      <td>35</td>\n",
       "      <td>217</td>\n",
       "      <td>203</td>\n",
       "      <td>30</td>\n",
       "      <td>0</td>\n",
       "    </tr>\n",
       "    <tr>\n",
       "      <th>1</th>\n",
       "      <td>224</td>\n",
       "      <td>235</td>\n",
       "      <td>173</td>\n",
       "      <td>185</td>\n",
       "      <td>43</td>\n",
       "      <td>49</td>\n",
       "      <td>229</td>\n",
       "      <td>179</td>\n",
       "      <td>46</td>\n",
       "      <td>0</td>\n",
       "    </tr>\n",
       "    <tr>\n",
       "      <th>2</th>\n",
       "      <td>226</td>\n",
       "      <td>236</td>\n",
       "      <td>213</td>\n",
       "      <td>226</td>\n",
       "      <td>0</td>\n",
       "      <td>4</td>\n",
       "      <td>231</td>\n",
       "      <td>219</td>\n",
       "      <td>2</td>\n",
       "      <td>0</td>\n",
       "    </tr>\n",
       "    <tr>\n",
       "      <th>3</th>\n",
       "      <td>229</td>\n",
       "      <td>264</td>\n",
       "      <td>176</td>\n",
       "      <td>231</td>\n",
       "      <td>2</td>\n",
       "      <td>6</td>\n",
       "      <td>247</td>\n",
       "      <td>204</td>\n",
       "      <td>4</td>\n",
       "      <td>0</td>\n",
       "    </tr>\n",
       "    <tr>\n",
       "      <th>4</th>\n",
       "      <td>227</td>\n",
       "      <td>239</td>\n",
       "      <td>174</td>\n",
       "      <td>184</td>\n",
       "      <td>39</td>\n",
       "      <td>45</td>\n",
       "      <td>233</td>\n",
       "      <td>179</td>\n",
       "      <td>42</td>\n",
       "      <td>0</td>\n",
       "    </tr>\n",
       "  </tbody>\n",
       "</table>\n",
       "</div>"
      ],
      "text/plain": [
       "   minX  maxX  minY  maxY  minZ  maxZ  centerX  centerY  centerZ  GABA\n",
       "0   211   222   197   210    25    35      217      203       30     0\n",
       "1   224   235   173   185    43    49      229      179       46     0\n",
       "2   226   236   213   226     0     4      231      219        2     0\n",
       "3   229   264   176   231     2     6      247      204        4     0\n",
       "4   227   239   174   184    39    45      233      179       42     0"
      ]
     },
     "execution_count": 15,
     "metadata": {},
     "output_type": "execute_result"
    }
   ],
   "source": [
    "dims.head()"
   ]
  },
  {
   "cell_type": "code",
   "execution_count": 16,
   "metadata": {},
   "outputs": [
    {
     "data": {
      "text/plain": [
       "['GABA',\n",
       " 'GAD2',\n",
       " 'Gephyrin',\n",
       " 'GluN1',\n",
       " 'PSD95',\n",
       " 'synapsin',\n",
       " 'TdTomato',\n",
       " 'VGlut1']"
      ]
     },
     "execution_count": 16,
     "metadata": {},
     "output_type": "execute_result"
    }
   ],
   "source": [
    "channels"
   ]
  },
  {
   "cell_type": "code",
   "execution_count": 18,
   "metadata": {},
   "outputs": [],
   "source": [
    "# Change block size here\n",
    "block_size = (15, 9, 9)"
   ]
  },
  {
   "cell_type": "code",
   "execution_count": 19,
   "metadata": {},
   "outputs": [],
   "source": [
    "data = np.empty((len(dims), len(channels), 15, 9, 9), dtype=np.uint8)"
   ]
  },
  {
   "cell_type": "code",
   "execution_count": 20,
   "metadata": {},
   "outputs": [
    {
     "data": {
      "text/plain": [
       "(1078, 8, 15, 9, 9)"
      ]
     },
     "execution_count": 20,
     "metadata": {},
     "output_type": "execute_result"
    }
   ],
   "source": [
    "data.shape"
   ]
  },
  {
   "cell_type": "code",
   "execution_count": 21,
   "metadata": {},
   "outputs": [
    {
     "data": {
      "text/plain": [
       "array([[ 30, 203, 217],\n",
       "       [ 46, 179, 229],\n",
       "       [  2, 219, 231],\n",
       "       ...,\n",
       "       [ 31, 269, 261],\n",
       "       [  7, 260, 299],\n",
       "       [ 19, 204, 314]])"
      ]
     },
     "execution_count": 21,
     "metadata": {},
     "output_type": "execute_result"
    }
   ],
   "source": [
    "centroids"
   ]
  },
  {
   "cell_type": "code",
   "execution_count": 27,
   "metadata": {},
   "outputs": [],
   "source": [
    "b = np.empty((len(centroids), 6))"
   ]
  },
  {
   "cell_type": "code",
   "execution_count": 38,
   "metadata": {},
   "outputs": [],
   "source": [
    "for i in range(len(centroids)):\n",
    "    b[i] = compute_block((15, 9, 9), centroids[i])"
   ]
  },
  {
   "cell_type": "code",
   "execution_count": 39,
   "metadata": {},
   "outputs": [],
   "source": [
    "out = (b < 0).sum(axis=1) == 1"
   ]
  },
  {
   "cell_type": "code",
   "execution_count": 40,
   "metadata": {},
   "outputs": [],
   "source": [
    "np.save('15_9_9_edge_mask', out)"
   ]
  },
  {
   "cell_type": "code",
   "execution_count": 22,
   "metadata": {},
   "outputs": [
    {
     "name": "stdout",
     "output_type": "stream",
     "text": [
      "Start downloading GABA channel\n",
      "Finished downloading GABA channel\n",
      "Start downloading GAD2 channel\n",
      "Finished downloading GAD2 channel\n",
      "Start downloading Gephyrin channel\n",
      "Finished downloading Gephyrin channel\n",
      "Start downloading GluN1 channel\n",
      "Finished downloading GluN1 channel\n",
      "Start downloading PSD95 channel\n",
      "Finished downloading PSD95 channel\n",
      "Start downloading synapsin channel\n",
      "Finished downloading synapsin channel\n",
      "Start downloading TdTomato channel\n",
      "Finished downloading TdTomato channel\n",
      "Start downloading VGlut1 channel\n",
      "Finished downloading VGlut1 channel\n"
     ]
    }
   ],
   "source": [
    "z_max, y_max, x_max = ndr.max_dimensions\n",
    "centroids =  dims[['centerZ', 'centerY', 'centerX']].values\n",
    "#block_ranges = compute_blocks((11, 11, 11), dims.iloc[:, :6:-1].values)\n",
    "\n",
    "for idx, channel in enumerate(channels):\n",
    "    print('Start downloading {} channel'.format(channel))\n",
    "    for jdx, centroid in enumerate(centroids):\n",
    "        block_range = compute_block(block_size, centroid)\n",
    "        z, y, x = np.split(block_range.copy(), 3)\n",
    "        \n",
    "        np.clip(z, a_min=0, a_max=z_max, out=z)\n",
    "        np.clip(y, a_min=0, a_max=y_max, out=y)\n",
    "        np.clip(x, a_min=0, a_max=x_max, out=x)\n",
    "        \n",
    "        block = ndr.get_cutout(channel, z, y, x)\n",
    "        block = pad_block(block, block_range, ndr.max_dimensions)\n",
    "        \n",
    "        data[jdx, idx] = block\n",
    "    print('Finished downloading {} channel'.format(channel))"
   ]
  },
  {
   "cell_type": "code",
   "execution_count": 23,
   "metadata": {},
   "outputs": [],
   "source": [
    "np.save('data_isotropic', data)"
   ]
  },
  {
   "cell_type": "code",
   "execution_count": 24,
   "metadata": {},
   "outputs": [
    {
     "data": {
      "text/plain": [
       "(1078, 8, 15, 9, 9)"
      ]
     },
     "execution_count": 24,
     "metadata": {},
     "output_type": "execute_result"
    }
   ],
   "source": [
    "data.shape"
   ]
  },
  {
   "cell_type": "code",
   "execution_count": null,
   "metadata": {},
   "outputs": [],
   "source": []
  }
 ],
 "metadata": {
  "kernelspec": {
   "display_name": "nomads",
   "language": "python",
   "name": "nomads"
  },
  "language_info": {
   "codemirror_mode": {
    "name": "ipython",
    "version": 3
   },
   "file_extension": ".py",
   "mimetype": "text/x-python",
   "name": "python",
   "nbconvert_exporter": "python",
   "pygments_lexer": "ipython3",
   "version": "3.6.3"
  }
 },
 "nbformat": 4,
 "nbformat_minor": 2
}
