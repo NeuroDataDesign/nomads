{
 "cells": [
  {
   "cell_type": "code",
   "execution_count": 1,
   "metadata": {
    "collapsed": true
   },
   "outputs": [],
   "source": [
    "import numpy as np\n",
    "\n",
    "import sys\n",
    "sys.path.append('../../bstadt/Quality/')\n",
    "sys.path.append('../../bstadt/Util/')\n",
    "\n",
    "from Quality import compute_overlap_array as bstadt_overlaps\n",
    "from Util import generateTestVolume\n",
    "from skimage.measure import label"
   ]
  },
  {
   "cell_type": "code",
   "execution_count": 2,
   "metadata": {
    "collapsed": true
   },
   "outputs": [],
   "source": [
    "data = np.load('../data/collman15v2.npz')"
   ]
  },
  {
   "cell_type": "code",
   "execution_count": 3,
   "metadata": {},
   "outputs": [
    {
     "data": {
      "text/plain": [
       "['annotation',\n",
       " 'EM25K',\n",
       " 'GABA488',\n",
       " 'GAD647',\n",
       " 'gephyrin594',\n",
       " 'GS594',\n",
       " 'MBP488',\n",
       " 'NR1594',\n",
       " 'PSD95_488',\n",
       " 'Synapsin647',\n",
       " 'VGluT1_647',\n",
       " 'DAPI1st']"
      ]
     },
     "execution_count": 3,
     "metadata": {},
     "output_type": "execute_result"
    }
   ],
   "source": [
    "data.files"
   ]
  },
  {
   "cell_type": "code",
   "execution_count": 4,
   "metadata": {
    "collapsed": true
   },
   "outputs": [],
   "source": [
    "annotation = data['annotation']"
   ]
  },
  {
   "cell_type": "markdown",
   "metadata": {},
   "source": [
    "### Check results from bstadt compute_overlap_array to make sure it is creating more ground truth labels"
   ]
  },
  {
   "cell_type": "code",
   "execution_count": 5,
   "metadata": {
    "collapsed": true
   },
   "outputs": [],
   "source": [
    "#Just look at the middle section with shape (20, 2000, 2000)\n",
    "annotation = annotation[0:20, 2000:4000, 2000:4000]"
   ]
  },
  {
   "cell_type": "code",
   "execution_count": 6,
   "metadata": {},
   "outputs": [
    {
     "name": "stdout",
     "output_type": "stream",
     "text": [
      "37\n",
      "52\n"
     ]
    }
   ],
   "source": [
    "#This section has 37 annotations\n",
    "print(len(np.unique(annotation)[1:]))\n",
    "\n",
    "#Labeling annotations results in 52 labels\n",
    "print(len(np.unique(label(annotation))[1:]))"
   ]
  },
  {
   "cell_type": "code",
   "execution_count": 7,
   "metadata": {},
   "outputs": [],
   "source": [
    "#Generate a random \"prediction\" volume with shape (20, 2000, 2000) with 40 predictions\n",
    "test_volume, _ = generateTestVolume(20, 2000, 2000, \n",
    "                                40,\n",
    "                                41,\n",
    "                                3,\n",
    "                                5,\n",
    "                                10,\n",
    "                                25,\n",
    "                                10,\n",
    "                                25)"
   ]
  },
  {
   "cell_type": "code",
   "execution_count": 15,
   "metadata": {},
   "outputs": [
    {
     "data": {
      "text/plain": [
       "40"
      ]
     },
     "execution_count": 15,
     "metadata": {},
     "output_type": "execute_result"
    }
   ],
   "source": [
    "#Confirm there are 40 \"predictions\"\n",
    "len(np.unique(label(test_volume))[1:])"
   ]
  },
  {
   "cell_type": "code",
   "execution_count": 10,
   "metadata": {
    "collapsed": true
   },
   "outputs": [],
   "source": [
    "bstadt_results = bstadt_overlaps(test_volume, annotation)"
   ]
  },
  {
   "cell_type": "markdown",
   "metadata": {},
   "source": [
    "predictionPerGt should have 52 values in bstadt_results"
   ]
  },
  {
   "cell_type": "code",
   "execution_count": 11,
   "metadata": {
    "scrolled": true
   },
   "outputs": [
    {
     "name": "stdout",
     "output_type": "stream",
     "text": [
      "predictionPerGt 52\n",
      "gtPerPrediction 40\n"
     ]
    }
   ],
   "source": [
    "for key, value in bstadt_results.items():\n",
    "    print(key, len(value))"
   ]
  },
  {
   "cell_type": "markdown",
   "metadata": {},
   "source": [
    "### Remove labeling of ground truth. Should result in \"predictionPerGt\" to be 37 in this case."
   ]
  },
  {
   "cell_type": "code",
   "execution_count": 16,
   "metadata": {
    "collapsed": true
   },
   "outputs": [],
   "source": [
    "def get_uniques(ar):\n",
    "    \"\"\"\n",
    "    Returns an ordered numpy array of unique integers in an array.\n",
    "    This runs about four times faster than numpy.unique().\n",
    "\n",
    "    Parameters\n",
    "    ----------\n",
    "    ar : array_like\n",
    "\n",
    "    Returns\n",
    "    -------\n",
    "    uniques :\n",
    "    \"\"\"\n",
    "    bins = np.zeros(np.max(ar) + 1, dtype=int)\n",
    "    bins[ar.ravel()] = 1\n",
    "    uniques = np.nonzero(bins)[0]\n",
    "\n",
    "    return uniques\n",
    "\n",
    "def get_unique_overlap2(foreground, background, i):\n",
    "    '''\n",
    "    Calculates the number of unique background labels in the foreground at i\n",
    "    Does not count background label of 0\n",
    "    '''\n",
    "\n",
    "    overlaps = np.multiply((foreground == i), background)\n",
    "    uniques = get_uniques(overlaps)\n",
    "\n",
    "    num_unique = len(uniques)\n",
    "\n",
    "    #0 is background label\n",
    "    #should not count as a detection if\n",
    "    #the prediction overlaps with the background\n",
    "    if 0 in uniques:\n",
    "        num_unique -= 1\n",
    "\n",
    "    return num_unique\n",
    "\n",
    "\n",
    "def compute_overlap_array2(predictions, gt):\n",
    "    predictionLabels = label(predictions)\n",
    "    maxPredictionLabel = np.max(predictionLabels)\n",
    "\n",
    "    #gtLabels = label(gt)\n",
    "    #maxGtLabel = np.max(gtLabels)\n",
    "    gt_uniques = get_uniques(gt)[1:]\n",
    "\n",
    "\n",
    "    #first, look at how many unique predictions\n",
    "    #overlap with a single gt synapse\n",
    "    predictionPerGt = [get_unique_overlap2(gt, predictionLabels, i)\\\n",
    "                       for i in gt_uniques]\n",
    "\n",
    "\n",
    "    #next, look at how many unique synapses overlap\n",
    "    #with a single synapse prediction\n",
    "    gtPerPrediction = [get_unique_overlap2(predictionLabels, gt, i)\\\n",
    "                       for i in range(1, maxPredictionLabel + 1)]\n",
    "\n",
    "    return {'predictionPerGt': predictionPerGt,\n",
    "            'gtPerPrediction': gtPerPrediction}\n"
   ]
  },
  {
   "cell_type": "code",
   "execution_count": 18,
   "metadata": {
    "collapsed": true
   },
   "outputs": [],
   "source": [
    "j1c_results = compute_overlap_array2(test_volume, annotation)"
   ]
  },
  {
   "cell_type": "markdown",
   "metadata": {},
   "source": [
    "This should result in predictionPerGt with 37 values"
   ]
  },
  {
   "cell_type": "code",
   "execution_count": 21,
   "metadata": {},
   "outputs": [
    {
     "name": "stdout",
     "output_type": "stream",
     "text": [
      "predictionPerGt 37\n",
      "gtPerPrediction 40\n"
     ]
    }
   ],
   "source": [
    "for key, value in j1c_results.items():\n",
    "    print(key, len(value))"
   ]
  },
  {
   "cell_type": "code",
   "execution_count": 25,
   "metadata": {},
   "outputs": [
    {
     "data": {
      "text/plain": [
       "True"
      ]
     },
     "execution_count": 25,
     "metadata": {},
     "output_type": "execute_result"
    }
   ],
   "source": [
    "np.array_equiv(get_uniques(annotation), np.unique(annotation))"
   ]
  },
  {
   "cell_type": "code",
   "execution_count": null,
   "metadata": {
    "collapsed": true
   },
   "outputs": [],
   "source": []
  }
 ],
 "metadata": {
  "kernelspec": {
   "display_name": "Python [default]",
   "language": "python",
   "name": "python3"
  },
  "language_info": {
   "codemirror_mode": {
    "name": "ipython",
    "version": 3
   },
   "file_extension": ".py",
   "mimetype": "text/x-python",
   "name": "python",
   "nbconvert_exporter": "python",
   "pygments_lexer": "ipython3",
   "version": "3.6.1"
  }
 },
 "nbformat": 4,
 "nbformat_minor": 2
}
