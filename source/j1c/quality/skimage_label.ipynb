{
 "cells": [
  {
   "cell_type": "markdown",
   "metadata": {},
   "source": [
    "## Overview\n",
    "This examines why there are more labels than you start out with when you label an annotation volume. For example, there are 236 unique labels in Collman15v2 dataset, but using skimage.measure.label on the annotation volume returns 302 labels.\n",
    "\n",
    "### Summary\n",
    "In an annotation perspective, a synapse is between a single pre-synapse and a single post-synapse. As such, there may be more than 1 synaptic clefts between one pre-synapse and another post-synapse. This results in some annotations having more than 1 synaptic area, which causes skimage.measure.label to think that they are separate \"labels\" when they are not."
   ]
  },
  {
   "cell_type": "code",
   "execution_count": 1,
   "metadata": {
    "collapsed": true
   },
   "outputs": [],
   "source": [
    "import matplotlib.pyplot as plt\n",
    "import numpy as np\n",
    "from matplotlib.colors import from_levels_and_colors\n",
    "from skimage.measure import label"
   ]
  },
  {
   "cell_type": "code",
   "execution_count": 2,
   "metadata": {
    "collapsed": true
   },
   "outputs": [],
   "source": [
    "file = np.load('../data/collman15v2.npz')\n",
    "\n",
    "annotation_collman = file['annotation']"
   ]
  },
  {
   "cell_type": "code",
   "execution_count": 3,
   "metadata": {},
   "outputs": [
    {
     "data": {
      "text/plain": [
       "236"
      ]
     },
     "execution_count": 3,
     "metadata": {},
     "output_type": "execute_result"
    }
   ],
   "source": [
    "uniques = np.unique(annotation_collman)\n",
    "\n",
    "len(uniques[1:])"
   ]
  },
  {
   "cell_type": "code",
   "execution_count": 4,
   "metadata": {},
   "outputs": [
    {
     "data": {
      "text/plain": [
       "302"
      ]
     },
     "execution_count": 4,
     "metadata": {},
     "output_type": "execute_result"
    }
   ],
   "source": [
    "annotation_labels = label(annotation_collman > 0)\n",
    "\n",
    "label_uniques = np.unique(annotation_labels)\n",
    "\n",
    "len(label_uniques[1:])"
   ]
  },
  {
   "cell_type": "code",
   "execution_count": 5,
   "metadata": {},
   "outputs": [],
   "source": [
    "collman_bins = np.bincount(annotation_collman.ravel())[1:]\n",
    "collman_bins = collman_bins[np.nonzero(collman_bins)] #There is one number that is skipped"
   ]
  },
  {
   "cell_type": "code",
   "execution_count": 6,
   "metadata": {},
   "outputs": [
    {
     "data": {
      "text/plain": [
       "1071"
      ]
     },
     "execution_count": 6,
     "metadata": {},
     "output_type": "execute_result"
    }
   ],
   "source": [
    "np.min(collman_bins)"
   ]
  },
  {
   "cell_type": "code",
   "execution_count": 7,
   "metadata": {},
   "outputs": [],
   "source": [
    "label_bins = np.bincount(annotation_labels.ravel())[1:]"
   ]
  },
  {
   "cell_type": "code",
   "execution_count": 8,
   "metadata": {},
   "outputs": [
    {
     "data": {
      "text/plain": [
       "589"
      ]
     },
     "execution_count": 8,
     "metadata": {},
     "output_type": "execute_result"
    }
   ],
   "source": [
    "np.min(label_bins)"
   ]
  },
  {
   "cell_type": "markdown",
   "metadata": {},
   "source": [
    "Since the minimum size in annotation_labels is 589, it can be assumed that there aren't any randomly annotation voxels floating around in the annotation volume."
   ]
  },
  {
   "cell_type": "code",
   "execution_count": 9,
   "metadata": {
    "collapsed": true
   },
   "outputs": [],
   "source": [
    "def get_unique_overlap(foreground, background, i):\n",
    "    '''\n",
    "    Calculates the number of unique background labels in the foreground at i\n",
    "    Does not count background label of 0\n",
    "    '''\n",
    "\n",
    "    r = np.any(foreground==i, axis=(1, 2))\n",
    "    c = np.any(foreground==i, axis=(0, 2))\n",
    "    z = np.any(foreground==i, axis=(0, 1))\n",
    "\n",
    "    rmin, rmax = np.where(r)[0][[0, -1]]\n",
    "    cmin, cmax = np.where(c)[0][[0, -1]]\n",
    "    zmin, zmax = np.where(z)[0][[0, -1]]\n",
    "    \n",
    "    foreground = foreground[rmin:rmax+1, cmin:cmax+1, zmin:zmax+1]\n",
    "    background = background[rmin:rmax+1, cmin:cmax+1, zmin:zmax+1]\n",
    "    \n",
    "    #This runs about 4 times faster than np.unique()\n",
    "    overlaps = np.multiply((foreground == i), background)\n",
    "    bins = np.zeros(np.max(overlaps) + 1, dtype=int)\n",
    "    bins[overlaps.ravel()] = 1\n",
    "    uniques = np.nonzero(bins)[0]\n",
    "\n",
    "    num_unique = len(uniques)\n",
    "\n",
    "    #0 is background label\n",
    "    #should not count as a detection if\n",
    "    #the prediction overlaps with the background\n",
    "    if 0 in uniques:\n",
    "        num_unique -= 1\n",
    "        \n",
    "    if num_unique > 1:\n",
    "        return (i, num_unique)"
   ]
  },
  {
   "cell_type": "code",
   "execution_count": 10,
   "metadata": {
    "collapsed": true
   },
   "outputs": [],
   "source": [
    "def bbox_3D(img):\n",
    "\n",
    "    r = np.any(img, axis=(1, 2))\n",
    "    c = np.any(img, axis=(0, 2))\n",
    "    z = np.any(img, axis=(0, 1))\n",
    "\n",
    "    rmin, rmax = np.where(r)[0][[0, -1]]\n",
    "    cmin, cmax = np.where(c)[0][[0, -1]]\n",
    "    zmin, zmax = np.where(z)[0][[0, -1]]\n",
    "\n",
    "    return (rmin, rmax + 1), (cmin, cmax + 1), (zmin, zmax + 1)"
   ]
  },
  {
   "cell_type": "markdown",
   "metadata": {},
   "source": [
    "Let's look at which annotations split into 2 or more labels after skimage.label. "
   ]
  },
  {
   "cell_type": "code",
   "execution_count": 11,
   "metadata": {},
   "outputs": [],
   "source": [
    "problematic_annotations = [get_unique_overlap(annotation_collman, annotation_labels, i) for i in uniques[1:]]"
   ]
  },
  {
   "cell_type": "code",
   "execution_count": 12,
   "metadata": {},
   "outputs": [],
   "source": [
    "problematic_annotations = list(filter(None, problematic_annotations))"
   ]
  },
  {
   "cell_type": "code",
   "execution_count": 13,
   "metadata": {
    "scrolled": false
   },
   "outputs": [
    {
     "data": {
      "text/plain": [
       "[(2, 2),\n",
       " (4, 2),\n",
       " (5, 2),\n",
       " (6, 2),\n",
       " (8, 2),\n",
       " (16, 2),\n",
       " (17, 2),\n",
       " (19, 4),\n",
       " (24, 2),\n",
       " (25, 3),\n",
       " (28, 2),\n",
       " (38, 2),\n",
       " (40, 2),\n",
       " (45, 2),\n",
       " (51, 2),\n",
       " (53, 2),\n",
       " (54, 2),\n",
       " (55, 2),\n",
       " (56, 2),\n",
       " (63, 2),\n",
       " (65, 4),\n",
       " (77, 2),\n",
       " (83, 3),\n",
       " (85, 6),\n",
       " (103, 2),\n",
       " (112, 2),\n",
       " (135, 2),\n",
       " (137, 2),\n",
       " (138, 2),\n",
       " (140, 2),\n",
       " (143, 2),\n",
       " (159, 2),\n",
       " (160, 2),\n",
       " (165, 3),\n",
       " (175, 3),\n",
       " (179, 2),\n",
       " (187, 3),\n",
       " (188, 2),\n",
       " (193, 2),\n",
       " (203, 2),\n",
       " (204, 2),\n",
       " (218, 2),\n",
       " (219, 3),\n",
       " (221, 2),\n",
       " (223, 2),\n",
       " (226, 2),\n",
       " (230, 2),\n",
       " (231, 2),\n",
       " (235, 2),\n",
       " (236, 2),\n",
       " (237, 3)]"
      ]
     },
     "execution_count": 13,
     "metadata": {},
     "output_type": "execute_result"
    }
   ],
   "source": [
    "problematic_annotations"
   ]
  },
  {
   "cell_type": "markdown",
   "metadata": {},
   "source": [
    "Let's look at annotation 85. This has 6 separate labels in one annotation. Basically, this synapse is part of the same pre-synaptic and post-synaptic cell, but it has few common characteristics:\n",
    "  1. Synapse starts out at 2 different places.\n",
    "  2. It skips a couple of Z slices\n",
    "  3. Some annotations do not overlap at all\n",
    "  \n",
    "Plots below show individual labels with different colors.\n",
    "\n",
    "https://viz.boss.neurodata.io/#!{'layers':{'annotation':{'type':'segmentation'_'source':'boss://https://api.boss.neurodata.io/collman/collman15v2/annotation?'}_'EM25K':{'type':'image'_'source':'boss://https://api.boss.neurodata.io/collman/collman15v2/EM25K'_'opacity':0.56}}_'navigation':{'pose':{'position':{'voxelSize':[2.240000009536743_2.240000009536743_70]_'voxelCoordinates':[4024.9990234375_2660.99951171875_11]}}_'zoomFactor':2.240000009536743}}"
   ]
  },
  {
   "cell_type": "code",
   "execution_count": 14,
   "metadata": {},
   "outputs": [
    {
     "name": "stdout",
     "output_type": "stream",
     "text": [
      "(11, 19) (2527, 2683) (3916, 4214)\n"
     ]
    }
   ],
   "source": [
    "z, y, x = bbox_3D(annotation_collman == 85)\n",
    "print(z, y, x)"
   ]
  },
  {
   "cell_type": "code",
   "execution_count": 15,
   "metadata": {},
   "outputs": [
    {
     "data": {
      "image/png": "[encoded data removed]",
      "text/plain": [
       "<matplotlib.figure.Figure at 0x10450cd30>"
      ]
     },
     "metadata": {},
     "output_type": "display_data"
    },
    {
     "data": {
      "image/png": "[encoded data removed]",
      "text/plain": [
       "<matplotlib.figure.Figure at 0x107307f98>"
      ]
     },
     "metadata": {},
     "output_type": "display_data"
    },
    {
     "data": {
      "image/png": "[encoded data removed]",
      "text/plain": [
       "<matplotlib.figure.Figure at 0x1075a5208>"
      ]
     },
     "metadata": {},
     "output_type": "display_data"
    },
    {
     "data": {
      "image/png": "[encoded data removed]",
      "text/plain": [
       "<matplotlib.figure.Figure at 0x108956eb8>"
      ]
     },
     "metadata": {},
     "output_type": "display_data"
    },
    {
     "data": {
      "image/png": "[encoded data removed]",
      "text/plain": [
       "<matplotlib.figure.Figure at 0x1072c1208>"
      ]
     },
     "metadata": {},
     "output_type": "display_data"
    },
    {
     "data": {
      "image/png": "[encoded data removed]",
      "text/plain": [
       "<matplotlib.figure.Figure at 0x1088a9e48>"
      ]
     },
     "metadata": {},
     "output_type": "display_data"
    },
    {
     "data": {
      "image/png": "[encoded data removed]",
      "text/plain": [
       "<matplotlib.figure.Figure at 0x104530128>"
      ]
     },
     "metadata": {},
     "output_type": "display_data"
    },
    {
     "data": {
      "image/png": "[encoded data removed]",
      "text/plain": [
       "<matplotlib.figure.Figure at 0x107d97630>"
      ]
     },
     "metadata": {},
     "output_type": "display_data"
    }
   ],
   "source": [
    "data = np.multiply(annotation_collman == 85, annotation_labels)[z[0]:z[1], y[0]:y[1], x[0]:x[1]]\n",
    "\n",
    "cmap, norm = from_levels_and_colors(np.unique(data),['black','red', 'green','blue', 'yellow', 'cyan'])\n",
    "\n",
    "for i in data:\n",
    "    plt.figure()\n",
    "    plt.imshow(i, cmap=cmap, norm=norm)\n",
    "    plt.show()"
   ]
  },
  {
   "cell_type": "markdown",
   "metadata": {},
   "source": [
    "Let's look at annotation 65. This has 4 separate labels in one annotation. Similar to synapse 85:\n",
    "  1. Synapse starts out at 1 place, but separates into 3 in one slice.\n",
    "  2. Some annotations do not overlap at all\n",
    " \n",
    "https://viz.boss.neurodata.io/#!{'layers':{'annotation':{'type':'segmentation'_'source':'boss://https://api.boss.neurodata.io/collman/collman15v2/annotation?'}_'EM25K':{'type':'image'_'source':'boss://https://api.boss.neurodata.io/collman/collman15v2/EM25K'_'opacity':0.56}}_'navigation':{'pose':{'position':{'voxelSize':[2.240000009536743_2.240000009536743_70]_'voxelCoordinates':[5868.00146484375_1267.9971923828125_23]}}_'zoomFactor':2.240000009536743}}"
   ]
  },
  {
   "cell_type": "code",
   "execution_count": 16,
   "metadata": {},
   "outputs": [
    {
     "name": "stdout",
     "output_type": "stream",
     "text": [
      "(21, 26) (977, 1296) (5822, 6001)\n"
     ]
    }
   ],
   "source": [
    "z, y, x = bbox_3D(annotation_collman == 65)\n",
    "print(z, y, x)"
   ]
  },
  {
   "cell_type": "code",
   "execution_count": 17,
   "metadata": {},
   "outputs": [
    {
     "data": {
      "image/png": "[encoded data removed]",
      "text/plain": [
       "<matplotlib.figure.Figure at 0x10895bf28>"
      ]
     },
     "metadata": {},
     "output_type": "display_data"
    },
    {
     "data": {
      "image/png": "[encoded data removed]",
      "text/plain": [
       "<matplotlib.figure.Figure at 0x108019860>"
      ]
     },
     "metadata": {},
     "output_type": "display_data"
    },
    {
     "data": {
      "image/png": "[encoded data removed]",
      "text/plain": [
       "<matplotlib.figure.Figure at 0x107eb5748>"
      ]
     },
     "metadata": {},
     "output_type": "display_data"
    },
    {
     "data": {
      "image/png": "[encoded data removed]",
      "text/plain": [
       "<matplotlib.figure.Figure at 0x1080bd828>"
      ]
     },
     "metadata": {},
     "output_type": "display_data"
    },
    {
     "data": {
      "image/png": "[encoded data removed]",
      "text/plain": [
       "<matplotlib.figure.Figure at 0x10843b780>"
      ]
     },
     "metadata": {},
     "output_type": "display_data"
    }
   ],
   "source": [
    "data = np.multiply(annotation_collman == 65, annotation_labels)[z[0]:z[1], y[0]:y[1], x[0]:x[1]]\n",
    "\n",
    "cmap, norm = from_levels_and_colors(np.unique(data),['black','red', 'green','blue'])\n",
    "\n",
    "for i in data:\n",
    "    plt.figure()\n",
    "    plt.imshow(i, cmap=cmap, norm=norm)\n",
    "    plt.show()"
   ]
  },
  {
   "cell_type": "markdown",
   "metadata": {},
   "source": [
    "Let's look at annotation 19. This has 4 separate labels in one annotation. Similar to synapse 65:\n",
    "  1. Synapse 19 starts at two different places and merge into 1.\n",
    "  2. Annotations in different z slices do not necessarily overlap.\n",
    "  \n",
    "https://viz.boss.neurodata.io/#!{'layers':{'annotation':{'type':'segmentation'_'source':'boss://https://api.boss.neurodata.io/collman/collman15v2/annotation?'}_'EM25K':{'type':'image'_'source':'boss://https://api.boss.neurodata.io/collman/collman15v2/EM25K'_'opacity':0.56}}_'navigation':{'pose':{'position':{'voxelSize':[2.240000009536743_2.240000009536743_70]_'voxelCoordinates':[520.0012817382812_2558.995361328125_0]}}_'zoomFactor':2.240000009536743}}"
   ]
  },
  {
   "cell_type": "code",
   "execution_count": 18,
   "metadata": {},
   "outputs": [
    {
     "name": "stdout",
     "output_type": "stream",
     "text": [
      "(0, 4) (2486, 2592) (318, 616)\n"
     ]
    }
   ],
   "source": [
    "z, y, x = bbox_3D(annotation_collman == 19)\n",
    "print(z, y, x)"
   ]
  },
  {
   "cell_type": "code",
   "execution_count": 19,
   "metadata": {},
   "outputs": [
    {
     "data": {
      "image/png": "[encoded data removed]",
      "text/plain": [
       "<matplotlib.figure.Figure at 0x108c6cc88>"
      ]
     },
     "metadata": {},
     "output_type": "display_data"
    },
    {
     "data": {
      "image/png": "[encoded data removed]",
      "text/plain": [
       "<matplotlib.figure.Figure at 0x108ce2898>"
      ]
     },
     "metadata": {},
     "output_type": "display_data"
    },
    {
     "data": {
      "image/png": "[encoded data removed]",
      "text/plain": [
       "<matplotlib.figure.Figure at 0x108b5ca58>"
      ]
     },
     "metadata": {},
     "output_type": "display_data"
    },
    {
     "data": {
      "image/png": "[encoded data removed]",
      "text/plain": [
       "<matplotlib.figure.Figure at 0x10843b128>"
      ]
     },
     "metadata": {},
     "output_type": "display_data"
    }
   ],
   "source": [
    "data = np.multiply(annotation_collman == 19, annotation_labels)[z[0]:z[1], y[0]:y[1], x[0]:x[1]]\n",
    "\n",
    "cmap, norm = from_levels_and_colors(np.unique(data),['black','red', 'green','blue'])\n",
    "\n",
    "for i in data:\n",
    "    plt.figure()\n",
    "    plt.imshow(i, cmap=cmap, norm=norm)\n",
    "    plt.show()"
   ]
  },
  {
   "cell_type": "markdown",
   "metadata": {},
   "source": [
    "Let's look at annotation 112. This has 2 separate labels in one annotation. Again:\n",
    "  1. Annotations in different z slices do not necessarily overlap.\n",
    "\n",
    "https://viz.boss.neurodata.io/#!{'layers':{'annotation':{'type':'segmentation'_'source':'boss://https://api.boss.neurodata.io/collman/collman15v2/annotation?'}_'EM25K':{'type':'image'_'source':'boss://https://api.boss.neurodata.io/collman/collman15v2/EM25K'_'opacity':0.56}}_'navigation':{'pose':{'position':{'voxelSize':[2.240000009536743_2.240000009536743_70]_'voxelCoordinates':[2414.000244140625_3195.99560546875_19]}}_'zoomFactor':2.240000009536743}}"
   ]
  },
  {
   "cell_type": "code",
   "execution_count": 20,
   "metadata": {},
   "outputs": [
    {
     "name": "stdout",
     "output_type": "stream",
     "text": [
      "(19, 24) (3003, 3222) (2286, 2463)\n"
     ]
    }
   ],
   "source": [
    "z, y, x = bbox_3D(annotation_collman == 112)\n",
    "print(z, y, x)"
   ]
  },
  {
   "cell_type": "code",
   "execution_count": 22,
   "metadata": {},
   "outputs": [
    {
     "data": {
      "image/png": "[encoded data removed]",
      "text/plain": [
       "<matplotlib.figure.Figure at 0x104512630>"
      ]
     },
     "metadata": {},
     "output_type": "display_data"
    },
    {
     "data": {
      "image/png": "[encoded data removed]",
      "text/plain": [
       "<matplotlib.figure.Figure at 0x1084124a8>"
      ]
     },
     "metadata": {},
     "output_type": "display_data"
    },
    {
     "data": {
      "image/png": "[encoded data removed]",
      "text/plain": [
       "<matplotlib.figure.Figure at 0x107548f28>"
      ]
     },
     "metadata": {},
     "output_type": "display_data"
    },
    {
     "data": {
      "image/png": "[encoded data removed]",
      "text/plain": [
       "<matplotlib.figure.Figure at 0x107e9afd0>"
      ]
     },
     "metadata": {},
     "output_type": "display_data"
    },
    {
     "data": {
      "image/png": "[encoded data removed]",
      "text/plain": [
       "<matplotlib.figure.Figure at 0x10750bc50>"
      ]
     },
     "metadata": {},
     "output_type": "display_data"
    }
   ],
   "source": [
    "data = np.multiply(annotation_collman == 112, annotation_labels)[z[0]:z[1], y[0]:y[1], x[0]:x[1]]\n",
    "\n",
    "cmap, norm = from_levels_and_colors(np.unique(data),['black','red'])\n",
    "\n",
    "for i in data:\n",
    "    plt.figure()\n",
    "    plt.imshow(i, cmap=cmap, norm=norm)\n",
    "    plt.show()"
   ]
  },
  {
   "cell_type": "code",
   "execution_count": null,
   "metadata": {
    "collapsed": true
   },
   "outputs": [],
   "source": []
  }
 ],
 "metadata": {
  "kernelspec": {
   "display_name": "Python [default]",
   "language": "python",
   "name": "python3"
  },
  "language_info": {
   "codemirror_mode": {
    "name": "ipython",
    "version": 3
   },
   "file_extension": ".py",
   "mimetype": "text/x-python",
   "name": "python",
   "nbconvert_exporter": "python",
   "pygments_lexer": "ipython3",
   "version": "3.6.1"
  }
 },
 "nbformat": 4,
 "nbformat_minor": 2
}
