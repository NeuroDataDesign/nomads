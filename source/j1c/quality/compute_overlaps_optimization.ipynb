{
 "cells": [
  {
   "cell_type": "markdown",
   "metadata": {},
   "source": [
    "## Compute_overlap_array is too slow when comparing two annotation volumes\n",
    "\n",
    "In fact, the time is almost quadratic in relation to the array size and linearly in relation to number of annotations. We can get close to linear time given two annotation volumes by:\n",
    "  1. Create a tight bounding box around a prediction or a ground truth\n",
    "  2. Calculate the overlaps only on the bounding box volume."
   ]
  },
  {
   "cell_type": "code",
   "execution_count": 1,
   "metadata": {
    "collapsed": true
   },
   "outputs": [],
   "source": [
    "import numpy as np\n",
    "from skimage.measure import label\n",
    "\n",
    "import sys\n",
    "sys.path.append('../../bstadt/Quality/')\n",
    "\n",
    "from Quality import compute_overlap_array"
   ]
  },
  {
   "cell_type": "code",
   "execution_count": 26,
   "metadata": {
    "collapsed": true
   },
   "outputs": [],
   "source": [
    "import numpy as np\n",
    "from skimage.measure import label\n",
    "\n",
    "def bounding_box(img):\n",
    "    \"\"\"\n",
    "    Returns the z, y, x vectors that create a bounding box\n",
    "    of a mask.\n",
    "    \"\"\"\n",
    "    z = np.any(img, axis=(1, 2))\n",
    "    y = np.any(img, axis=(0, 2))\n",
    "    x = np.any(img, axis=(0, 1))\n",
    "\n",
    "    zmin, zmax = np.where(z)[0][[0, -1]]\n",
    "    ymin, ymax = np.where(y)[0][[0, -1]]\n",
    "    xmin, xmax = np.where(x)[0][[0, -1]]\n",
    "\n",
    "    return (zmin, zmax + 1), (ymin, ymax + 1), (xmin, xmax + 1)\n",
    "\n",
    "\n",
    "def get_uniques(ar):\n",
    "    \"\"\"\n",
    "    Returns an ordered numpy array of unique integers in an array.\n",
    "    This runs about four times faster than numpy.unique().\n",
    "\n",
    "    Parameters\n",
    "    ----------\n",
    "    ar : array_like\n",
    "        Input array. This will be flattened.\n",
    "\n",
    "    Returns\n",
    "    -------\n",
    "    uniques : ndarray\n",
    "        The sorted unique values.\n",
    "    \"\"\"\n",
    "    bins = np.zeros(np.max(ar) + 1, dtype=int)\n",
    "    bins[ar.ravel()] = 1\n",
    "    uniques = np.nonzero(bins)[0]\n",
    "\n",
    "    return uniques\n",
    "\n",
    "\n",
    "def get_unique_overlap2(foreground, background, i):\n",
    "    '''\n",
    "    Calculates the number of unique background labels in the foreground at i\n",
    "    Does not count background label of 0\n",
    "    '''\n",
    "    z, y, x = bounding_box(foreground == i)\n",
    "    \n",
    "    foreground = foreground[z[0]:z[1], y[0]:y[1], x[0]:x[1]]\n",
    "    background = background[z[0]:z[1], y[0]:y[1], x[0]:x[1]]\n",
    "    \n",
    "    overlaps = np.multiply((foreground == i), background)\n",
    "    uniques = get_uniques(overlaps)\n",
    "\n",
    "    num_unique = len(uniques)\n",
    "\n",
    "    #0 is background label\n",
    "    #should not count as a detection if\n",
    "    #the prediction overlaps with the background\n",
    "    if 0 in uniques:\n",
    "        num_unique -= 1\n",
    "\n",
    "    return num_unique\n",
    "\n",
    "\n",
    "def compute_overlap_array2(predictions, gt, compare_annotations=False):\n",
    "    if not compare_annotations:\n",
    "        predictions = label(predictions)\n",
    "        prediction_uniques = get_uniques(predictions)[1:]\n",
    "    elif compare_annotations:\n",
    "        prediction_uniques = get_uniques(predictions)\n",
    "\n",
    "    gt_uniques = get_uniques(gt)[1:]\n",
    "\n",
    "    #first, look at how many unique predictions\n",
    "    #overlap with a single gt synapse\n",
    "    predictionPerGt = [get_unique_overlap2(gt, predictions, i)\n",
    "                       for i in gt_uniques]\n",
    "\n",
    "    #next, look at how many unique synapses overlap\n",
    "    #with a single synapse prediction\n",
    "    gtPerPrediction = [get_unique_overlap2(predictions, gt, i)\n",
    "                       for i in prediction_uniques]\n",
    "\n",
    "    return {'predictionPerGt': predictionPerGt,\n",
    "            'gtPerPrediction': gtPerPrediction}\n"
   ]
  },
  {
   "cell_type": "code",
   "execution_count": 5,
   "metadata": {
    "collapsed": true
   },
   "outputs": [],
   "source": [
    "file = np.load('../data/collman15v2.npz')\n",
    "collman_annotation = file['annotation']\n",
    "\n",
    "file = np.load('../../dmannan/Annotations/annotation_drishti.npz')\n",
    "drishti_annotation = file['annotation_drishti']"
   ]
  },
  {
   "cell_type": "markdown",
   "metadata": {},
   "source": [
    "First make sure the outputs are the same"
   ]
  },
  {
   "cell_type": "code",
   "execution_count": 27,
   "metadata": {},
   "outputs": [
    {
     "data": {
      "text/plain": [
       "True"
      ]
     },
     "execution_count": 27,
     "metadata": {},
     "output_type": "execute_result"
    }
   ],
   "source": [
    "compute_overlap_array(drishti_annotation[0:10, 1000:2000, 1000:2000], \\\n",
    "                           collman_annotation[0:10, 1000:2000, 1000:2000])\\\n",
    "== compute_overlap_array2(drishti_annotation[0:10, 1000:2000, 1000:2000], \\\n",
    "                           collman_annotation[0:10, 1000:2000, 1000:2000])"
   ]
  },
  {
   "cell_type": "markdown",
   "metadata": {},
   "source": [
    "For array size (10, 1000, 1000), it takes:\n",
    "  1. without bounding box: 1.17s\n",
    "  2. with bounding box: 409ms"
   ]
  },
  {
   "cell_type": "code",
   "execution_count": 15,
   "metadata": {},
   "outputs": [
    {
     "name": "stdout",
     "output_type": "stream",
     "text": [
      "1.17 s ± 34.6 ms per loop (mean ± std. dev. of 7 runs, 1 loop each)\n"
     ]
    }
   ],
   "source": [
    "%timeit -n1 compute_overlap_array(drishti_annotation[0:10, 1000:2000, 1000:2000], \\\n",
    "                           collman_annotation[0:10, 1000:2000, 1000:2000])"
   ]
  },
  {
   "cell_type": "code",
   "execution_count": 16,
   "metadata": {},
   "outputs": [
    {
     "name": "stdout",
     "output_type": "stream",
     "text": [
      "409 ms ± 14 ms per loop (mean ± std. dev. of 7 runs, 1 loop each)\n"
     ]
    }
   ],
   "source": [
    "%timeit -n1 compute_overlap_array2(drishti_annotation[0:10, 1000:2000, 1000:2000], \\\n",
    "                           collman_annotation[0:10, 1000:2000, 1000:2000])"
   ]
  },
  {
   "cell_type": "markdown",
   "metadata": {},
   "source": [
    "For array size (10, 2000, 2000), which is 4 times larger than (10, 1000, 1000), it takes:\n",
    "  1. without bounding box: 15.2s\n",
    "  2. with bounding box: 3.15s"
   ]
  },
  {
   "cell_type": "code",
   "execution_count": 17,
   "metadata": {},
   "outputs": [
    {
     "name": "stdout",
     "output_type": "stream",
     "text": [
      "15.2 s ± 663 ms per loop (mean ± std. dev. of 7 runs, 1 loop each)\n"
     ]
    }
   ],
   "source": [
    "%timeit -n1 compute_overlap_array(drishti_annotation[0:10, 1000:3000, 1000:3000], \\\n",
    "                           collman_annotation[0:10, 1000:3000, 1000:3000])"
   ]
  },
  {
   "cell_type": "code",
   "execution_count": 18,
   "metadata": {},
   "outputs": [
    {
     "name": "stdout",
     "output_type": "stream",
     "text": [
      "3.15 s ± 106 ms per loop (mean ± std. dev. of 7 runs, 1 loop each)\n"
     ]
    }
   ],
   "source": [
    "%timeit -n1 compute_overlap_array2(drishti_annotation[0:10, 1000:3000, 1000:3000], \\\n",
    "                           collman_annotation[0:10, 1000:3000, 1000:3000])"
   ]
  },
  {
   "cell_type": "markdown",
   "metadata": {},
   "source": [
    "For array size (20, 2000, 2000), which is 8 times larger than (10, 1000, 1000), it takes:\n",
    "  1. without bounding box: 63s\n",
    "  2. with bounding box: 11.6s"
   ]
  },
  {
   "cell_type": "code",
   "execution_count": 19,
   "metadata": {},
   "outputs": [
    {
     "name": "stdout",
     "output_type": "stream",
     "text": [
      "1min 3s ± 6.35 s per loop (mean ± std. dev. of 7 runs, 1 loop each)\n"
     ]
    }
   ],
   "source": [
    "%timeit -n1 compute_overlap_array(drishti_annotation[0:20, 1000:3000, 1000:3000], \\\n",
    "                           collman_annotation[0:20, 1000:3000, 1000:3000])"
   ]
  },
  {
   "cell_type": "code",
   "execution_count": 20,
   "metadata": {},
   "outputs": [
    {
     "name": "stdout",
     "output_type": "stream",
     "text": [
      "11.6 s ± 956 ms per loop (mean ± std. dev. of 7 runs, 1 loop each)\n"
     ]
    }
   ],
   "source": [
    "%timeit -n1 compute_overlap_array2(drishti_annotation[0:20, 1000:3000, 1000:3000], \\\n",
    "                           collman_annotation[0:20, 1000:3000, 1000:3000])"
   ]
  },
  {
   "cell_type": "markdown",
   "metadata": {},
   "source": [
    "Not really going to compare the entire volume since it takes about two hours to run."
   ]
  },
  {
   "cell_type": "code",
   "execution_count": null,
   "metadata": {
    "collapsed": true
   },
   "outputs": [],
   "source": []
  }
 ],
 "metadata": {
  "kernelspec": {
   "display_name": "Python [default]",
   "language": "python",
   "name": "python3"
  },
  "language_info": {
   "codemirror_mode": {
    "name": "ipython",
    "version": 3
   },
   "file_extension": ".py",
   "mimetype": "text/x-python",
   "name": "python",
   "nbconvert_exporter": "python",
   "pygments_lexer": "ipython3",
   "version": "3.6.1"
  }
 },
 "nbformat": 4,
 "nbformat_minor": 2
}
